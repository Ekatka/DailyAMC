{
 "cells": [
  {
   "cell_type": "code",
   "execution_count": 4,
   "outputs": [],
   "source": [
    "import os\n",
    "\n",
    "from bs4 import BeautifulSoup  # library for working with html\n",
    "from urllib.request import Request, urlopen\n",
    "import re\n",
    "import wget\n"
   ],
   "metadata": {
    "collapsed": false
   }
  },
  {
   "cell_type": "code",
   "execution_count": 29,
   "outputs": [],
   "source": [
    " #working with urls\n",
    "\n",
    "currentUrl = \"https://artofproblemsolving.com/wiki/index.php/2022_AMC_12A_Problems/Problem_16\"  # later will change last number in problem\n",
    "\n",
    "req = Request(  # getting the html\n",
    "    url=currentUrl,\n",
    "    headers={'User-Agent': 'Mozilla/5.0'}  # else throws 403\n",
    ")\n",
    "webpage = urlopen(req).read()\n",
    "soup = BeautifulSoup(webpage, \"html.parser\")\n"
   ],
   "metadata": {
    "collapsed": false
   }
  },
  {
   "cell_type": "code",
   "execution_count": 30,
   "outputs": [
    {
     "name": "stdout",
     "output_type": "stream",
     "text": [
      "\n",
      "\n"
     ]
    }
   ],
   "source": [
    "problemHTML = '<span class=\"mw-headline\" id=\"Problem\">Problem</span>'\n",
    "problemTitle = soup.find(id=\"Problem\")\n",
    "print(soup.find(id=\"Problem\").parent.next_sibling)\n"
   ],
   "metadata": {
    "collapsed": false
   }
  },
  {
   "cell_type": "code",
   "execution_count": 31,
   "outputs": [
    {
     "name": "stdout",
     "output_type": "stream",
     "text": [
      "<p>A <img alt=\"$\\emph{triangular number}$\" class=\"latex\" height=\"17\" src=\"//latex.artofproblemsolving.com/f/a/9/fa9c60dfec433cfc429e75077f024649a7df64f4.png\" style=\"vertical-align: -4px\" width=\"133\"> is a positive integer that can be expressed in the form <img alt=\"$t_n = 1+2+3+\\cdots+n$\" class=\"latex\" height=\"17\" src=\"//latex.artofproblemsolving.com/9/d/5/9d5608b150a01243cf4bf6edb2073184ae30f5ab.png\" style=\"vertical-align: -4px\" width=\"190\"/>, for some positive integer <img alt=\"$n$\" class=\"latex\" height=\"8\" src=\"//latex.artofproblemsolving.com/1/7/4/174fadd07fd54c9afe288e96558c92e0c1da733a.png\" width=\"10\"/>. The three smallest triangular numbers that are also perfect squares are\n",
      "<img alt=\"$t_1 = 1 = 1^2$\" class=\"latex\" height=\"20\" src=\"//latex.artofproblemsolving.com/f/7/c/f7c2bf9b74663cbbe1032a94b651160b2fb1231e.png\" style=\"vertical-align: -4px\" width=\"90\"/>, <img alt=\"$t_8 = 36 = 6^2$\" class=\"latex\" height=\"20\" src=\"//latex.artofproblemsolving.com/4/d/f/4df1e503cf50b8eb2e3e107ab48553e2744b07af.png\" style=\"vertical-align: -4px\" width=\"99\"/>, and <img alt=\"$t_{49} = 1225 = 35^2$\" class=\"latex\" height=\"20\" src=\"//latex.artofproblemsolving.com/3/b/e/3be623973c32db9c582d58eb9abd8bf8e547d932.png\" style=\"vertical-align: -4px\" width=\"133\"/>. What is the sum of the digits of the fourth smallest triangular number that is also a perfect square?\n",
      "</img></p>\n"
     ]
    }
   ],
   "source": [
    "CurrentLine = soup.find(id=\"Problem\").parent.nextSibling.nextSibling\n",
    "ProblemStatement = [str(CurrentLine)]\n",
    "print(CurrentLine)"
   ],
   "metadata": {
    "collapsed": false
   }
  },
  {
   "cell_type": "code",
   "execution_count": 32,
   "outputs": [
    {
     "name": "stdout",
     "output_type": "stream",
     "text": [
      "<p>A <img alt=\"$\\emph{triangular number}$\" class=\"latex\" height=\"17\" src=\"//latex.artofproblemsolving.com/f/a/9/fa9c60dfec433cfc429e75077f024649a7df64f4.png\" style=\"vertical-align: -4px\" width=\"133\"> is a positive integer that can be expressed in the form <img alt=\"$t_n = 1+2+3+\\cdots+n$\" class=\"latex\" height=\"17\" src=\"//latex.artofproblemsolving.com/9/d/5/9d5608b150a01243cf4bf6edb2073184ae30f5ab.png\" style=\"vertical-align: -4px\" width=\"190\"/>, for some positive integer <img alt=\"$n$\" class=\"latex\" height=\"8\" src=\"//latex.artofproblemsolving.com/1/7/4/174fadd07fd54c9afe288e96558c92e0c1da733a.png\" width=\"10\"/>. The three smallest triangular numbers that are also perfect squares are\n",
      "<img alt=\"$t_1 = 1 = 1^2$\" class=\"latex\" height=\"20\" src=\"//latex.artofproblemsolving.com/f/7/c/f7c2bf9b74663cbbe1032a94b651160b2fb1231e.png\" style=\"vertical-align: -4px\" width=\"90\"/>, <img alt=\"$t_8 = 36 = 6^2$\" class=\"latex\" height=\"20\" src=\"//latex.artofproblemsolving.com/4/d/f/4df1e503cf50b8eb2e3e107ab48553e2744b07af.png\" style=\"vertical-align: -4px\" width=\"99\"/>, and <img alt=\"$t_{49} = 1225 = 35^2$\" class=\"latex\" height=\"20\" src=\"//latex.artofproblemsolving.com/3/b/e/3be623973c32db9c582d58eb9abd8bf8e547d932.png\" style=\"vertical-align: -4px\" width=\"133\"/>. What is the sum of the digits of the fourth smallest triangular number that is also a perfect square?\n",
      "</img></p>\n"
     ]
    }
   ],
   "source": [
    "pattern = r'textbf\\{\\(A'\n",
    "print(CurrentLine)"
   ],
   "metadata": {
    "collapsed": false
   }
  },
  {
   "cell_type": "code",
   "execution_count": 33,
   "outputs": [
    {
     "name": "stdout",
     "output_type": "stream",
     "text": [
      "1\n",
      "1\n",
      "1\n",
      "1\n",
      "1\n",
      "1\n",
      "1\n",
      "1\n",
      "1\n",
      "1\n",
      "1\n",
      "1\n",
      "1\n",
      "1\n",
      "1\n",
      "1\n",
      "1\n",
      "1\n",
      "1\n",
      "1\n",
      "1\n",
      "1\n",
      "1\n",
      "1\n",
      "1\n",
      "1\n",
      "1\n",
      "1\n",
      "1\n",
      "1\n",
      "1\n",
      "1\n",
      "1\n",
      "1\n",
      "1\n",
      "1\n",
      "1\n",
      "1\n"
     ]
    },
    {
     "ename": "AttributeError",
     "evalue": "'NoneType' object has no attribute 'next_sibling'",
     "output_type": "error",
     "traceback": [
      "\u001B[0;31m---------------------------------------------------------------------------\u001B[0m",
      "\u001B[0;31mAttributeError\u001B[0m                            Traceback (most recent call last)",
      "Cell \u001B[0;32mIn[33], line 2\u001B[0m\n\u001B[1;32m      1\u001B[0m \u001B[38;5;28;01mwhile\u001B[39;00m \u001B[38;5;28mlen\u001B[39m(re\u001B[38;5;241m.\u001B[39mfindall(pattern, \u001B[38;5;28mstr\u001B[39m(CurrentLine))) \u001B[38;5;241m==\u001B[39m \u001B[38;5;241m0\u001B[39m:\n\u001B[0;32m----> 2\u001B[0m     NextLine \u001B[38;5;241m=\u001B[39m \u001B[43mCurrentLine\u001B[49m\u001B[38;5;241;43m.\u001B[39;49m\u001B[43mnext_sibling\u001B[49m\n\u001B[1;32m      3\u001B[0m     ProblemStatement\u001B[38;5;241m.\u001B[39mappend(\u001B[38;5;28mstr\u001B[39m(NextLine))\n\u001B[1;32m      4\u001B[0m     CurrentLine \u001B[38;5;241m=\u001B[39m NextLine\n",
      "\u001B[0;31mAttributeError\u001B[0m: 'NoneType' object has no attribute 'next_sibling'"
     ]
    }
   ],
   "source": [
    "while len(re.findall(pattern, str(CurrentLine))) == 0:\n",
    "    NextLine = CurrentLine.next_sibling\n",
    "    ProblemStatement.append(str(NextLine))\n",
    "    CurrentLine = NextLine\n",
    "    print(\"1\")\n"
   ],
   "metadata": {
    "collapsed": false
   }
  },
  {
   "cell_type": "code",
   "execution_count": 10,
   "outputs": [
    {
     "name": "stdout",
     "output_type": "stream",
     "text": [
      "<p>In <img alt=\"$\\triangle BAC$\" class=\"latex\" height=\"13\" src=\"//latex.artofproblemsolving.com/5/f/8/5f8106d761155c78be9c31cf6666818e88a1013f.png\" width=\"58\">, <img alt=\"$\\angle BAC=40^\\circ$\" class=\"latex\" height=\"13\" src=\"//latex.artofproblemsolving.com/7/9/b/79b8c0c4f224da467e14fec67208eacb047af42b.png\" style=\"vertical-align: 0px\" width=\"103\"/>, <img alt=\"$AB=10$\" class=\"latex\" height=\"13\" src=\"//latex.artofproblemsolving.com/6/c/4/6c4b41dd37dcc418b2bd81d72c4d763936a2fc76.png\" style=\"vertical-align: 0px\" width=\"70\"/>, and <img alt=\"$AC=6$\" class=\"latex\" height=\"13\" src=\"//latex.artofproblemsolving.com/b/a/a/baae3e2b0038d1c14b3b8f3ca091e6f180d0a116.png\" width=\"60\"/>.  Points <img alt=\"$D$\" class=\"latex\" height=\"12\" src=\"//latex.artofproblemsolving.com/9/f/f/9ffb448918db29f2a72f8f87f421b3b3cad18f95.png\" width=\"15\"/> and <img alt=\"$E$\" class=\"latex\" height=\"12\" src=\"//latex.artofproblemsolving.com/f/a/2/fa2fa899f0afb05d6837885523503a2d4df434f9.png\" width=\"14\"/> lie on <img alt=\"$\\overline{AB}$\" class=\"latex\" height=\"15\" src=\"//latex.artofproblemsolving.com/8/4/0/840e2b592390eb6ec918fa6f3292716ce170de66.png\" width=\"28\"/> and <img alt=\"$\\overline{AC}$\" class=\"latex\" height=\"15\" src=\"//latex.artofproblemsolving.com/1/2/5/12517bbc31cb9026c71299b7a0d232d07e60f284.png\" width=\"28\"/> respectively.  What is the minimum possible value of <img alt=\"$BE+DE+CD$\" class=\"latex\" height=\"14\" src=\"//latex.artofproblemsolving.com/4/4/9/449ea2f9c45624ffec02784f01d32b9db2a6bf38.png\" style=\"vertical-align: -1px\" width=\"133\"/>?\n",
      "</img></p>\n",
      "<p><img alt=\"$\\textbf{(A) }6\\sqrt 3+3\\qquad \\textbf{(B) }\\dfrac{27}2\\qquad \\textbf{(C) }8\\sqrt 3\\qquad \\textbf{(D) }14\\qquad \\textbf{(E) }3\\sqrt 3+9\\qquad$\" class=\"latex\" height=\"37\" src=\"//latex.artofproblemsolving.com/b/f/5/bf540f0244d09379897113a1a4428f221c1a860a.png\" style=\"vertical-align: -12px\" width=\"510\"/>\n",
      "</p>\n"
     ]
    }
   ],
   "source": [
    "# print(ProblemStatement)\n",
    "ProblemStatement = \"\\n\".join(ProblemStatement)\n",
    "print(ProblemStatement)"
   ],
   "metadata": {
    "collapsed": false
   }
  },
  {
   "cell_type": "code",
   "execution_count": 11,
   "outputs": [
    {
     "name": "stdout",
     "output_type": "stream",
     "text": [
      "2014\n",
      "20\n"
     ]
    }
   ],
   "source": [
    "import wget\n",
    "import requests\n",
    "from flask import Flask, request, render_template_string\n",
    "from PIL import Image\n",
    "import os\n",
    "import urllib\n",
    "\n",
    "yearpattern =r\"\\d{4}\"\n",
    "year = re.findall(yearpattern, currentUrl)[0]\n",
    "\n",
    "problemNumberPattern = r\"\\d{1,2}$\"\n",
    "problemNumber = re.findall(problemNumberPattern, currentUrl)[-1]\n",
    "print(year)\n",
    "print(problemNumber)\n",
    "dirName = year + \"_\" + problemNumber\n",
    "os.mkdir(f\"{dirName}\")\n",
    "os.mkdir(f\"{dirName}/images\")"
   ],
   "metadata": {
    "collapsed": false
   }
  },
  {
   "cell_type": "code",
   "execution_count": 12,
   "outputs": [],
   "source": [
    "opener = urllib.request.URLopener()\n",
    "opener.addheader('User-Agent', 'Mozilla/5.0')\n",
    "\n",
    "ProblemSoup = BeautifulSoup(ProblemStatement, 'html.parser')\n",
    "img_tags = ProblemSoup.find_all('img')\n",
    "urls = [img['src'] for img in img_tags]\n",
    "\n",
    "for idx, url in enumerate(urls):\n",
    "    url = url.replace(\"//\", \"http://\")\n",
    "    filename, headers = opener.retrieve(url, f\"{dirName}/images/{idx}.png\")\n",
    "\n",
    "for idx, img in enumerate(img_tags):\n",
    "    newPath = f\"{dirName}/images/{idx}.png\"\n",
    "    img[\"src\"] = newPath\n",
    "\n",
    "ProblemStatement = str(ProblemSoup)"
   ],
   "metadata": {
    "collapsed": false
   }
  },
  {
   "cell_type": "code",
   "execution_count": 13,
   "outputs": [],
   "source": [
    "\n",
    "problem = open(f\"{dirName}/ProblemStatement.html\", \"w\")\n",
    "problem.write(ProblemStatement)\n",
    "problem.close()"
   ],
   "metadata": {
    "collapsed": false
   }
  },
  {
   "cell_type": "code",
   "execution_count": 14,
   "outputs": [
    {
     "name": "stdout",
     "output_type": "stream",
     "text": [
      "https://artofproblemsolving.com/wiki/index.php/2020_AMC_12A_Problems/Problem_1\n",
      "\n",
      "https://artofproblemsolving.com/wiki/index.php/2020_AMC_12A_Problems/Problem_2\n",
      "\n",
      "https://artofproblemsolving.com/wiki/index.php/2020_AMC_12A_Problems/Problem_3\n",
      "\n",
      "https://artofproblemsolving.com/wiki/index.php/2020_AMC_12A_Problems/Problem_4\n",
      "\n",
      "https://artofproblemsolving.com/wiki/index.php/2020_AMC_12A_Problems/Problem_5\n",
      "\n",
      "https://artofproblemsolving.com/wiki/index.php/2020_AMC_12A_Problems/Problem_6\n",
      "\n",
      "https://artofproblemsolving.com/wiki/index.php/2020_AMC_12A_Problems/Problem_7\n",
      "\n",
      "https://artofproblemsolving.com/wiki/index.php/2020_AMC_12A_Problems/Problem_8\n",
      "\n",
      "https://artofproblemsolving.com/wiki/index.php/2020_AMC_12A_Problems/Problem_9\n",
      "\n",
      "https://artofproblemsolving.com/wiki/index.php/2020_AMC_12A_Problems/Problem_10\n",
      "\n",
      "https://artofproblemsolving.com/wiki/index.php/2020_AMC_12A_Problems/Problem_11\n",
      "\n",
      "https://artofproblemsolving.com/wiki/index.php/2020_AMC_12A_Problems/Problem_12\n",
      "\n",
      "https://artofproblemsolving.com/wiki/index.php/2020_AMC_12A_Problems/Problem_13\n",
      "\n",
      "https://artofproblemsolving.com/wiki/index.php/2020_AMC_12A_Problems/Problem_14\n",
      "\n",
      "https://artofproblemsolving.com/wiki/index.php/2020_AMC_12A_Problems/Problem_15\n",
      "\n",
      "https://artofproblemsolving.com/wiki/index.php/2020_AMC_12A_Problems/Problem_16\n",
      "\n",
      "https://artofproblemsolving.com/wiki/index.php/2020_AMC_12A_Problems/Problem_17\n",
      "\n",
      "https://artofproblemsolving.com/wiki/index.php/2020_AMC_12A_Problems/Problem_18\n",
      "\n",
      "https://artofproblemsolving.com/wiki/index.php/2020_AMC_12A_Problems/Problem_19\n",
      "\n",
      "https://artofproblemsolving.com/wiki/index.php/2020_AMC_12A_Problems/Problem_20\n",
      "\n",
      "https://artofproblemsolving.com/wiki/index.php/2020_AMC_12A_Problems/Problem_21\n",
      "\n",
      "https://artofproblemsolving.com/wiki/index.php/2020_AMC_12A_Problems/Problem_22\n",
      "\n",
      "https://artofproblemsolving.com/wiki/index.php/2020_AMC_12A_Problems/Problem_23\n",
      "\n",
      "https://artofproblemsolving.com/wiki/index.php/2020_AMC_12A_Problems/Problem_24\n",
      "\n",
      "https://artofproblemsolving.com/wiki/index.php/2020_AMC_12A_Problems/Problem_25\n",
      "\n"
     ]
    }
   ],
   "source": [
    "import re\n",
    "base_url = \"https://artofproblemsolving.com/wiki/index.php/2020_AMC_12A_Problems/Problem_1\"\n",
    "for i in range(25):\n",
    "    new_number = str(i+1)\n",
    "    pattern = re.compile(r'\\d+$')\n",
    "    new_string = pattern.sub(new_number, base_url)\n",
    "    print(new_string + \"\\n\")"
   ],
   "metadata": {
    "collapsed": false
   }
  },
  {
   "cell_type": "code",
   "execution_count": 15,
   "outputs": [],
   "source": [
    "def get_soup(link):  # returns soup of whole page\n",
    "\n",
    "    req = Request(  # getting the html\n",
    "        url=link,\n",
    "        headers={'User-Agent': 'Mozilla/5.0'}  # else throws 403\n",
    "    )\n",
    "    webpage = urlopen(req).read()\n",
    "    soup = BeautifulSoup(webpage, \"html.parser\")\n",
    "    return soup\n"
   ],
   "metadata": {
    "collapsed": false
   }
  },
  {
   "cell_type": "code",
   "execution_count": 27,
   "outputs": [
    {
     "ename": "KeyError",
     "evalue": "0",
     "output_type": "error",
     "traceback": [
      "\u001B[0;31m---------------------------------------------------------------------------\u001B[0m",
      "\u001B[0;31mKeyError\u001B[0m                                  Traceback (most recent call last)",
      "Cell \u001B[0;32mIn[27], line 5\u001B[0m\n\u001B[1;32m      3\u001B[0m answer_soup \u001B[38;5;241m=\u001B[39m get_soup(answers_url)\n\u001B[1;32m      4\u001B[0m answers \u001B[38;5;241m=\u001B[39m answer_soup\u001B[38;5;241m.\u001B[39mfind_all(\u001B[38;5;124m'\u001B[39m\u001B[38;5;124mli\u001B[39m\u001B[38;5;124m'\u001B[39m)\n\u001B[0;32m----> 5\u001B[0m \u001B[38;5;28mprint\u001B[39m(\u001B[43manswers\u001B[49m\u001B[43m[\u001B[49m\u001B[38;5;241;43m2\u001B[39;49m\u001B[43m]\u001B[49m\u001B[43m[\u001B[49m\u001B[38;5;241;43m0\u001B[39;49m\u001B[43m]\u001B[49m)\n",
      "File \u001B[0;32m/usr/lib/python3/dist-packages/bs4/element.py:1321\u001B[0m, in \u001B[0;36mTag.__getitem__\u001B[0;34m(self, key)\u001B[0m\n\u001B[1;32m   1318\u001B[0m \u001B[38;5;28;01mdef\u001B[39;00m \u001B[38;5;21m__getitem__\u001B[39m(\u001B[38;5;28mself\u001B[39m, key):\n\u001B[1;32m   1319\u001B[0m     \u001B[38;5;124;03m\"\"\"tag[key] returns the value of the 'key' attribute for the Tag,\u001B[39;00m\n\u001B[1;32m   1320\u001B[0m \u001B[38;5;124;03m    and throws an exception if it's not there.\"\"\"\u001B[39;00m\n\u001B[0;32m-> 1321\u001B[0m     \u001B[38;5;28;01mreturn\u001B[39;00m \u001B[38;5;28;43mself\u001B[39;49m\u001B[38;5;241;43m.\u001B[39;49m\u001B[43mattrs\u001B[49m\u001B[43m[\u001B[49m\u001B[43mkey\u001B[49m\u001B[43m]\u001B[49m\n",
      "\u001B[0;31mKeyError\u001B[0m: 0"
     ]
    }
   ],
   "source": [
    "answers_url = f\"https://artofproblemsolving.com/wiki/index.php/{year}_AMC_12A_Answer_Key\"\n",
    "\n",
    "answer_soup = get_soup(answers_url)\n",
    "answers = answer_soup.find_all('li')\n"
   ],
   "metadata": {
    "collapsed": false
   }
  },
  {
   "cell_type": "code",
   "execution_count": 28,
   "outputs": [
    {
     "name": "stdout",
     "output_type": "stream",
     "text": [
      "C\n",
      "B\n",
      "B\n",
      "A\n",
      "C\n",
      "D\n",
      "A\n",
      "C\n",
      "B\n",
      "B\n",
      "C\n",
      "D\n",
      "B\n",
      "C\n",
      "B\n",
      "D\n",
      "A\n",
      "C\n",
      "E\n",
      "D\n",
      "A\n",
      "B\n",
      "B\n",
      "C\n",
      "B\n"
     ]
    }
   ],
   "source": [
    "for i in range(len(answers)):\n",
    "    print(answers[i].contents[0])"
   ],
   "metadata": {
    "collapsed": false
   }
  }
 ],
 "metadata": {
  "kernelspec": {
   "display_name": "Python 3",
   "language": "python",
   "name": "python3"
  },
  "language_info": {
   "codemirror_mode": {
    "name": "ipython",
    "version": 2
   },
   "file_extension": ".py",
   "mimetype": "text/x-python",
   "name": "python",
   "nbconvert_exporter": "python",
   "pygments_lexer": "ipython2",
   "version": "2.7.6"
  }
 },
 "nbformat": 4,
 "nbformat_minor": 0
}
