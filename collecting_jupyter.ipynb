{
 "cells": [
  {
   "cell_type": "code",
   "execution_count": 59,
   "outputs": [],
   "source": [
    "from bs4 import BeautifulSoup  # library for working with html\n",
    "from urllib.request import Request, urlopen\n",
    "import re\n"
   ],
   "metadata": {
    "collapsed": false
   }
  },
  {
   "cell_type": "code",
   "execution_count": 94,
   "outputs": [],
   "source": [
    " #working with urls\n",
    "\n",
    "currentUrl = \"https://artofproblemsolving.com/wiki/index.php/2020_AMC_12A_Problems/Problem_9\"  # later will change last number in problem\n",
    "\n",
    "req = Request(  # getting the html\n",
    "    url=currentUrl,\n",
    "    headers={'User-Agent': 'Mozilla/5.0'}  # else throws 403\n",
    ")\n",
    "webpage = urlopen(req).read()\n",
    "soup = BeautifulSoup(webpage, \"html.parser\")\n"
   ],
   "metadata": {
    "collapsed": false
   }
  },
  {
   "cell_type": "code",
   "execution_count": 95,
   "outputs": [
    {
     "name": "stdout",
     "output_type": "stream",
     "text": [
      "\n",
      "\n"
     ]
    }
   ],
   "source": [
    "problemHTML = '<span class=\"mw-headline\" id=\"Problem\">Problem</span>'\n",
    "problemTitle = soup.find(id=\"Problem\")\n",
    "print(soup.find(id=\"Problem\").parent.next_sibling)\n"
   ],
   "metadata": {
    "collapsed": false
   }
  },
  {
   "cell_type": "code",
   "execution_count": 96,
   "outputs": [
    {
     "name": "stdout",
     "output_type": "stream",
     "text": [
      "<p>How many solutions does the equation <img alt=\"$\\tan(2x)=\\cos(\\tfrac{x}{2})$\" class=\"latex\" height=\"20\" src=\"//latex.artofproblemsolving.com/3/0/f/30f3377d5d3de02ba154a81878c7b6d501119720.png\" style=\"vertical-align: -6px\" width=\"132\"> have on the interval <img alt=\"$[0,2\\pi]?$\" class=\"latex\" height=\"18\" src=\"//latex.artofproblemsolving.com/e/c/c/ecccefb4c460857891d99273237d9deb9ecf41c1.png\" style=\"vertical-align: -5px\" width=\"55\"/>\n",
      "</img></p>\n"
     ]
    }
   ],
   "source": [
    "CurrentLine = soup.find(id=\"Problem\").parent.nextSibling.nextSibling\n",
    "ProblemStatement = [CurrentLine]\n",
    "print(CurrentLine)"
   ],
   "metadata": {
    "collapsed": false
   }
  },
  {
   "cell_type": "code",
   "execution_count": 97,
   "outputs": [
    {
     "name": "stdout",
     "output_type": "stream",
     "text": [
      "<p>How many solutions does the equation <img alt=\"$\\tan(2x)=\\cos(\\tfrac{x}{2})$\" class=\"latex\" height=\"20\" src=\"//latex.artofproblemsolving.com/3/0/f/30f3377d5d3de02ba154a81878c7b6d501119720.png\" style=\"vertical-align: -6px\" width=\"132\"> have on the interval <img alt=\"$[0,2\\pi]?$\" class=\"latex\" height=\"18\" src=\"//latex.artofproblemsolving.com/e/c/c/ecccefb4c460857891d99273237d9deb9ecf41c1.png\" style=\"vertical-align: -5px\" width=\"55\"/>\n",
      "</img></p>\n"
     ]
    }
   ],
   "source": [
    "pattern = r'textbf\\{\\(A'\n",
    "print(CurrentLine)"
   ],
   "metadata": {
    "collapsed": false
   }
  },
  {
   "cell_type": "code",
   "execution_count": 98,
   "outputs": [
    {
     "name": "stdout",
     "output_type": "stream",
     "text": [
      "<class 'bs4.element.Tag'>\n",
      "[<p>How many solutions does the equation <img alt=\"$\\tan(2x)=\\cos(\\tfrac{x}{2})$\" class=\"latex\" height=\"20\" src=\"//latex.artofproblemsolving.com/3/0/f/30f3377d5d3de02ba154a81878c7b6d501119720.png\" style=\"vertical-align: -6px\" width=\"132\"> have on the interval <img alt=\"$[0,2\\pi]?$\" class=\"latex\" height=\"18\" src=\"//latex.artofproblemsolving.com/e/c/c/ecccefb4c460857891d99273237d9deb9ecf41c1.png\" style=\"vertical-align: -5px\" width=\"55\"/>\n",
      "</img></p>, <p><img alt=\"$\\textbf{(A)}\\ 1\\qquad\\textbf{(B)}\\ 2\\qquad\\textbf{(C)}\\ 3\\qquad\\textbf{(D)}\\ 4\\qquad\\textbf{(E)}\\ 5$\" class=\"latex\" height=\"17\" src=\"//latex.artofproblemsolving.com/9/9/5/9959d47fffb760b6cf89894df252b99436e4d8f5.png\" style=\"vertical-align: -4px\" width=\"348\"/>\n",
      "</p>]\n"
     ]
    }
   ],
   "source": [
    "while len(re.findall(pattern, str(CurrentLine))) == 0:\n",
    "    NextLine = CurrentLine.next_sibling\n",
    "    ProblemStatement.append(NextLine)\n",
    "    CurrentLine = NextLine\n",
    "print(ProblemStatement)"
   ],
   "metadata": {
    "collapsed": false
   }
  },
  {
   "cell_type": "code",
   "execution_count": 99,
   "outputs": [
    {
     "name": "stdout",
     "output_type": "stream",
     "text": [
      "[<p>How many solutions does the equation <img alt=\"$\\tan(2x)=\\cos(\\tfrac{x}{2})$\" class=\"latex\" height=\"20\" src=\"//latex.artofproblemsolving.com/3/0/f/30f3377d5d3de02ba154a81878c7b6d501119720.png\" style=\"vertical-align: -6px\" width=\"132\"> have on the interval <img alt=\"$[0,2\\pi]?$\" class=\"latex\" height=\"18\" src=\"//latex.artofproblemsolving.com/e/c/c/ecccefb4c460857891d99273237d9deb9ecf41c1.png\" style=\"vertical-align: -5px\" width=\"55\"/>\n",
      "</img></p>, <p><img alt=\"$\\textbf{(A)}\\ 1\\qquad\\textbf{(B)}\\ 2\\qquad\\textbf{(C)}\\ 3\\qquad\\textbf{(D)}\\ 4\\qquad\\textbf{(E)}\\ 5$\" class=\"latex\" height=\"17\" src=\"//latex.artofproblemsolving.com/9/9/5/9959d47fffb760b6cf89894df252b99436e4d8f5.png\" style=\"vertical-align: -4px\" width=\"348\"/>\n",
      "</p>]\n"
     ]
    }
   ],
   "source": [
    "print(ProblemStatement)"
   ],
   "metadata": {
    "collapsed": false
   }
  }
 ],
 "metadata": {
  "kernelspec": {
   "display_name": "Python 3",
   "language": "python",
   "name": "python3"
  },
  "language_info": {
   "codemirror_mode": {
    "name": "ipython",
    "version": 2
   },
   "file_extension": ".py",
   "mimetype": "text/x-python",
   "name": "python",
   "nbconvert_exporter": "python",
   "pygments_lexer": "ipython2",
   "version": "2.7.6"
  }
 },
 "nbformat": 4,
 "nbformat_minor": 0
}
