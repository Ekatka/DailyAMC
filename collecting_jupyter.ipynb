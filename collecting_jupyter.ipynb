{
 "cells": [
  {
   "cell_type": "code",
   "execution_count": 58,
   "outputs": [],
   "source": [
    "import os\n",
    "\n",
    "from bs4 import BeautifulSoup  # library for working with html\n",
    "from urllib.request import Request, urlopen\n",
    "import re\n",
    "import wget\n"
   ],
   "metadata": {
    "collapsed": false
   }
  },
  {
   "cell_type": "code",
   "execution_count": 80,
   "outputs": [],
   "source": [
    " #working with urls\n",
    "\n",
    "currentUrl = \"https://artofproblemsolving.com/wiki/index.php/2014_AMC_12A_Problems/Problem_20\"  # later will change last number in problem\n",
    "\n",
    "req = Request(  # getting the html\n",
    "    url=currentUrl,\n",
    "    headers={'User-Agent': 'Mozilla/5.0'}  # else throws 403\n",
    ")\n",
    "webpage = urlopen(req).read()\n",
    "soup = BeautifulSoup(webpage, \"html.parser\")\n"
   ],
   "metadata": {
    "collapsed": false
   }
  },
  {
   "cell_type": "code",
   "execution_count": 81,
   "outputs": [
    {
     "name": "stdout",
     "output_type": "stream",
     "text": [
      "\n",
      "\n"
     ]
    }
   ],
   "source": [
    "problemHTML = '<span class=\"mw-headline\" id=\"Problem\">Problem</span>'\n",
    "problemTitle = soup.find(id=\"Problem\")\n",
    "print(soup.find(id=\"Problem\").parent.next_sibling)\n"
   ],
   "metadata": {
    "collapsed": false
   }
  },
  {
   "cell_type": "code",
   "execution_count": 82,
   "outputs": [
    {
     "name": "stdout",
     "output_type": "stream",
     "text": [
      "<p>In <img alt=\"$\\triangle BAC$\" class=\"latex\" height=\"13\" src=\"//latex.artofproblemsolving.com/5/f/8/5f8106d761155c78be9c31cf6666818e88a1013f.png\" width=\"58\">, <img alt=\"$\\angle BAC=40^\\circ$\" class=\"latex\" height=\"13\" src=\"//latex.artofproblemsolving.com/7/9/b/79b8c0c4f224da467e14fec67208eacb047af42b.png\" style=\"vertical-align: 0px\" width=\"103\"/>, <img alt=\"$AB=10$\" class=\"latex\" height=\"13\" src=\"//latex.artofproblemsolving.com/6/c/4/6c4b41dd37dcc418b2bd81d72c4d763936a2fc76.png\" style=\"vertical-align: 0px\" width=\"70\"/>, and <img alt=\"$AC=6$\" class=\"latex\" height=\"13\" src=\"//latex.artofproblemsolving.com/b/a/a/baae3e2b0038d1c14b3b8f3ca091e6f180d0a116.png\" width=\"60\"/>.  Points <img alt=\"$D$\" class=\"latex\" height=\"12\" src=\"//latex.artofproblemsolving.com/9/f/f/9ffb448918db29f2a72f8f87f421b3b3cad18f95.png\" width=\"15\"/> and <img alt=\"$E$\" class=\"latex\" height=\"12\" src=\"//latex.artofproblemsolving.com/f/a/2/fa2fa899f0afb05d6837885523503a2d4df434f9.png\" width=\"14\"/> lie on <img alt=\"$\\overline{AB}$\" class=\"latex\" height=\"15\" src=\"//latex.artofproblemsolving.com/8/4/0/840e2b592390eb6ec918fa6f3292716ce170de66.png\" width=\"28\"/> and <img alt=\"$\\overline{AC}$\" class=\"latex\" height=\"15\" src=\"//latex.artofproblemsolving.com/1/2/5/12517bbc31cb9026c71299b7a0d232d07e60f284.png\" width=\"28\"/> respectively.  What is the minimum possible value of <img alt=\"$BE+DE+CD$\" class=\"latex\" height=\"14\" src=\"//latex.artofproblemsolving.com/4/4/9/449ea2f9c45624ffec02784f01d32b9db2a6bf38.png\" style=\"vertical-align: -1px\" width=\"133\"/>?\n",
      "</img></p>\n"
     ]
    }
   ],
   "source": [
    "CurrentLine = soup.find(id=\"Problem\").parent.nextSibling.nextSibling\n",
    "ProblemStatement = [str(CurrentLine)]\n",
    "print(CurrentLine)"
   ],
   "metadata": {
    "collapsed": false
   }
  },
  {
   "cell_type": "code",
   "execution_count": 83,
   "outputs": [
    {
     "name": "stdout",
     "output_type": "stream",
     "text": [
      "<p>In <img alt=\"$\\triangle BAC$\" class=\"latex\" height=\"13\" src=\"//latex.artofproblemsolving.com/5/f/8/5f8106d761155c78be9c31cf6666818e88a1013f.png\" width=\"58\">, <img alt=\"$\\angle BAC=40^\\circ$\" class=\"latex\" height=\"13\" src=\"//latex.artofproblemsolving.com/7/9/b/79b8c0c4f224da467e14fec67208eacb047af42b.png\" style=\"vertical-align: 0px\" width=\"103\"/>, <img alt=\"$AB=10$\" class=\"latex\" height=\"13\" src=\"//latex.artofproblemsolving.com/6/c/4/6c4b41dd37dcc418b2bd81d72c4d763936a2fc76.png\" style=\"vertical-align: 0px\" width=\"70\"/>, and <img alt=\"$AC=6$\" class=\"latex\" height=\"13\" src=\"//latex.artofproblemsolving.com/b/a/a/baae3e2b0038d1c14b3b8f3ca091e6f180d0a116.png\" width=\"60\"/>.  Points <img alt=\"$D$\" class=\"latex\" height=\"12\" src=\"//latex.artofproblemsolving.com/9/f/f/9ffb448918db29f2a72f8f87f421b3b3cad18f95.png\" width=\"15\"/> and <img alt=\"$E$\" class=\"latex\" height=\"12\" src=\"//latex.artofproblemsolving.com/f/a/2/fa2fa899f0afb05d6837885523503a2d4df434f9.png\" width=\"14\"/> lie on <img alt=\"$\\overline{AB}$\" class=\"latex\" height=\"15\" src=\"//latex.artofproblemsolving.com/8/4/0/840e2b592390eb6ec918fa6f3292716ce170de66.png\" width=\"28\"/> and <img alt=\"$\\overline{AC}$\" class=\"latex\" height=\"15\" src=\"//latex.artofproblemsolving.com/1/2/5/12517bbc31cb9026c71299b7a0d232d07e60f284.png\" width=\"28\"/> respectively.  What is the minimum possible value of <img alt=\"$BE+DE+CD$\" class=\"latex\" height=\"14\" src=\"//latex.artofproblemsolving.com/4/4/9/449ea2f9c45624ffec02784f01d32b9db2a6bf38.png\" style=\"vertical-align: -1px\" width=\"133\"/>?\n",
      "</img></p>\n"
     ]
    }
   ],
   "source": [
    "pattern = r'textbf\\{\\(A'\n",
    "print(CurrentLine)"
   ],
   "metadata": {
    "collapsed": false
   }
  },
  {
   "cell_type": "code",
   "execution_count": 84,
   "outputs": [
    {
     "name": "stdout",
     "output_type": "stream",
     "text": [
      "1\n"
     ]
    }
   ],
   "source": [
    "while len(re.findall(pattern, str(CurrentLine))) == 0:\n",
    "    NextLine = CurrentLine.next_sibling\n",
    "    ProblemStatement.append(str(NextLine))\n",
    "    CurrentLine = NextLine\n",
    "    print(\"1\")\n"
   ],
   "metadata": {
    "collapsed": false
   }
  },
  {
   "cell_type": "code",
   "execution_count": 85,
   "outputs": [
    {
     "name": "stdout",
     "output_type": "stream",
     "text": [
      "<p>In <img alt=\"$\\triangle BAC$\" class=\"latex\" height=\"13\" src=\"//latex.artofproblemsolving.com/5/f/8/5f8106d761155c78be9c31cf6666818e88a1013f.png\" width=\"58\">, <img alt=\"$\\angle BAC=40^\\circ$\" class=\"latex\" height=\"13\" src=\"//latex.artofproblemsolving.com/7/9/b/79b8c0c4f224da467e14fec67208eacb047af42b.png\" style=\"vertical-align: 0px\" width=\"103\"/>, <img alt=\"$AB=10$\" class=\"latex\" height=\"13\" src=\"//latex.artofproblemsolving.com/6/c/4/6c4b41dd37dcc418b2bd81d72c4d763936a2fc76.png\" style=\"vertical-align: 0px\" width=\"70\"/>, and <img alt=\"$AC=6$\" class=\"latex\" height=\"13\" src=\"//latex.artofproblemsolving.com/b/a/a/baae3e2b0038d1c14b3b8f3ca091e6f180d0a116.png\" width=\"60\"/>.  Points <img alt=\"$D$\" class=\"latex\" height=\"12\" src=\"//latex.artofproblemsolving.com/9/f/f/9ffb448918db29f2a72f8f87f421b3b3cad18f95.png\" width=\"15\"/> and <img alt=\"$E$\" class=\"latex\" height=\"12\" src=\"//latex.artofproblemsolving.com/f/a/2/fa2fa899f0afb05d6837885523503a2d4df434f9.png\" width=\"14\"/> lie on <img alt=\"$\\overline{AB}$\" class=\"latex\" height=\"15\" src=\"//latex.artofproblemsolving.com/8/4/0/840e2b592390eb6ec918fa6f3292716ce170de66.png\" width=\"28\"/> and <img alt=\"$\\overline{AC}$\" class=\"latex\" height=\"15\" src=\"//latex.artofproblemsolving.com/1/2/5/12517bbc31cb9026c71299b7a0d232d07e60f284.png\" width=\"28\"/> respectively.  What is the minimum possible value of <img alt=\"$BE+DE+CD$\" class=\"latex\" height=\"14\" src=\"//latex.artofproblemsolving.com/4/4/9/449ea2f9c45624ffec02784f01d32b9db2a6bf38.png\" style=\"vertical-align: -1px\" width=\"133\"/>?\n",
      "</img></p>\n",
      "<p><img alt=\"$\\textbf{(A) }6\\sqrt 3+3\\qquad \\textbf{(B) }\\dfrac{27}2\\qquad \\textbf{(C) }8\\sqrt 3\\qquad \\textbf{(D) }14\\qquad \\textbf{(E) }3\\sqrt 3+9\\qquad$\" class=\"latex\" height=\"37\" src=\"//latex.artofproblemsolving.com/b/f/5/bf540f0244d09379897113a1a4428f221c1a860a.png\" style=\"vertical-align: -12px\" width=\"510\"/>\n",
      "</p>\n"
     ]
    }
   ],
   "source": [
    "# print(ProblemStatement)\n",
    "ProblemStatement = \"\\n\".join(ProblemStatement)\n",
    "print(ProblemStatement)"
   ],
   "metadata": {
    "collapsed": false
   }
  },
  {
   "cell_type": "code",
   "execution_count": 86,
   "outputs": [
    {
     "name": "stdout",
     "output_type": "stream",
     "text": [
      "2014\n",
      "20\n"
     ]
    }
   ],
   "source": [
    "import wget\n",
    "import requests\n",
    "from flask import Flask, request, render_template_string\n",
    "from PIL import Image\n",
    "import os\n",
    "import urllib\n",
    "\n",
    "yearpattern =r\"\\d{4}\"\n",
    "year = re.findall(yearpattern, currentUrl)[0]\n",
    "\n",
    "problemNumberPattern = r\"\\d{1,2}$\"\n",
    "problemNumber = re.findall(problemNumberPattern, currentUrl)[-1]\n",
    "print(year)\n",
    "print(problemNumber)\n",
    "dirName = year + \"_\" + problemNumber\n",
    "os.mkdir(f\"{dirName}\")\n",
    "os.mkdir(f\"{dirName}/images\")"
   ],
   "metadata": {
    "collapsed": false
   }
  },
  {
   "cell_type": "code",
   "execution_count": 87,
   "outputs": [],
   "source": [
    "opener = urllib.request.URLopener()\n",
    "opener.addheader('User-Agent', 'Mozilla/5.0')\n",
    "\n",
    "ProblemSoup = BeautifulSoup(ProblemStatement, 'html.parser')\n",
    "img_tags = ProblemSoup.find_all('img')\n",
    "urls = [img['src'] for img in img_tags]\n",
    "\n",
    "for idx, url in enumerate(urls):\n",
    "    url = url.replace(\"//\", \"http://\")\n",
    "    filename, headers = opener.retrieve(url, f\"{dirName}/images/{idx}.png\")\n",
    "\n",
    "for idx, img in enumerate(img_tags):\n",
    "    newPath = f\"{dirName}/images/{idx}.png\"\n",
    "    img[\"src\"] = newPath\n",
    "\n",
    "ProblemStatement = str(ProblemSoup)"
   ],
   "metadata": {
    "collapsed": false
   }
  },
  {
   "cell_type": "code",
   "execution_count": 88,
   "outputs": [],
   "source": [
    "\n",
    "problem = open(f\"{dirName}/ProblemStatement.html\", \"w\")\n",
    "problem.write(ProblemStatement)\n",
    "problem.close()"
   ],
   "metadata": {
    "collapsed": false
   }
  },
  {
   "cell_type": "code",
   "execution_count": null,
   "outputs": [],
   "source": [],
   "metadata": {
    "collapsed": false
   }
  }
 ],
 "metadata": {
  "kernelspec": {
   "display_name": "Python 3",
   "language": "python",
   "name": "python3"
  },
  "language_info": {
   "codemirror_mode": {
    "name": "ipython",
    "version": 2
   },
   "file_extension": ".py",
   "mimetype": "text/x-python",
   "name": "python",
   "nbconvert_exporter": "python",
   "pygments_lexer": "ipython2",
   "version": "2.7.6"
  }
 },
 "nbformat": 4,
 "nbformat_minor": 0
}
