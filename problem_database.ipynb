{
 "cells": [
  {
   "cell_type": "code",
   "execution_count": 2,
   "metadata": {
    "collapsed": true
   },
   "outputs": [],
   "source": [
    "import mysql.connector\n"
   ]
  },
  {
   "cell_type": "code",
   "execution_count": 3,
   "outputs": [
    {
     "name": "stdout",
     "output_type": "stream",
     "text": [
      "<mysql.connector.connection_cext.CMySQLConnection object at 0x7f20b44e2b60>\n"
     ]
    }
   ],
   "source": [
    "mydb = mysql.connector.connect(\n",
    "  host=\"localhost\",\n",
    "  user=\"ekatka\",\n",
    "  password=\"password\"\n",
    ")\n",
    "\n",
    "print(mydb)"
   ],
   "metadata": {
    "collapsed": false
   }
  },
  {
   "cell_type": "code",
   "execution_count": 4,
   "outputs": [],
   "source": [
    "mycursor = mydb.cursor()"
   ],
   "metadata": {
    "collapsed": false
   }
  },
  {
   "cell_type": "code",
   "execution_count": 5,
   "outputs": [],
   "source": [
    "mycursor.execute(\"SHOW DATABASES\")"
   ],
   "metadata": {
    "collapsed": false
   }
  },
  {
   "cell_type": "markdown",
   "source": [],
   "metadata": {
    "collapsed": false
   }
  },
  {
   "cell_type": "code",
   "execution_count": 16,
   "outputs": [],
   "source": [
    "mycursor.execute(\"CREATE DATABASE dailyAMC\")"
   ],
   "metadata": {
    "collapsed": false
   }
  },
  {
   "cell_type": "code",
   "execution_count": 6,
   "outputs": [
    {
     "name": "stdout",
     "output_type": "stream",
     "text": [
      "('dailyAMC',)\n",
      "('information_schema',)\n",
      "('mysql',)\n",
      "('performance_schema',)\n",
      "('phpmyadmin',)\n",
      "('sys',)\n"
     ]
    }
   ],
   "source": [
    "for x in mycursor:\n",
    "  print(x)"
   ],
   "metadata": {
    "collapsed": false
   }
  },
  {
   "cell_type": "code",
   "execution_count": 95,
   "outputs": [],
   "source": [
    "mycursor.execute(\"USE dailyAMC;\")\n",
    "# mycursor.execute(\"DROP TABLE Problems;\")\n",
    "mycursor.execute(\"CREATE TABLE Problems ( id INT NOT NULL AUTO_INCREMENT PRIMARY KEY,statement TEXT, difficulty INT, original TEXT, answer TEXT);\")\n"
   ],
   "metadata": {
    "collapsed": false
   }
  },
  {
   "cell_type": "code",
   "execution_count": 72,
   "outputs": [],
   "source": [
    "mycursor.execute(\"SHOW TABLES;\")"
   ],
   "metadata": {
    "collapsed": false
   }
  },
  {
   "cell_type": "code",
   "execution_count": 73,
   "outputs": [
    {
     "name": "stdout",
     "output_type": "stream",
     "text": [
      "('Answers',)\n",
      "('Assigments',)\n",
      "('Problems',)\n",
      "('Solutions',)\n",
      "('Users',)\n"
     ]
    }
   ],
   "source": [
    "for x in mycursor:\n",
    "  print(x)"
   ],
   "metadata": {
    "collapsed": false
   }
  },
  {
   "cell_type": "code",
   "execution_count": 96,
   "outputs": [],
   "source": [
    "mycursor.execute(\"USE dailyAMC;\")\n",
    "mycursor.execute(\"CREATE TABLE Users ( id INT NOT NULL AUTO_INCREMENT PRIMARY KEY, email VARCHAR(320), password_hash CHAR(40) );\")"
   ],
   "metadata": {
    "collapsed": false
   }
  },
  {
   "cell_type": "code",
   "execution_count": 92,
   "outputs": [],
   "source": [
    "mycursor.execute(\"USE dailyAMC;\")"
   ],
   "metadata": {
    "collapsed": false
   }
  },
  {
   "cell_type": "code",
   "execution_count": 71,
   "outputs": [],
   "source": [
    "for x in mycursor:\n",
    "  print(x)"
   ],
   "metadata": {
    "collapsed": false
   }
  },
  {
   "cell_type": "code",
   "execution_count": 97,
   "outputs": [],
   "source": [
    "mycursor.execute(\"USE dailyAMC;\")\n",
    "mycursor.execute(\"CREATE TABLE Assigments ( id INT NOT NULL AUTO_INCREMENT, \"\n",
    "                 \"date DATE, \"\n",
    "                 \"problem_id INT, \"\n",
    "                 \"PRIMARY KEY (id), \"\n",
    "                 \"FOREIGN KEY (problem_id) REFERENCES Problems(id));\")"
   ],
   "metadata": {
    "collapsed": false
   }
  },
  {
   "cell_type": "code",
   "execution_count": 98,
   "outputs": [],
   "source": [
    "mycursor.execute(\"CREATE TABLE  Answers ( id INT NOT NULL AUTO_INCREMENT,\"\n",
    "                 \"user_id INT,\"\n",
    "                 \"assigment_id INT,\"\n",
    "                 \"answer VARCHAR(320),\"\n",
    "                 \"PRIMARY KEY(id),\"\n",
    "                 \"FOREIGN KEY (user_id) REFERENCES Users(id),\"\n",
    "                 \"FOREIGN KEY (assigment_id) REFERENCES Assigments(id));\")"
   ],
   "metadata": {
    "collapsed": false
   }
  },
  {
   "cell_type": "code",
   "execution_count": 99,
   "outputs": [],
   "source": [
    "mycursor.execute(\"USE dailyAMC;\")\n",
    "# mycursor.execute(\"DROP TABLE Solutions\")\n",
    "mycursor.execute(\"CREATE TABLE Solutions (id INT NOT NULL AUTO_INCREMENT, problem_id INT, solution_text VARCHAR(320), is_answer TINYINT,\"\n",
    "                 \"PRIMARY KEY (id), \"\n",
    "                 \"FOREIGN KEY (problem_id) REFERENCES Problems(id));\")"
   ],
   "metadata": {
    "collapsed": false
   }
  },
  {
   "cell_type": "code",
   "execution_count": 93,
   "outputs": [],
   "source": [
    "mycursor.execute(\"DROP TABLE Solutions\")\n",
    "mycursor.execute(\"DROP TABLE Answers\")\n",
    "mycursor.execute(\"DROP TABLE Assigments\")\n",
    "mycursor.execute(\"DROP TABLE Users\")\n",
    "mycursor.execute(\"DROP TABLE Problems\")"
   ],
   "metadata": {
    "collapsed": false
   }
  },
  {
   "cell_type": "code",
   "execution_count": 76,
   "outputs": [],
   "source": [
    "mycursor.execute(\"CREATE TABLE test ( id INT NOT NULL AUTO_INCREMENT PRIMARY KEY,statement TEXT, difficulty INT, original TEXT, answer TEXT);\")\n"
   ],
   "metadata": {
    "collapsed": false
   }
  },
  {
   "cell_type": "code",
   "execution_count": 81,
   "outputs": [],
   "source": [
    "statement = 'aaba'\n",
    "dif = 3\n",
    "origin = 'link'\n",
    "answer = 'latex latex'"
   ],
   "metadata": {
    "collapsed": false
   }
  },
  {
   "cell_type": "code",
   "execution_count": 85,
   "outputs": [],
   "source": [
    "mysql_insert_query = 'INSERT INTO test(statement, difficulty, original, answer) VALUES (%s, %s, %s, %s)'\n",
    "mycursor.execute(mysql_insert_query, (statement, dif, origin, answer))"
   ],
   "metadata": {
    "collapsed": false
   }
  },
  {
   "cell_type": "code",
   "execution_count": 86,
   "outputs": [],
   "source": [
    "mycursor.execute('select * from test')\n"
   ],
   "metadata": {
    "collapsed": false
   }
  },
  {
   "cell_type": "code",
   "execution_count": 200,
   "outputs": [
    {
     "name": "stdout",
     "output_type": "stream",
     "text": [
      "355\n",
      "362\n",
      "369\n",
      "376\n",
      "383\n",
      "390\n",
      "397\n",
      "404\n",
      "411\n",
      "418\n",
      "425\n",
      "432\n",
      "439\n",
      "446\n",
      "453\n",
      "460\n",
      "467\n",
      "474\n",
      "481\n",
      "488\n",
      "495\n",
      "502\n",
      "509\n",
      "516\n"
     ]
    }
   ],
   "source": [
    "day_ids = []\n",
    "for x in mycursor:\n",
    "    print(x[0])\n",
    "    day_ids.append(x[0])"
   ],
   "metadata": {
    "collapsed": false
   }
  },
  {
   "cell_type": "code",
   "execution_count": 111,
   "outputs": [],
   "source": [
    "mycursor.execute(\"USE dailyAMC;\")"
   ],
   "metadata": {
    "collapsed": false
   }
  },
  {
   "cell_type": "code",
   "execution_count": 107,
   "outputs": [],
   "source": [
    "mycursor.execute('select solution_text from Solutions where problem_id = 6')"
   ],
   "metadata": {
    "collapsed": false
   }
  },
  {
   "cell_type": "code",
   "execution_count": 195,
   "outputs": [],
   "source": [
    "problem_ids =[]\n",
    "for x in mycursor:\n",
    "  problem_ids.append(x[0])"
   ],
   "metadata": {
    "collapsed": false
   }
  },
  {
   "cell_type": "code",
   "execution_count": 196,
   "outputs": [
    {
     "name": "stdout",
     "output_type": "stream",
     "text": [
      "[136, 160, 69, 46, 70, 114, 23, 22, 205, 1, 91, 159, 115, 24, 137, 182, 48, 3, 181, 47, 2, 68, 183, 158, 92]\n"
     ]
    }
   ],
   "source": [
    "print(problem_ids)"
   ],
   "metadata": {
    "collapsed": false
   }
  },
  {
   "cell_type": "code",
   "execution_count": null,
   "outputs": [],
   "source": [
    "insert_into_Assigments = 'UPDATE Assigments SET problem_id = {} WHERE id = {}'.format(problem_ids[i], day_ids[i])"
   ],
   "metadata": {
    "collapsed": false
   }
  },
  {
   "cell_type": "code",
   "execution_count": 209,
   "outputs": [
    {
     "name": "stdout",
     "output_type": "stream",
     "text": [
      "UPDATE Assigments SET problem_id = 136 WHERE id = 355\n",
      "UPDATE Assigments SET problem_id = 160 WHERE id = 362\n",
      "UPDATE Assigments SET problem_id = 69 WHERE id = 369\n",
      "UPDATE Assigments SET problem_id = 46 WHERE id = 376\n",
      "UPDATE Assigments SET problem_id = 70 WHERE id = 383\n",
      "UPDATE Assigments SET problem_id = 114 WHERE id = 390\n",
      "UPDATE Assigments SET problem_id = 23 WHERE id = 397\n",
      "UPDATE Assigments SET problem_id = 22 WHERE id = 404\n",
      "UPDATE Assigments SET problem_id = 205 WHERE id = 411\n",
      "UPDATE Assigments SET problem_id = 1 WHERE id = 418\n",
      "UPDATE Assigments SET problem_id = 91 WHERE id = 425\n",
      "UPDATE Assigments SET problem_id = 159 WHERE id = 432\n",
      "UPDATE Assigments SET problem_id = 115 WHERE id = 439\n",
      "UPDATE Assigments SET problem_id = 24 WHERE id = 446\n",
      "UPDATE Assigments SET problem_id = 137 WHERE id = 453\n",
      "UPDATE Assigments SET problem_id = 182 WHERE id = 460\n",
      "UPDATE Assigments SET problem_id = 48 WHERE id = 467\n",
      "UPDATE Assigments SET problem_id = 3 WHERE id = 474\n",
      "UPDATE Assigments SET problem_id = 181 WHERE id = 481\n",
      "UPDATE Assigments SET problem_id = 47 WHERE id = 488\n",
      "UPDATE Assigments SET problem_id = 2 WHERE id = 495\n",
      "UPDATE Assigments SET problem_id = 68 WHERE id = 502\n",
      "UPDATE Assigments SET problem_id = 183 WHERE id = 509\n",
      "UPDATE Assigments SET problem_id = 158 WHERE id = 516\n"
     ]
    }
   ],
   "source": [
    "for i in range(24):\n",
    "    insert_into_Assigments = 'UPDATE Assigments SET problem_id = {} WHERE id = {}'.format(problem_ids[i], day_ids[i])\n",
    "    print(insert_into_Assigments)\n",
    "    mycursor.execute(insert_into_Assigments)\n",
    "    mydb.commit()"
   ],
   "metadata": {
    "collapsed": false
   }
  },
  {
   "cell_type": "code",
   "execution_count": 176,
   "outputs": [
    {
     "ename": "ProgrammingError",
     "evalue": "1060 (42S21): Duplicate column name 'day_of_week'",
     "output_type": "error",
     "traceback": [
      "\u001B[0;31m---------------------------------------------------------------------------\u001B[0m",
      "\u001B[0;31mMySQLInterfaceError\u001B[0m                       Traceback (most recent call last)",
      "File \u001B[0;32m~/school/maturita_informatika/MaturitniProjekt/venv/lib/python3.10/site-packages/mysql/connector/connection_cext.py:608\u001B[0m, in \u001B[0;36mCMySQLConnection.cmd_query\u001B[0;34m(self, query, raw, buffered, raw_as_string)\u001B[0m\n\u001B[1;32m    607\u001B[0m         query \u001B[38;5;241m=\u001B[39m query\u001B[38;5;241m.\u001B[39mencode(\u001B[38;5;124m\"\u001B[39m\u001B[38;5;124mutf-8\u001B[39m\u001B[38;5;124m\"\u001B[39m)\n\u001B[0;32m--> 608\u001B[0m     \u001B[38;5;28;43mself\u001B[39;49m\u001B[38;5;241;43m.\u001B[39;49m\u001B[43m_cmysql\u001B[49m\u001B[38;5;241;43m.\u001B[39;49m\u001B[43mquery\u001B[49m\u001B[43m(\u001B[49m\n\u001B[1;32m    609\u001B[0m \u001B[43m        \u001B[49m\u001B[43mquery\u001B[49m\u001B[43m,\u001B[49m\n\u001B[1;32m    610\u001B[0m \u001B[43m        \u001B[49m\u001B[43mraw\u001B[49m\u001B[38;5;241;43m=\u001B[39;49m\u001B[43mraw\u001B[49m\u001B[43m,\u001B[49m\n\u001B[1;32m    611\u001B[0m \u001B[43m        \u001B[49m\u001B[43mbuffered\u001B[49m\u001B[38;5;241;43m=\u001B[39;49m\u001B[43mbuffered\u001B[49m\u001B[43m,\u001B[49m\n\u001B[1;32m    612\u001B[0m \u001B[43m        \u001B[49m\u001B[43mraw_as_string\u001B[49m\u001B[38;5;241;43m=\u001B[39;49m\u001B[43mraw_as_string\u001B[49m\u001B[43m,\u001B[49m\n\u001B[1;32m    613\u001B[0m \u001B[43m        \u001B[49m\u001B[43mquery_attrs\u001B[49m\u001B[38;5;241;43m=\u001B[39;49m\u001B[38;5;28;43mself\u001B[39;49m\u001B[38;5;241;43m.\u001B[39;49m\u001B[43m_query_attrs\u001B[49m\u001B[43m,\u001B[49m\n\u001B[1;32m    614\u001B[0m \u001B[43m    \u001B[49m\u001B[43m)\u001B[49m\n\u001B[1;32m    615\u001B[0m \u001B[38;5;28;01mexcept\u001B[39;00m MySQLInterfaceError \u001B[38;5;28;01mas\u001B[39;00m err:\n",
      "\u001B[0;31mMySQLInterfaceError\u001B[0m: Duplicate column name 'day_of_week'",
      "\nThe above exception was the direct cause of the following exception:\n",
      "\u001B[0;31mProgrammingError\u001B[0m                          Traceback (most recent call last)",
      "Cell \u001B[0;32mIn[176], line 1\u001B[0m\n\u001B[0;32m----> 1\u001B[0m \u001B[43mmycursor\u001B[49m\u001B[38;5;241;43m.\u001B[39;49m\u001B[43mexecute\u001B[49m\u001B[43m(\u001B[49m\u001B[38;5;124;43m\"\u001B[39;49m\u001B[38;5;124;43mALTER TABLE Assigments ADD COLUMN day_of_week INT;\u001B[39;49m\u001B[38;5;124;43m\"\u001B[39;49m\u001B[43m)\u001B[49m\n\u001B[1;32m      2\u001B[0m mydb\u001B[38;5;241m.\u001B[39mcommit()\n",
      "File \u001B[0;32m~/school/maturita_informatika/MaturitniProjekt/venv/lib/python3.10/site-packages/mysql/connector/cursor_cext.py:330\u001B[0m, in \u001B[0;36mCMySQLCursor.execute\u001B[0;34m(self, operation, params, multi)\u001B[0m\n\u001B[1;32m    325\u001B[0m             \u001B[38;5;28;01mraise\u001B[39;00m ProgrammingError(\n\u001B[1;32m    326\u001B[0m                 \u001B[38;5;124m\"\u001B[39m\u001B[38;5;124mNot all parameters were used in the SQL statement\u001B[39m\u001B[38;5;124m\"\u001B[39m\n\u001B[1;32m    327\u001B[0m             )\n\u001B[1;32m    329\u001B[0m \u001B[38;5;28;01mtry\u001B[39;00m:\n\u001B[0;32m--> 330\u001B[0m     result \u001B[38;5;241m=\u001B[39m \u001B[38;5;28;43mself\u001B[39;49m\u001B[38;5;241;43m.\u001B[39;49m\u001B[43m_cnx\u001B[49m\u001B[38;5;241;43m.\u001B[39;49m\u001B[43mcmd_query\u001B[49m\u001B[43m(\u001B[49m\n\u001B[1;32m    331\u001B[0m \u001B[43m        \u001B[49m\u001B[43mstmt\u001B[49m\u001B[43m,\u001B[49m\n\u001B[1;32m    332\u001B[0m \u001B[43m        \u001B[49m\u001B[43mraw\u001B[49m\u001B[38;5;241;43m=\u001B[39;49m\u001B[38;5;28;43mself\u001B[39;49m\u001B[38;5;241;43m.\u001B[39;49m\u001B[43m_raw\u001B[49m\u001B[43m,\u001B[49m\n\u001B[1;32m    333\u001B[0m \u001B[43m        \u001B[49m\u001B[43mbuffered\u001B[49m\u001B[38;5;241;43m=\u001B[39;49m\u001B[38;5;28;43mself\u001B[39;49m\u001B[38;5;241;43m.\u001B[39;49m\u001B[43m_buffered\u001B[49m\u001B[43m,\u001B[49m\n\u001B[1;32m    334\u001B[0m \u001B[43m        \u001B[49m\u001B[43mraw_as_string\u001B[49m\u001B[38;5;241;43m=\u001B[39;49m\u001B[38;5;28;43mself\u001B[39;49m\u001B[38;5;241;43m.\u001B[39;49m\u001B[43m_raw_as_string\u001B[49m\u001B[43m,\u001B[49m\n\u001B[1;32m    335\u001B[0m \u001B[43m    \u001B[49m\u001B[43m)\u001B[49m\n\u001B[1;32m    336\u001B[0m \u001B[38;5;28;01mexcept\u001B[39;00m MySQLInterfaceError \u001B[38;5;28;01mas\u001B[39;00m err:\n\u001B[1;32m    337\u001B[0m     \u001B[38;5;28;01mraise\u001B[39;00m get_mysql_exception(\n\u001B[1;32m    338\u001B[0m         msg\u001B[38;5;241m=\u001B[39merr\u001B[38;5;241m.\u001B[39mmsg, errno\u001B[38;5;241m=\u001B[39merr\u001B[38;5;241m.\u001B[39merrno, sqlstate\u001B[38;5;241m=\u001B[39merr\u001B[38;5;241m.\u001B[39msqlstate\n\u001B[1;32m    339\u001B[0m     ) \u001B[38;5;28;01mfrom\u001B[39;00m \u001B[38;5;21;01merr\u001B[39;00m\n",
      "File \u001B[0;32m~/school/maturita_informatika/MaturitniProjekt/venv/lib/python3.10/site-packages/mysql/connector/connection_cext.py:616\u001B[0m, in \u001B[0;36mCMySQLConnection.cmd_query\u001B[0;34m(self, query, raw, buffered, raw_as_string)\u001B[0m\n\u001B[1;32m    608\u001B[0m     \u001B[38;5;28mself\u001B[39m\u001B[38;5;241m.\u001B[39m_cmysql\u001B[38;5;241m.\u001B[39mquery(\n\u001B[1;32m    609\u001B[0m         query,\n\u001B[1;32m    610\u001B[0m         raw\u001B[38;5;241m=\u001B[39mraw,\n\u001B[0;32m   (...)\u001B[0m\n\u001B[1;32m    613\u001B[0m         query_attrs\u001B[38;5;241m=\u001B[39m\u001B[38;5;28mself\u001B[39m\u001B[38;5;241m.\u001B[39m_query_attrs,\n\u001B[1;32m    614\u001B[0m     )\n\u001B[1;32m    615\u001B[0m \u001B[38;5;28;01mexcept\u001B[39;00m MySQLInterfaceError \u001B[38;5;28;01mas\u001B[39;00m err:\n\u001B[0;32m--> 616\u001B[0m     \u001B[38;5;28;01mraise\u001B[39;00m get_mysql_exception(\n\u001B[1;32m    617\u001B[0m         err\u001B[38;5;241m.\u001B[39merrno, msg\u001B[38;5;241m=\u001B[39merr\u001B[38;5;241m.\u001B[39mmsg, sqlstate\u001B[38;5;241m=\u001B[39merr\u001B[38;5;241m.\u001B[39msqlstate\n\u001B[1;32m    618\u001B[0m     ) \u001B[38;5;28;01mfrom\u001B[39;00m \u001B[38;5;21;01merr\u001B[39;00m\n\u001B[1;32m    619\u001B[0m \u001B[38;5;28;01mexcept\u001B[39;00m \u001B[38;5;167;01mAttributeError\u001B[39;00m \u001B[38;5;28;01mas\u001B[39;00m err:\n\u001B[1;32m    620\u001B[0m     addr \u001B[38;5;241m=\u001B[39m (\n\u001B[1;32m    621\u001B[0m         \u001B[38;5;28mself\u001B[39m\u001B[38;5;241m.\u001B[39m_unix_socket \u001B[38;5;28;01mif\u001B[39;00m \u001B[38;5;28mself\u001B[39m\u001B[38;5;241m.\u001B[39m_unix_socket \u001B[38;5;28;01melse\u001B[39;00m \u001B[38;5;124mf\u001B[39m\u001B[38;5;124m\"\u001B[39m\u001B[38;5;132;01m{\u001B[39;00m\u001B[38;5;28mself\u001B[39m\u001B[38;5;241m.\u001B[39m_host\u001B[38;5;132;01m}\u001B[39;00m\u001B[38;5;124m:\u001B[39m\u001B[38;5;132;01m{\u001B[39;00m\u001B[38;5;28mself\u001B[39m\u001B[38;5;241m.\u001B[39m_port\u001B[38;5;132;01m}\u001B[39;00m\u001B[38;5;124m\"\u001B[39m\n\u001B[1;32m    622\u001B[0m     )\n",
      "\u001B[0;31mProgrammingError\u001B[0m: 1060 (42S21): Duplicate column name 'day_of_week'"
     ]
    }
   ],
   "source": [
    "mycursor.execute(\"ALTER TABLE Assigments ADD COLUMN day_of_week INT;\")\n",
    "mydb.commit()"
   ],
   "metadata": {
    "collapsed": false
   }
  },
  {
   "cell_type": "code",
   "execution_count": null,
   "outputs": [],
   "source": [],
   "metadata": {
    "collapsed": false
   }
  },
  {
   "cell_type": "code",
   "execution_count": 129,
   "outputs": [],
   "source": [
    "mycursor.execute('SET @previous_date = CURDATE()')\n",
    "for i in range(174):\n",
    "    assigment_query = 'INSERT INTO Assigments (date) VALUE (DATE_ADD(@previous_date, INTERVAL 1 day));'\n",
    "    mycursor.execute('SET @previous_date = DATE_ADD(@previous_date, INTERVAL 1 day)')\n",
    "    mycursor.execute(assigment_query)\n",
    "    mydb.commit()"
   ],
   "metadata": {
    "collapsed": false
   }
  },
  {
   "cell_type": "code",
   "execution_count": null,
   "outputs": [],
   "source": [
    "for i in range(174):\n",
    "    mycursor.execute('SET @previous_date = CURDATE()')"
   ],
   "metadata": {
    "collapsed": false
   }
  },
  {
   "cell_type": "code",
   "execution_count": 125,
   "outputs": [],
   "source": [
    "mycursor.execute('SET @previous_date = CURDATE()')\n",
    "mycursor.execute('SELECT DATE_ADD(@previous_date, INTERVAL 1 day); ')"
   ],
   "metadata": {
    "collapsed": false
   }
  },
  {
   "cell_type": "code",
   "execution_count": 130,
   "outputs": [],
   "source": [
    "mycursor.execute(\"USE dailyAMC;\")"
   ],
   "metadata": {
    "collapsed": false
   }
  },
  {
   "cell_type": "code",
   "execution_count": 139,
   "outputs": [],
   "source": [
    "mycursor.execute('ALTER TABLE Assigments  RENAME COLUMN date TO problem_date;')\n",
    "mydb.commit()"
   ],
   "metadata": {
    "collapsed": false
   }
  },
  {
   "cell_type": "code",
   "execution_count": null,
   "outputs": [],
   "source": [
    "insest_query = 'INSERT INTO Assigments (problem_id) SELECT '"
   ],
   "metadata": {
    "collapsed": false
   }
  },
  {
   "cell_type": "code",
   "execution_count": 237,
   "outputs": [],
   "source": [
    "mycursor.execute(\"SELECT id FROM Problems WHERE difficulty = 5 ORDER BY RAND()\")\n",
    "problem_ids =[]\n",
    "for x in mycursor:\n",
    "  problem_ids.append(x[0])"
   ],
   "metadata": {
    "collapsed": false
   }
  },
  {
   "cell_type": "code",
   "execution_count": 158,
   "outputs": [
    {
     "ename": "ProgrammingError",
     "evalue": "1054 (42S22): Unknown column 'difficulty' in 'having clause'",
     "output_type": "error",
     "traceback": [
      "\u001B[0;31m---------------------------------------------------------------------------\u001B[0m",
      "\u001B[0;31mMySQLInterfaceError\u001B[0m                       Traceback (most recent call last)",
      "File \u001B[0;32m~/school/maturita_informatika/MaturitniProjekt/venv/lib/python3.10/site-packages/mysql/connector/connection_cext.py:608\u001B[0m, in \u001B[0;36mCMySQLConnection.cmd_query\u001B[0;34m(self, query, raw, buffered, raw_as_string)\u001B[0m\n\u001B[1;32m    607\u001B[0m         query \u001B[38;5;241m=\u001B[39m query\u001B[38;5;241m.\u001B[39mencode(\u001B[38;5;124m\"\u001B[39m\u001B[38;5;124mutf-8\u001B[39m\u001B[38;5;124m\"\u001B[39m)\n\u001B[0;32m--> 608\u001B[0m     \u001B[38;5;28;43mself\u001B[39;49m\u001B[38;5;241;43m.\u001B[39;49m\u001B[43m_cmysql\u001B[49m\u001B[38;5;241;43m.\u001B[39;49m\u001B[43mquery\u001B[49m\u001B[43m(\u001B[49m\n\u001B[1;32m    609\u001B[0m \u001B[43m        \u001B[49m\u001B[43mquery\u001B[49m\u001B[43m,\u001B[49m\n\u001B[1;32m    610\u001B[0m \u001B[43m        \u001B[49m\u001B[43mraw\u001B[49m\u001B[38;5;241;43m=\u001B[39;49m\u001B[43mraw\u001B[49m\u001B[43m,\u001B[49m\n\u001B[1;32m    611\u001B[0m \u001B[43m        \u001B[49m\u001B[43mbuffered\u001B[49m\u001B[38;5;241;43m=\u001B[39;49m\u001B[43mbuffered\u001B[49m\u001B[43m,\u001B[49m\n\u001B[1;32m    612\u001B[0m \u001B[43m        \u001B[49m\u001B[43mraw_as_string\u001B[49m\u001B[38;5;241;43m=\u001B[39;49m\u001B[43mraw_as_string\u001B[49m\u001B[43m,\u001B[49m\n\u001B[1;32m    613\u001B[0m \u001B[43m        \u001B[49m\u001B[43mquery_attrs\u001B[49m\u001B[38;5;241;43m=\u001B[39;49m\u001B[38;5;28;43mself\u001B[39;49m\u001B[38;5;241;43m.\u001B[39;49m\u001B[43m_query_attrs\u001B[49m\u001B[43m,\u001B[49m\n\u001B[1;32m    614\u001B[0m \u001B[43m    \u001B[49m\u001B[43m)\u001B[49m\n\u001B[1;32m    615\u001B[0m \u001B[38;5;28;01mexcept\u001B[39;00m MySQLInterfaceError \u001B[38;5;28;01mas\u001B[39;00m err:\n",
      "\u001B[0;31mMySQLInterfaceError\u001B[0m: Unknown column 'difficulty' in 'having clause'",
      "\nThe above exception was the direct cause of the following exception:\n",
      "\u001B[0;31mProgrammingError\u001B[0m                          Traceback (most recent call last)",
      "Cell \u001B[0;32mIn[158], line 1\u001B[0m\n\u001B[0;32m----> 1\u001B[0m \u001B[43mmycursor\u001B[49m\u001B[38;5;241;43m.\u001B[39;49m\u001B[43mexecute\u001B[49m\u001B[43m(\u001B[49m\u001B[43massigments_insert_id\u001B[49m\u001B[43m)\u001B[49m\n",
      "File \u001B[0;32m~/school/maturita_informatika/MaturitniProjekt/venv/lib/python3.10/site-packages/mysql/connector/cursor_cext.py:330\u001B[0m, in \u001B[0;36mCMySQLCursor.execute\u001B[0;34m(self, operation, params, multi)\u001B[0m\n\u001B[1;32m    325\u001B[0m             \u001B[38;5;28;01mraise\u001B[39;00m ProgrammingError(\n\u001B[1;32m    326\u001B[0m                 \u001B[38;5;124m\"\u001B[39m\u001B[38;5;124mNot all parameters were used in the SQL statement\u001B[39m\u001B[38;5;124m\"\u001B[39m\n\u001B[1;32m    327\u001B[0m             )\n\u001B[1;32m    329\u001B[0m \u001B[38;5;28;01mtry\u001B[39;00m:\n\u001B[0;32m--> 330\u001B[0m     result \u001B[38;5;241m=\u001B[39m \u001B[38;5;28;43mself\u001B[39;49m\u001B[38;5;241;43m.\u001B[39;49m\u001B[43m_cnx\u001B[49m\u001B[38;5;241;43m.\u001B[39;49m\u001B[43mcmd_query\u001B[49m\u001B[43m(\u001B[49m\n\u001B[1;32m    331\u001B[0m \u001B[43m        \u001B[49m\u001B[43mstmt\u001B[49m\u001B[43m,\u001B[49m\n\u001B[1;32m    332\u001B[0m \u001B[43m        \u001B[49m\u001B[43mraw\u001B[49m\u001B[38;5;241;43m=\u001B[39;49m\u001B[38;5;28;43mself\u001B[39;49m\u001B[38;5;241;43m.\u001B[39;49m\u001B[43m_raw\u001B[49m\u001B[43m,\u001B[49m\n\u001B[1;32m    333\u001B[0m \u001B[43m        \u001B[49m\u001B[43mbuffered\u001B[49m\u001B[38;5;241;43m=\u001B[39;49m\u001B[38;5;28;43mself\u001B[39;49m\u001B[38;5;241;43m.\u001B[39;49m\u001B[43m_buffered\u001B[49m\u001B[43m,\u001B[49m\n\u001B[1;32m    334\u001B[0m \u001B[43m        \u001B[49m\u001B[43mraw_as_string\u001B[49m\u001B[38;5;241;43m=\u001B[39;49m\u001B[38;5;28;43mself\u001B[39;49m\u001B[38;5;241;43m.\u001B[39;49m\u001B[43m_raw_as_string\u001B[49m\u001B[43m,\u001B[49m\n\u001B[1;32m    335\u001B[0m \u001B[43m    \u001B[49m\u001B[43m)\u001B[49m\n\u001B[1;32m    336\u001B[0m \u001B[38;5;28;01mexcept\u001B[39;00m MySQLInterfaceError \u001B[38;5;28;01mas\u001B[39;00m err:\n\u001B[1;32m    337\u001B[0m     \u001B[38;5;28;01mraise\u001B[39;00m get_mysql_exception(\n\u001B[1;32m    338\u001B[0m         msg\u001B[38;5;241m=\u001B[39merr\u001B[38;5;241m.\u001B[39mmsg, errno\u001B[38;5;241m=\u001B[39merr\u001B[38;5;241m.\u001B[39merrno, sqlstate\u001B[38;5;241m=\u001B[39merr\u001B[38;5;241m.\u001B[39msqlstate\n\u001B[1;32m    339\u001B[0m     ) \u001B[38;5;28;01mfrom\u001B[39;00m \u001B[38;5;21;01merr\u001B[39;00m\n",
      "File \u001B[0;32m~/school/maturita_informatika/MaturitniProjekt/venv/lib/python3.10/site-packages/mysql/connector/connection_cext.py:616\u001B[0m, in \u001B[0;36mCMySQLConnection.cmd_query\u001B[0;34m(self, query, raw, buffered, raw_as_string)\u001B[0m\n\u001B[1;32m    608\u001B[0m     \u001B[38;5;28mself\u001B[39m\u001B[38;5;241m.\u001B[39m_cmysql\u001B[38;5;241m.\u001B[39mquery(\n\u001B[1;32m    609\u001B[0m         query,\n\u001B[1;32m    610\u001B[0m         raw\u001B[38;5;241m=\u001B[39mraw,\n\u001B[0;32m   (...)\u001B[0m\n\u001B[1;32m    613\u001B[0m         query_attrs\u001B[38;5;241m=\u001B[39m\u001B[38;5;28mself\u001B[39m\u001B[38;5;241m.\u001B[39m_query_attrs,\n\u001B[1;32m    614\u001B[0m     )\n\u001B[1;32m    615\u001B[0m \u001B[38;5;28;01mexcept\u001B[39;00m MySQLInterfaceError \u001B[38;5;28;01mas\u001B[39;00m err:\n\u001B[0;32m--> 616\u001B[0m     \u001B[38;5;28;01mraise\u001B[39;00m get_mysql_exception(\n\u001B[1;32m    617\u001B[0m         err\u001B[38;5;241m.\u001B[39merrno, msg\u001B[38;5;241m=\u001B[39merr\u001B[38;5;241m.\u001B[39mmsg, sqlstate\u001B[38;5;241m=\u001B[39merr\u001B[38;5;241m.\u001B[39msqlstate\n\u001B[1;32m    618\u001B[0m     ) \u001B[38;5;28;01mfrom\u001B[39;00m \u001B[38;5;21;01merr\u001B[39;00m\n\u001B[1;32m    619\u001B[0m \u001B[38;5;28;01mexcept\u001B[39;00m \u001B[38;5;167;01mAttributeError\u001B[39;00m \u001B[38;5;28;01mas\u001B[39;00m err:\n\u001B[1;32m    620\u001B[0m     addr \u001B[38;5;241m=\u001B[39m (\n\u001B[1;32m    621\u001B[0m         \u001B[38;5;28mself\u001B[39m\u001B[38;5;241m.\u001B[39m_unix_socket \u001B[38;5;28;01mif\u001B[39;00m \u001B[38;5;28mself\u001B[39m\u001B[38;5;241m.\u001B[39m_unix_socket \u001B[38;5;28;01melse\u001B[39;00m \u001B[38;5;124mf\u001B[39m\u001B[38;5;124m\"\u001B[39m\u001B[38;5;132;01m{\u001B[39;00m\u001B[38;5;28mself\u001B[39m\u001B[38;5;241m.\u001B[39m_host\u001B[38;5;132;01m}\u001B[39;00m\u001B[38;5;124m:\u001B[39m\u001B[38;5;132;01m{\u001B[39;00m\u001B[38;5;28mself\u001B[39m\u001B[38;5;241m.\u001B[39m_port\u001B[38;5;132;01m}\u001B[39;00m\u001B[38;5;124m\"\u001B[39m\n\u001B[1;32m    622\u001B[0m     )\n",
      "\u001B[0;31mProgrammingError\u001B[0m: 1054 (42S22): Unknown column 'difficulty' in 'having clause'"
     ]
    }
   ],
   "source": [
    "mycursor.execute('Assigments')"
   ],
   "metadata": {
    "collapsed": false
   }
  },
  {
   "cell_type": "code",
   "execution_count": 238,
   "outputs": [
    {
     "name": "stdout",
     "output_type": "stream",
     "text": [
      "352\n",
      "359\n",
      "366\n",
      "373\n",
      "380\n",
      "387\n",
      "394\n",
      "401\n",
      "408\n",
      "415\n",
      "422\n",
      "429\n",
      "436\n",
      "443\n",
      "450\n",
      "457\n",
      "464\n",
      "471\n",
      "478\n",
      "485\n",
      "492\n",
      "499\n",
      "506\n",
      "513\n",
      "520\n"
     ]
    }
   ],
   "source": [
    "mycursor.execute('SELECT id FROM Assigments WHERE DAYOFWEEK(problem_date) = 6')\n",
    "day_ids = []\n",
    "for x in mycursor:\n",
    "    print(x[0])\n",
    "    day_ids.append(x[0])"
   ],
   "metadata": {
    "collapsed": false
   }
  },
  {
   "cell_type": "code",
   "execution_count": 239,
   "outputs": [
    {
     "name": "stdout",
     "output_type": "stream",
     "text": [
      "UPDATE Assigments SET problem_id = 38 WHERE id = 352\n",
      "UPDATE Assigments SET problem_id = 216 WHERE id = 359\n",
      "UPDATE Assigments SET problem_id = 173 WHERE id = 366\n",
      "UPDATE Assigments SET problem_id = 126 WHERE id = 373\n",
      "UPDATE Assigments SET problem_id = 197 WHERE id = 380\n",
      "UPDATE Assigments SET problem_id = 37 WHERE id = 387\n",
      "UPDATE Assigments SET problem_id = 150 WHERE id = 394\n",
      "UPDATE Assigments SET problem_id = 196 WHERE id = 401\n",
      "UPDATE Assigments SET problem_id = 149 WHERE id = 408\n",
      "UPDATE Assigments SET problem_id = 104 WHERE id = 415\n",
      "UPDATE Assigments SET problem_id = 105 WHERE id = 422\n",
      "UPDATE Assigments SET problem_id = 83 WHERE id = 429\n",
      "UPDATE Assigments SET problem_id = 128 WHERE id = 436\n",
      "UPDATE Assigments SET problem_id = 218 WHERE id = 443\n",
      "UPDATE Assigments SET problem_id = 172 WHERE id = 450\n",
      "UPDATE Assigments SET problem_id = 13 WHERE id = 457\n",
      "UPDATE Assigments SET problem_id = 14 WHERE id = 464\n",
      "UPDATE Assigments SET problem_id = 82 WHERE id = 471\n",
      "UPDATE Assigments SET problem_id = 12 WHERE id = 478\n",
      "UPDATE Assigments SET problem_id = 151 WHERE id = 485\n",
      "UPDATE Assigments SET problem_id = 59 WHERE id = 492\n",
      "UPDATE Assigments SET problem_id = 81 WHERE id = 499\n",
      "UPDATE Assigments SET problem_id = 106 WHERE id = 506\n",
      "UPDATE Assigments SET problem_id = 60 WHERE id = 513\n"
     ]
    }
   ],
   "source": [
    "for i in range(24):\n",
    "    insert_into_Assigments = 'UPDATE Assigments SET problem_id = {} WHERE id = {}'.format(problem_ids[i], day_ids[i])\n",
    "    print(insert_into_Assigments)\n",
    "    mycursor.execute(insert_into_Assigments)\n",
    "    mydb.commit()"
   ],
   "metadata": {
    "collapsed": false
   }
  },
  {
   "cell_type": "code",
   "execution_count": 7,
   "outputs": [],
   "source": [
    "mycursor.execute(\"USE dailyAMC;\")"
   ],
   "metadata": {
    "collapsed": false
   }
  },
  {
   "cell_type": "code",
   "execution_count": 8,
   "outputs": [],
   "source": [
    "import pymysql\n",
    "from bs4 import BeautifulSoup"
   ],
   "metadata": {
    "collapsed": false
   }
  },
  {
   "cell_type": "code",
   "execution_count": 9,
   "outputs": [
    {
     "name": "stdout",
     "output_type": "stream",
     "text": [
      "On a sheet of paper, Isabella draws a circle of radius $2$, a circle of radius $3$, and all possible lines simultaneously tangent to both circles. Isabella notices that she has drawn exactly $k \\ge  0$ lines. How many different values of $k$ are possible?\n",
      "\n"
     ]
    }
   ],
   "source": [
    "mycursor.execute(\"SELECT statement FROM Problems WHERE id = 167\")\n",
    "\n",
    "# Retrieve the statement from the query result\n",
    "statement = mycursor.fetchone()[0]\n",
    "\n",
    "# Use Beautiful Soup to remove HTML tags from the statement and retrieve the pure LaTeX code\n",
    "soup = BeautifulSoup(statement, 'html.parser')\n",
    "latex_statement = soup.get_text()\n",
    "\n",
    "# Print the pure LaTeX statement\n",
    "print(latex_statement)"
   ],
   "metadata": {
    "collapsed": false
   }
  },
  {
   "cell_type": "code",
   "execution_count": 11,
   "outputs": [],
   "source": [
    "mycursor.execute(\"SELECT id, statement FROM Problems\")\n",
    "\n",
    "# Iterate over the query results and update the statement column with the pure LaTeX code\n",
    "for row in mycursor.fetchall():\n",
    "    id = row[0]\n",
    "    statement = row[1]\n",
    "    soup = BeautifulSoup(statement, 'html.parser')\n",
    "    latex_statement = soup.get_text()\n",
    "    mycursor.execute(\"UPDATE Problems SET statement = %s WHERE id = %s\", (latex_statement, id))\n",
    "    mydb.commit()"
   ],
   "metadata": {
    "collapsed": false
   }
  },
  {
   "cell_type": "code",
   "execution_count": 12,
   "outputs": [
    {
     "name": "stdout",
     "output_type": "stream",
     "text": [
      "1 What is the value of $\\dfrac{11!-10!}{9!}$?\n",
      "\n",
      "2 For what value of $x$ does $10^{x}\\cdot 100^{2x}=1000^{5}$?\n",
      "\n",
      "3 The remainder can be defined for all real numbers $x$ and $y$ with $y \\neq 0$ by $$\\text{rem} (x ,y)=x-y\\left \\lfloor \\frac{x}{y} \\right \\rfloor$$where $\\left \\lfloor \\tfrac{x}{y} \\right \\rfloor$ denotes the greatest integer less than or equal to $\\tfrac{x}{y}$. What is the value of $\\text{rem} (\\tfrac{3}{8}, -\\tfrac{2}{5} )$?\n",
      "\n",
      "4 The mean, median, and mode of the $7$ data values $60, 100, x, 40, 50, 200, 90$ are all equal to $x$. What is the value of $x$?\n",
      "\n",
      "5 Goldbach's conjecture states that every even integer greater than 2 can be written as the sum of two prime numbers (for example, $2016=13+2003$). So far, no one has been able to prove that the conjecture is true, and no one has found a counterexample to show that the conjecture is false. What would a counterexample consist of?\n",
      "\n",
      "6 A triangular array of $2016$ coins has $1$ coin in the first row, $2$ coins in the second row, $3$ coins in the third row, and so on up to $N$ coins in the $N$th row. What is the sum of the digits of $N$?\n",
      "\n",
      "7 Five friends sat in a movie theater in a row containing $5$ seats, numbered $1$ to $5$ from left to right. (The directions \"left\" and \"right\" are from the point of view of the people as they sit in the seats.) During the movie Ada went to the lobby to get some popcorn. When she returned, she found that Bea had moved two seats to the right, Ceci had moved one seat to the left, and Dee and Edie had switched seats, leaving an end seat for Ada. In which seat had Ada been sitting before she got up?\n",
      "\n",
      "8 Each of the $100$ students in a certain summer camp can either sing, dance, or act. Some students have more than one talent, but no student has all three talents. There are $42$ students who cannot sing, $65$ students who cannot dance, and $29$ students who cannot act. How many students have two of these talents? \n",
      "\n",
      "9 Let $N$ be a positive multiple of $5$. One red ball and $N$ green balls are arranged in a line in random order. Let $P(N)$ be the probability that at least $\\tfrac{3}{5}$ of the green balls are on the same side of the red ball. Observe that $P(5)=1$ and that $P(N)$ approaches $\\tfrac{4}{5}$ as $N$ grows large. What is the sum of the digits of the least value of $N$ such that $P(N) < \\tfrac{321}{400}$?\n",
      "\n",
      "10 Each vertex of a cube is to be labeled with an integer $1$ through $8$, with each integer being used once, in such a way that the sum of the four numbers on the vertices of a face is the same for each face. Arrangements that can be obtained from each other through rotations of the cube are considered to be the same. How many different arrangements are possible?\n",
      "\n",
      "11 Circles with centers $P, Q$ and $R$, having radii $1, 2$ and $3$, respectively, lie on the same side of line $l$ and are tangent to $l$ at $P', Q'$ and $R'$, respectively, with $Q'$ between $P'$ and $R'$. The circle with center $Q$ is externally tangent to each of the other two circles. What is the area of triangle $PQR$?\n",
      "\n",
      "12 The graphs of $y=\\log_3 x, y=\\log_x 3, y=\\log_\\frac{1}{3} x,$ and $y=\\log_x \\dfrac{1}{3}$ are plotted on the same set of axes. How many points in the plane with positive $x$-coordinates lie on two or more of the graphs? \n",
      "\n",
      "13 Let $ABCD$ be a square. Let $E, F, G$ and $H$ be the centers, respectively, of equilateral triangles with bases $\\overline{AB}, \\overline{BC}, \\overline{CD},$ and $\\overline{DA},$ each exterior to the square. What is the ratio of the area of square $EFGH$ to the area of square $ABCD$? \n",
      "\n",
      "14 For some positive integer $n$, the number $110n^3$ has $110$ positive integer divisors, including $1$ and the number $110n^3$. How many positive integer divisors does the number $81n^4$ have?\n",
      "\n",
      "15 Jerry starts at $0$ on the real number line. He tosses a fair coin $8$ times. When he gets heads, he moves $1$ unit in the positive direction; when he gets tails, he moves $1$ unit in the negative direction. The probability that he reaches $4$ at some time during this process $\\frac{a}{b},$ where $a$ and $b$ are relatively prime positive integers. What is $a + b?$ (For example, he succeeds if his sequence of tosses is $HTHHHHHH.$)\n",
      "\n",
      "16 A binary operation $\\diamondsuit$ has the properties that $a\\,\\diamondsuit\\, (b\\,\\diamondsuit \\,c) = (a\\,\\diamondsuit \\,b)\\cdot c$ and that $a\\,\\diamondsuit \\,a=1$ for all nonzero real numbers $a, b,$ and $c$. (Here $\\cdot$ represents multiplication). The solution to the equation $2016 \\,\\diamondsuit\\, (6\\,\\diamondsuit\\, x)=100$ can be written as $\\tfrac{p}{q}$, where $p$ and $q$ are relatively prime positive integers. What is $p+q?$\n",
      "\n",
      "17 A quadrilateral is inscribed in a circle of radius $200\\sqrt{2}$. Three of the sides of this quadrilateral have length $200$. What is the length of the fourth side?\n",
      "\n",
      "18 How many ordered triples $(x,y,z)$ of positive integers satisfy $\\text{lcm}(x,y) = 72, \\text{lcm}(x,z) = 600 \\text{ and lcm}(y,z)=900$?\n",
      "\n",
      "19 Three numbers in the interval $\\left[0,1\\right]$ are chosen independently and at random. What is the probability that the chosen numbers are the side lengths of a triangle with positive area?\n",
      "\n",
      "20 There is a smallest positive real number $a$ such that there exists a positive real number $b$ such that all the roots of the polynomial $x^3-ax^2+bx-a$ are real. In fact, for this value of $a$ the value of $b$ is unique. What is this value of $b$?\n",
      "\n",
      "21 Let $k$ be a positive integer. Bernardo and Silvia take turns writing and erasing numbers on a blackboard as follows: Bernardo starts by writing the smallest perfect square with $k+1$ digits. Every time Bernardo writes a number, Silvia erases the last $k$ digits of it. Bernardo then writes the next perfect square, Silvia erases the last $k$ digits of it, and this process continues until the last two numbers that remain on the board differ by at least 2. Let $f(k)$ be the smallest positive integer not written on the board. For example, if $k = 1$, then the numbers that Bernardo writes are $16, 25, 36, 49, 64$, and the numbers showing on the board after Silvia erases are $1, 2, 3, 4,$ and $6$, and thus $f(1) = 5$. What is the sum of the digits of $f(2) + f(4)+ f(6) + \\dots + f(2016)$?\n",
      "\n",
      "22 Pablo buys popsicles for his friends. The store sells single popsicles for $$1$ each, 3-popsicle boxes for $$2$, and 5-popsicle boxes for $$3$. What is the greatest number of popsicles that Pablo can buy with $$8$?\n",
      "\n",
      "23 The sum of two nonzero real numbers is 4 times their product. What is the sum of the reciprocals of the two numbers?\n",
      "\n",
      "24 Ms. Carroll promised that anyone who got all the multiple choice questions right on the upcoming exam would receive an A on the exam. Which one of these statements necessarily follows logically?\n",
      "\n",
      "25 Jerry and Silvia wanted to go from the southwest corner of a square field to the northeast corner. Jerry walked due east and then due north to reach the goal, but Silvia headed northeast and reached the goal walking in a straight line. Which of the following is closest to how much shorter Silvia's trip was, compared to Jerry's trip?\n",
      "\n",
      "26 At a gathering of $30$ people, there are $20$ people who all know each other and $10$ people who know no one. People who know each other hug, and people who do not know each other shake hands. How many handshakes occur?\n",
      "\n",
      "27 Joy has $30$ thin rods, one each of every integer length from $1 \\text{ cm}$ through $30 \\text{ cm}$. She places the rods with lengths $3 \\text{ cm}$, $7 \\text{ cm}$, and $15 \\text{cm}$ on a table. She then wants to choose a fourth rod that she can put with these three to form a quadrilateral with positive area. How many of the remaining rods can she choose as the fourth rod?\n",
      "\n",
      "28 Define a function on the positive integers recursively by $f(1) = 2$, $f(n) = f(n-1) + 1$ if $n$ is even, and $f(n) = f(n-2) + 2$ if $n$ is odd and greater than $1$. What is $f(2017)$?\n",
      "\n",
      "29 The region consisting of all points in three-dimensional space within $3$ units of line segment $\\overline{AB}$ has volume $216 \\pi$. What is the length $AB$?\n",
      "\n",
      "30 Let $S$ be the set of points $(x,y)$ in the coordinate plane such that two of the three quantities $3$, $x+2$, and $y-4$ are equal and the third of the three quantities is no greater than the common value. Which of the following is a correct description of $S$?\n",
      "\n",
      "31 Chloe chooses a real number uniformly at random from the interval $[ 0,2017 ]$. Independently, Laurent chooses a real number uniformly at random from the interval $[ 0 , 4034 ]$. What is the probability that Laurent's number is greater than Chloe's number?  \n",
      "\n",
      "32 Claire adds the degree measures of the interior angles of a convex polygon and arrives at a sum of $2017$. She then discovers that she forgot to include one angle. What is the degree measure of the forgotten angle?\n",
      "\n",
      "33 There are $10$ horses, named Horse 1, Horse 2, $\\ldots$, Horse 10. They get their names from how many minutes it takes them to run one lap around a circular race track: Horse $k$ runs one lap in exactly $k$ minutes. At time 0 all the horses are together at the starting point on the track. The horses start running in the same direction, and they keep running around the circular track at their constant speeds. The least time $S > 0$, in minutes, at which all $10$ horses will again simultaneously be at the starting point is $S = 2520$. Let  $T>0$ be the least time, in minutes, such that at least $5$ of the horses are again at the starting point. What is the sum of the digits of  $T$?\n",
      "\n",
      "34 Driving at a constant speed, Sharon usually takes $180$ minutes to drive from her house to her mother's house. One day Sharon begins the drive at her usual speed, but after driving $\\frac{1}{3}$ of the way, she hits a bad snowstorm and reduces her speed by $20$ miles per hour. This time the trip takes her a total of $276$ minutes. How many miles is the drive from Sharon's house to her mother's house?\n",
      "\n",
      "35 Alice refuses to sit next to either Bob or Carla. Derek refuses to sit next to Eric. How many ways are there for the five of them to sit in a row of $5$ chairs under these conditions?\n",
      "\n",
      "36 Let $f(x) = \\sin{x} + 2\\cos{x} + 3\\tan{x}$, using radian measure for the variable $x$. In what interval does the smallest positive value of $x$ for which $f(x) = 0$ lie?\n",
      "\n",
      "37 There are $24$ different complex numbers $z$ such that $z^{24}=1$. For how many of these is $z^6$ a real number?\n",
      "\n",
      "38 Let $S(n)$ equal the sum of the digits of positive integer $n$. For example, $S(1507) = 13$. For a particular positive integer $n$, $S(n) = 1274$. Which of the following could be the value of $S(n+1)$?\n",
      "\n",
      "39 A square with side length $x$ is inscribed in a right triangle with sides of length $3$, $4$, and $5$ so that one vertex of the square coincides with the right-angle vertex of the triangle. A square with side length $y$ is inscribed in another right triangle with sides of length $3$, $4$, and $5$ so that one side of the square lies on the hypotenuse of the triangle. What is $\\frac{x}{y}$?\n",
      "\n",
      "40 How many ordered pairs $(a,b)$ such that $a$ is a positive real number and $b$ is an integer between $2$ and $200$, inclusive, satisfy the equation $(\\log_b a)^{2017}=\\log_b(a^{2017})?$\n",
      "\n",
      "41 A set $S$ is constructed as follows. To begin, $S = \\{0,10\\}$. Repeatedly, as long as possible, if $x$ is an integer root of some polynomial $a_{n}x^n + a_{n-1}x^{n-1} + \\dots + a_{1}x + a_0$ for some $n\\geq{1}$, all of whose coefficients $a_i$ are elements of $S$, then $x$ is put into $S$. When no more elements can be added to $S$, how many elements does $S$ have?\n",
      "\n",
      "42 A square is drawn in the Cartesian coordinate plane with vertices at $(2, 2)$, $(-2, 2)$, $(-2, -2)$, $(2, -2)$. A particle starts at $(0,0)$. Every second it moves with equal probability to one of the eight lattice points (points with integer coordinates) closest to its current position, independently of its previous moves. In other words, the probability is $1/8$ that the particle will move from $(x, y)$ to each of $(x, y + 1)$, $(x + 1, y + 1)$, $(x + 1, y)$, $(x + 1, y - 1)$, $(x, y - 1)$, $(x - 1, y - 1)$, $(x - 1, y)$, or $(x - 1, y + 1)$. The particle will eventually hit the square for the first time, either at one of the 4 corners of the square or at one of the 12 lattice points in the interior of one of the sides of the square. The probability that it will hit at a corner rather than at an interior point of a side is $m/n$, where $m$ and $n$ are relatively prime positive integers. What is $m + n$?\n",
      "\n",
      "43 For certain real numbers $a$, $b$, and $c$, the polynomial $$g(x) = x^3 + ax^2 + x + 10$$has three distinct roots, and each root of $g(x)$ is also a root of the polynomial $$f(x) = x^4 + x^3 + bx^2 + 100x + c.$$What is $f(1)$?\n",
      "\n",
      "44 Quadrilateral $ABCD$ is inscribed in circle $O$ and has side lengths $AB=3, BC=2, CD=6$, and $DA=8$. Let $X$ and $Y$ be points on $\\overline{BD}$ such that $\\frac{DX}{BD} = \\frac{1}{4}$ and $\\frac{BY}{BD} = \\frac{11}{36}$.\n",
      "Let $E$ be the intersection of line $AX$ and the line through $Y$ parallel to $\\overline{AD}$. Let $F$ be the intersection of line $CX$ and the line through $E$ parallel to $\\overline{AC}$. Let $G$ be the point on circle $O$ other than $C$ that lies on line $CX$. What is $XF\\cdot XG$?\n",
      "\n",
      "45 The vertices $V$ of a centrally symmetric hexagon in the complex plane are given by\n",
      "$$V=\\left\\{   \\sqrt{2}i,-\\sqrt{2}i, \\frac{1}{\\sqrt{8}}(1+i),\\frac{1}{\\sqrt{8}}(-1+i),\\frac{1}{\\sqrt{8}}(1-i),\\frac{1}{\\sqrt{8}}(-1-i) \\right\\}.$$\n",
      "For each $j$, $1\\leq j\\leq 12$, an element $z_j$ is chosen from $V$ at random, independently of the other choices. Let $P={\\prod}_{j=1}^{12}z_j$ be the product of the $12$ numbers selected. What is the probability that $P=-1$?\n",
      "\n",
      "46 A large urn contains $100$ balls, of which $36 \\%$ are red and the rest are blue. How many of the blue balls must be removed so that the percentage of red balls in the urn will be $72 \\%$? (No red balls are to be removed.)\n",
      "\n",
      "47 While exploring a cave, Carl comes across a collection of $5$-pound rocks worth $$14$ each, $4$-pound rocks worth $$11$ each, and $1$-pound rocks worth $$2$ each. There are at least $20$ of each size. He can carry at most $18$ pounds. What is the maximum value, in dollars, of the rocks he can carry out of the cave?\n",
      "\n",
      "48 How many ways can a student schedule $3$ mathematics courses -- algebra, geometry, and number theory -- in a $6$-period day if no two mathematics courses can be taken in consecutive periods? (What courses the student takes during the other $3$ periods is of no concern here.)\n",
      "\n",
      "49 Alice, Bob, and Charlie were on a hike and were wondering how far away the nearest town was. When Alice said, \"We are at least $6$ miles away,\" Bob replied, \"We are at most $5$ miles away.\" Charlie then remarked, \"Actually the nearest town is at most $4$ miles away.\" It turned out that none of the three statements were true. Let $d$ be the distance in miles to the nearest town. Which of the following intervals is the set of all possible values of $d$?\n",
      "\n",
      "50 What is the sum of all possible values of $k$ for which the polynomials $x^2 - 3x + 2$ and $x^2 - 5x + k$ have a root in common?\n",
      "\n",
      "51 For positive integers $m$ and $n$ such that $m+10<n+1$, both the mean and the median of the set $\\{m, m+4, m+10, n+1, n+2, 2n\\}$ are equal to $n$. What is $m+n$?\n",
      "\n",
      "52 For how many (not necessarily positive) integer values of $n$ is the value of $4000\\cdot \\left(\\tfrac{2}{5}\\right)^n$ an integer?\n",
      "\n",
      "53 Which of the following describes the largest subset of values of $y$ within the closed interval $[0,\\pi]$ for which\n",
      "$$\\sin(x+y)\\leq \\sin(x)+\\sin(y)$$for every $x$ between $0$ and $\\pi$, inclusive?\n",
      "\n",
      "\n",
      "54 How many ordered pairs of real numbers $(x,y)$ satisfy the following system of equations?\n",
      "\n",
      "\n",
      "55 Let $S$ be a set of $6$ integers taken from $\\{1,2,\\dots,12\\}$ with the property that if $a$ and $b$ are elements of $S$ with $a<b$, then $b$ is not a multiple of $a$. What is the least possible value of an element in $S$?\n",
      "\n",
      "56 How many nonnegative integers can be written in the form $$a_7\\cdot3^7+a_6\\cdot3^6+a_5\\cdot3^5+a_4\\cdot3^4+a_3\\cdot3^3+a_2\\cdot3^2+a_1\\cdot3^1+a_0\\cdot3^0,$$\n",
      "where $a_i\\in \\{-1,0,1\\}$ for $0\\le i \\le 7$?\n",
      "\n",
      "57 The solutions to the equation $\\log_{3x} 4 = \\log_{2x} 8$, where $x$ is a positive real number other than $\\tfrac{1}{3}$ or $\\tfrac{1}{2}$, can be written as $\\tfrac {p}{q}$ where $p$ and $q$ are relatively prime positive integers. What is $p + q$?\n",
      "\n",
      "58 A scanning code consists of a $7 \\times 7$ grid of squares, with some of its squares colored black and the rest colored white. There must be at least one square of each color in this grid of $49$ squares. A scanning code is called $\\textit{symmetric}$ if its look does not change when the entire square is rotated by a multiple of $90 ^{\\circ}$ counterclockwise around its center, nor when it is reflected across a line joining opposite corners or a line joining midpoints of opposite sides. What is the total number of possible symmetric scanning codes?\n",
      "\n",
      "59 Which of the following describes the set of values of $a$ for which the curves $x^2+y^2=a^2$ and $y=x^2-a$ in the real $xy$-plane intersect at exactly $3$ points?\n",
      "\n",
      "60 Triangle $ABC$ with $AB=50$ and $AC=10$ has area $120$. Let $D$ be the midpoint of $\\overline{AB}$, and let $E$ be the midpoint of $\\overline{AC}$. The angle bisector of $\\angle BAC$ intersects $\\overline{DE}$ and $\\overline{BC}$ at $F$ and $G$, respectively. What is the area of quadrilateral $FDBG$?\n",
      "\n",
      "61 Let $A$ be the set of positive integers that have no prime factors other than $2$, $3$, or $5$. The infinite sum $$\\frac{1}{1} + \\frac{1}{2} + \\frac{1}{3} + \\frac{1}{4} + \\frac{1}{5} + \\frac{1}{6} + \\frac{1}{8} + \\frac{1}{9} + \\frac{1}{10} + \\frac{1}{12} + \\frac{1}{15} + \\frac{1}{16} + \\frac{1}{18} + \\frac{1}{20} + \\cdots$$of the reciprocals of the elements of $A$ can be expressed as $\\frac{m}{n}$, where $m$ and $n$ are relatively prime positive integers. What is $m+n$?\n",
      "\n",
      "62 Triangle $ABC$ is an isosceles right triangle with $AB=AC=3$. Let $M$ be the midpoint of hypotenuse $\\overline{BC}$. Points $I$ and $E$ lie on sides $\\overline{AC}$ and $\\overline{AB}$, respectively, so that $AI>AE$ and $AIME$ is a cyclic quadrilateral. Given that triangle $EMI$ has area $2$, the length $CI$ can be written as $\\frac{a-\\sqrt{b}}{c}$, where $a$, $b$, and $c$ are positive integers and $b$ is not divisible by the square of any prime. What is the value of $a+b+c$?\n",
      "\n",
      "63 Which of the following polynomials has the greatest real root?\n",
      "\n",
      "64 The solutions to the equations $z^2=4+4\\sqrt{15}i$ and $z^2=2+2\\sqrt 3i,$ where $i=\\sqrt{-1},$ form the vertices of a parallelogram in the complex plane. The area of this parallelogram can be written in the form $p\\sqrt q-r\\sqrt s,$ where $p,$ $q,$ $r,$ and $s$ are positive integers and neither $q$ nor $s$ is divisible by the square of any prime number. What is $p+q+r+s?$\n",
      "\n",
      "65 In $\\triangle PAT,$ $\\angle P=36^{\\circ},$ $\\angle A=56^{\\circ},$ and $PA=10.$ Points $U$ and $G$ lie on sides $\\overline{TP}$ and $\\overline{TA},$ respectively, so that $PU=AG=1.$ Let $M$ and $N$ be the midpoints of segments $\\overline{PA}$ and $\\overline{UG},$ respectively. What is the degree measure of the acute angle formed by lines $MN$ and $PA?$\n",
      "\n",
      "66 Alice, Bob, and Carol play a game in which each of them chooses a real number between $0$ and $1.$ The winner of the game is the one whose number is between the numbers chosen by the other two players. Alice announces that she will choose her number uniformly at random from all the numbers between $0$ and $1,$ and Bob announces that he will choose his number uniformly at random from all the numbers between $\\tfrac{1}{2}$ and $\\tfrac{2}{3}.$ Armed with this information, what number should Carol choose to maximize her chance of winning?\n",
      "\n",
      "67 For a positive integer $n$ and nonzero digits $a$, $b$, and $c$, let $A_n$ be the $n$-digit integer each of whose digits is equal to $a$; let $B_n$ be the $n$-digit integer each of whose digits is equal to $b$, and let $C_n$ be the $2n$-digit (not $n$-digit) integer each of whose digits is equal to $c$. What is the greatest possible value of $a + b + c$ for which there are at least two values of $n$ such that $C_n - B_n = A_n^2$?\n",
      "\n",
      "68 The area of a pizza with radius $4$ is $N$ percent larger than the area of a pizza with radius $3$ inches. What is the integer closest to $N$?\n",
      "\n",
      "69 Suppose $a$ is $150\\%$ of $b$. What percent of $a$ is $3b$?\n",
      "\n",
      "70 A box contains $28$ red balls, $20$ green balls, $19$ yellow balls, $13$ blue balls, $11$ white balls, and $9$ black balls. What is the minimum number of balls that must be drawn from the box without replacement to guarantee that at least $15$ balls of a single color will be drawn?\n",
      "\n",
      "71 What is the greatest number of consecutive integers whose sum is $45?$\n",
      "\n",
      "72 Two lines with slopes $\\dfrac{1}{2}$ and $2$ intersect at $(2,2)$. What is the area of the triangle enclosed by these two lines and the line $x+y=10  ?$\n",
      "\n",
      "73 Melanie computes the mean $\\mu$, the median $M$, and the modes of the $365$ values that are the dates in the months of $2019$. Thus her data consist of $12$ $1\\text{s}$, $12$ $2\\text{s}$, . . . , $12$ $28\\text{s}$, $11$ $29\\text{s}$, $11$ $30\\text{s}$, and $7$ $31\\text{s}$. Let $d$ be the median of the modes. Which of the following statements is true?\n",
      "\n",
      "74 For a set of four distinct lines in a plane, there are exactly $N$ distinct points that lie on two or more of the lines. What is the sum of all possible values of $N$?\n",
      "\n",
      "75 A sequence of numbers is defined recursively by $a_1 = 1$, $a_2 = \\frac{3}{7}$, and\n",
      "$$a_n=\\frac{a_{n-2} \\cdot a_{n-1}}{2a_{n-2} - a_{n-1}}$$for all $n \\geq 3$ Then $a_{2019}$ can be written as $\\frac{p}{q}$, where $p$ and $q$ are relatively prime positive integers. What is $p+q ?$\n",
      "\n",
      "76 For some positive integer $k$, the repeating base-$k$ representation of the (base-ten) fraction $\\frac{7}{51}$ is $0.\\overline{23}_k = 0.232323..._k$. What is $k$?\n",
      "\n",
      "77 Positive real numbers $x \\neq 1$ and $y \\neq 1$ satisfy $\\log_2{x} = \\log_y{16}$ and $xy = 64$. What is $(\\log_2{\\tfrac{x}{y}})^2$?\n",
      "\n",
      "78 How many ways are there to paint each of the integers $2, 3, \\dots, 9$ either red, green, or blue so that each number has a different color from each of its proper divisors?\n",
      "\n",
      "79 For a certain complex number $c$, the polynomial\n",
      "$$P(x) = (x^2 - 2x + 2)(x^2 - cx + 4)(x^2 - 4x + 8)$$has exactly 4 distinct roots. What is $|c|$?\n",
      "\n",
      "80 Positive real numbers $a$ and $b$ have the property that\n",
      "$$\\sqrt{\\log{a}} + \\sqrt{\\log{b}} + \\log \\sqrt{a} + \\log \\sqrt{b} = 100$$\n",
      "and all four terms on the left are positive integers, where log denotes the base 10 logarithm. What is $ab$?\n",
      "\n",
      "81 The numbers $1,2,\\dots,9$ are randomly placed into the $9$ squares of a $3 \\times 3$ grid. Each square gets one number, and each of the numbers is used once. What is the probability that the sum of the numbers in each row and each column is odd?\n",
      "\n",
      "82 Let $s_k$ denote the sum of the $\\textit{k}$th powers of the roots of the polynomial $x^3-5x^2+8x-13$. In particular, $s_0=3$, $s_1=5$, and $s_2=9$. Let $a$, $b$, and $c$ be real numbers such that $s_{k+1} = a \\, s_k + b \\, s_{k-1} + c \\, s_{k-2}$ for $k = 2$, $3$, $....$ What is $a+b+c$?\n",
      "\n",
      "83 A sphere with center $O$ has radius $6$. A triangle with sides of length $15, 15,$ and $24$ is situated in space so that each of its sides is tangent to the sphere. What is the distance between $O$ and the plane determined by the triangle?\n",
      "\n",
      "84 In $\\triangle ABC$ with integer side lengths, $\\cos A = \\frac{11}{16}$, $\\cos B = \\frac{7}{8}$, and $\\cos C = -\\frac{1}{4}$. What is the least possible perimeter for $\\triangle ABC$?\n",
      "\n",
      "85 Real numbers between 0 and 1, inclusive, are chosen in the following manner. A fair coin is flipped. If it lands heads, then it is flipped again and the chosen number is 0 if the second flip is heads, and 1 if the second flip is tails. On the other hand, if the first coin flip is tails, then the number is chosen uniformly at random from the closed interval $[0,1]$. Two random numbers $x$ and $y$ are chosen independently in this manner. What is the probability that $|x-y| > \\tfrac{1}{2}$?\n",
      "\n",
      "86 Let $$z=\\frac{1+i}{\\sqrt{2}}.$$What is $$\\left(z^{1^2}+z^{2^2}+z^{3^2}+\\dots+z^{{12}^2}\\right) \\cdot \\left(\\frac{1}{z^{1^2}}+\\frac{1}{z^{2^2}}+\\frac{1}{z^{3^2}}+\\dots+\\frac{1}{z^{{12}^2}}\\right)?$$\n",
      "\n",
      "87 Circles $\\omega$ and $\\gamma$, both centered at $O$, have radii $20$ and $17$, respectively. Equilateral triangle $ABC$, whose interior lies in the interior of $\\omega$ but in the exterior of $\\gamma$, has vertex $A$ on $\\omega$, and the line containing side $\\overline{BC}$ is tangent to $\\gamma$. Segments $\\overline{AO}$ and $\\overline{BC}$ intersect at $P$, and $\\dfrac{BP}{CP} = 3$. Then $AB$ can be written in the form $\\dfrac{m}{\\sqrt{n}} - \\dfrac{p}{\\sqrt{q}}$ for positive integers $m$, $n$, $p$, $q$ with $\\text{gcd}(m,n) = \\text{gcd}(p,q) = 1$. What is $m+n+p+q$?\n",
      "$\\phantom{}$\n",
      "\n",
      "88 Define binary operations $\\diamondsuit$ and $\\heartsuit$ by $$a \\, \\diamondsuit \\, b = a^{\\log_{7}(b)} \\qquad \\text{and} \\qquad a  \\, \\heartsuit \\, b = a^{\\frac{1}{\\log_{7}(b)}}$$for all real numbers $a$ and $b$ for which these expressions are defined. The sequence $(a_n)$ is defined recursively by $a_3 = 3\\, \\heartsuit\\, 2$ and $$a_n = (n\\, \\heartsuit\\, (n-1)) \\,\\diamondsuit\\, a_{n-1}$$for all integers $n \\geq 4$. To the nearest integer, what is $\\log_{7}(a_{2019})$?\n",
      "\n",
      "89 For how many integers $n$ between $1$ and $50$, inclusive, is $$\\frac{(n^2-1)!}{(n!)^n}$$ an integer? (Recall that $0! = 1$.)\n",
      "\n",
      "90 Let $\\triangle A_0B_0C_0$ be a triangle whose angle measures are exactly $59.999^\\circ$, $60^\\circ$, and $60.001^\\circ$. For each positive integer $n$, define $A_n$ to be the foot of the altitude from $A_{n-1}$ to line $B_{n-1}C_{n-1}$. Likewise, define $B_n$ to be the foot of the altitude from $B_{n-1}$ to line $A_{n-1}C_{n-1}$, and $C_n$ to be the foot of the altitude from $C_{n-1}$ to line $A_{n-1}B_{n-1}$. What is the least positive integer $n$ for which $\\triangle A_nB_nC_n$ is obtuse?\n",
      "\n",
      "91 Carlos took $70\\%$ of a whole pie. Maria took one third of the remainder. What portion of the whole pie was left?\n",
      "\n",
      "92 A driver travels for $2$ hours at $60$ miles per hour, during which her car gets $30$ miles per gallon of gasoline. She is paid $$0.50$ per mile, and her only expense is gasoline at $$2.00$ per gallon. What is her net rate of pay, in dollars per hour, after this expense?\n",
      "\n",
      "93 How many $4$-digit positive integers (that is, integers between $1000$ and $9999$, inclusive) having only even digits are divisible by $5?$\n",
      "\n",
      "94 The $25$ integers from $-10$ to $14,$ inclusive, can be arranged to form a $5$-by-$5$ square in which the sum of the numbers in each row, the sum of the numbers in each column, and the sum of the numbers along each of the main diagonals are all the same. What is the value of this common sum?\n",
      "\n",
      "95 Seven cubes, whose volumes are $1$, $8$, $27$, $64$, $125$, $216$, and $343$ cubic units, are stacked vertically to form a tower in which the volumes of the cubes decrease from bottom to top. Except for the bottom cube, the bottom face of each cube lies completely on top of the cube below it. What is the total surface area of the tower (including the bottom) in square units?\n",
      "\n",
      "96 What is the median of the following list of $4040$ numbers$?$\n",
      "$$1, 2, 3, \\ldots, 2020, 1^2, 2^2, 3^2, \\ldots, 2020^2$$\n",
      "\n",
      "\n",
      "97 How many solutions does the equation $\\tan(2x)=\\cos(\\tfrac{x}{2})$ have on the interval $[0,2\\pi]?$\n",
      "\n",
      "98 There is a unique positive integer $n$ such that$$\\log_2{(\\log_{16}{n})} = \\log_4{(\\log_4{n})}.$$What is the sum of the digits of $n?$\n",
      "\n",
      "99 A frog sitting at the point $(1, 2)$ begins a sequence of jumps, where each jump is parallel to one of the coordinate axes and has length $1$, and the direction of each jump (up, down, right, or left) is chosen independently at random. The sequence ends when the frog reaches a side of the square with vertices $(0,0), (0,4), (4,4),$ and $(4,0)$. What is the probability that the sequence of jumps ends on a vertical side of the square?\n",
      "\n",
      "100 Line $l$ in the coordinate plane has equation $3x-5y+40=0$. This line is rotated $45^{\\circ}$ counterclockwise about the point $(20,20)$ to obtain line $k$. What is the $x$-coordinate of the $x$-intercept of line $k?$\n",
      "\n",
      "101 There are integers $a, b,$ and $c,$ each greater than $1,$ such that\n",
      "\n",
      "$$\\sqrt[a]{N\\sqrt[b]{N\\sqrt[c]{N}}} = \\sqrt[36]{N^{25}}$$\n",
      "\n",
      "for all $N \\neq 1$. What is $b$?\n",
      "\n",
      "102 Regular octagon $ABCDEFGH$ has area $n$. Let $m$ be the area of quadrilateral $ACEG$. What is $\\tfrac{m}{n}?$\n",
      "\n",
      "103 In the complex plane, let $A$ be the set of solutions to $z^{3}-8=0$ and let $B$ be the set of solutions to $z^{3}-8z^{2}-8z+64=0.$ What is the greatest distance between a point of $A$ and a point of $B?$\n",
      "\n",
      "104 A point is chosen at random within the square in the coordinate plane whose vertices are $(0, 0), (2020, 0), (2020, 2020),$ and $(0, 2020)$. The probability that the point is within $d$ units of a lattice point is $\\tfrac{1}{2}$. (A point $(x, y)$ is a lattice point if $x$ and $y$ are both integers.) What is $d$ to the nearest tenth$?$\n",
      "\n",
      "105 The vertices of a quadrilateral lie on the graph of $y=\\ln{x}$, and the $x$-coordinates of these vertices are consecutive positive integers. The area of the quadrilateral is $\\ln{\\frac{91}{90}}$. What is the $x$-coordinate of the leftmost vertex?\n",
      "\n",
      "106 Quadrilateral $ABCD$ satisfies $\\angle ABC = \\angle ACD = 90^{\\circ}, AC=20,$ and $CD=30.$ Diagonals $\\overline{AC}$ and $\\overline{BD}$ intersect at point $E,$ and $AE=5.$ What is the area of quadrilateral $ABCD?$\n",
      "\n",
      "107 There exists a unique strictly increasing sequence of nonnegative integers $a_1 < a_2 < … < a_k$ such that$$\\frac{2^{289}+1}{2^{17}+1} = 2^{a_1} + 2^{a_2} + … + 2^{a_k}.$$What is $k?$\n",
      "\n",
      "108 Let $T$ be the triangle in the coordinate plane with vertices $(0,0), (4,0),$ and $(0,3).$ Consider the following five isometries (rigid transformations) of the plane: rotations of $90^{\\circ}, 180^{\\circ},$ and $270^{\\circ}$ counterclockwise around the origin, reflection across the $x$-axis, and reflection across the $y$-axis. How many of the $125$ sequences of three of these transformations (not necessarily distinct) will return $T$ to its original position? (For example, a $180^{\\circ}$ rotation, followed by a reflection across the $x$-axis, followed by a reflection across the $y$-axis will return $T$ to its original position, but a $90^{\\circ}$ rotation, followed by a reflection across the $x$-axis, followed by another reflection across the $x$-axis will not return $T$ to its original position.)\n",
      "\n",
      "109 How many positive integers $n$ are there such that $n$ is a multiple of $5$, and the least common multiple of $5!$ and $n$ equals $5$ times the greatest common divisor of $10!$ and $n?$\n",
      "\n",
      "110 Let $(a_n)$ and $(b_n)$ be the sequences of real numbers such that\n",
      "$$ (2 + i)^n = a_n + b_ni $$for all integers $n\\geq 0$, where $i = \\sqrt{-1}$. What is$$\\sum_{n=0}^\\infty\\frac{a_nb_n}{7^n}\\,?$$\n",
      "\n",
      "111 Jason rolls three fair standard six-sided dice. Then he looks at the rolls and chooses a subset of the dice (possibly empty, possibly all three dice) to reroll. After rerolling, he wins if and only if the sum of the numbers face up on the three dice is exactly $7.$ Jason always plays to optimize his chances of winning. What is the probability that he chooses to reroll exactly two of the dice?\n",
      "\n",
      "112 Suppose that $\\triangle{ABC}$ is an equilateral triangle of side length $s$, with the property that there is a unique point $P$ inside the triangle such that $AP=1$, $BP=\\sqrt{3}$, and $CP=2$. What is $s$?\n",
      "\n",
      "113 The number $a=\\frac{p}{q}$, where $p$ and $q$ are relatively prime positive integers, has the property that the sum of all real numbers $x$ satisfying\n",
      "$$\\lfloor x \\rfloor \\cdot \\{x\\} = a \\cdot x^2$$\n",
      "is $420$, where $\\lfloor x \\rfloor$ denotes the greatest integer less than or equal to $x$ and $\\{x\\}=x- \\lfloor x \\rfloor$ denotes the fractional part of $x$. What is $p+q$?\n",
      "\n",
      "114 What is the value of$$2^{1+2+3}-(2^1+2^2+2^3)?$$\n",
      "\n",
      "115 The sum of two natural numbers is $17{,}402$. One of the two numbers is divisible by $10$. If the units digit of that number is erased, the other number is obtained. What is the difference of these two numbers?\n",
      "\n",
      "116 When a student multiplied the number $66$ by the repeating decimal, \n",
      "$$\\underline{1}.\\underline{a} \\ \\underline{b} \\ \\underline{a} \\ \\underline{b}\\ldots=\\underline{1}.\\overline{\\underline{a} \\ \\underline{b}},$$ \n",
      "where $a$ and $b$ are digits, he did not notice the notation and just multiplied $66$ times $\\underline{1}.\\underline{a} \\ \\underline{b}.$ Later he found that his answer is $0.5$ less than the correct answer. What is the $2$-digit number $\\underline{a} \\ \\underline{b}?$\n",
      "\n",
      "117 A deck of cards has only red cards and black cards. The probability of a randomly chosen card being red is $\\frac13$. When $4$ black cards are added to the deck, the probability of choosing red becomes $\\frac14$. How many cards were in the deck originally?\n",
      "\n",
      "118 What is the least possible value of $(xy-1)^2+(x+y)^2$ for real numbers $x$ and $y$?\n",
      "\n",
      "119 A sequence of numbers is defined by $D_0=0,D_1=0,D_2=1$ and $D_n=D_{n-1}+D_{n-3}$ for $n\\ge 3$. What are the parities (evenness or oddness) of the triple of numbers $(D_{2021},D_{2022},D_{2023})$, where $E$ denotes even and $O$ denotes odd?\n",
      "\n",
      "120 Which of the following is equivalent to\n",
      "$$(2+3)(2^2+3^2)(2^4+3^4)(2^8+3^8)(2^{16}+3^{16})(2^{32}+3^{32})(2^{64}+3^{64})?$$\n",
      "\n",
      "\n",
      "121 A laser is placed at the point $(3,5)$. The laser beam travels in a straight line. Larry wants the beam to hit and bounce off the $y$-axis, then hit and bounce off the $x$-axis, then hit the point $(7,5)$. What is the total distance the beam will travel along this path?\n",
      "\n",
      "122 All the roots of the polynomial $z^6-10z^5+Az^4+Bz^3+Cz^2+Dz+16$ are positive integers, possibly repeated. What is the value of $B$?\n",
      "\n",
      "123 Of the following complex numbers $z$, which one has the property that $z^5$ has the greatest real part?\n",
      "\n",
      "124 What is the value of $$\\left(\\sum_{k=1}^{20} \\log_{5^k} 3^{k^2}\\right)\\cdot\\left(\\sum_{k=1}^{100} \\log_{9^k} 25^k\\right)?$$\n",
      "\n",
      "125 A choir director must select a group of singers from among his $6$ tenors and $8$ basses. The only requirements are that the difference between the number of tenors and basses must be a multiple of $4$, and the group must have at least one singer. Let $N$ be the number of different groups that could be selected. What is the remainder when $N$ is divided by $100$?\n",
      "\n",
      "126 In the following list of numbers, the integer $n$ appears $n$ times in the list for $1 \\leq n \\leq 200$.$$1, 2, 2, 3, 3, 3, 4, 4, 4, 4, \\ldots, 200, 200, \\ldots , 200$$What is the median of the numbers in this list?\n",
      "\n",
      "127 Trapezoid $ABCD$ has $\\overline{AB}\\parallel\\overline{CD},BC=CD=43$, and $\\overline{AD}\\perp\\overline{BD}$. Let $O$ be the intersection of the diagonals $\\overline{AC}$ and $\\overline{BD}$, and let $P$ be the midpoint of $\\overline{BD}$. Given that $OP=11$, the length of $AD$ can be written in the form $m\\sqrt{n}$, where $m$ and $n$ are positive integers and $n$ is not divisible by the square of any prime. What is $m+n$?\n",
      "\n",
      "128 Let $f$ be a function defined on the set of positive rational numbers with the property that $f(a\\cdot b)=f(a)+f(b)$ for all positive rational numbers $a$ and $b$. Suppose that $f$ also has the property that $f(p)=p$ for every prime number $p$. For which of the following numbers $x$ is $f(x)<0$?\n",
      "\n",
      "129 How many solutions does the equation $\\sin \\left( \\frac{\\pi}2 \\cos x\\right)=\\cos \\left( \\frac{\\pi}2 \\sin x\\right)$ have in the closed interval $[0,\\pi]$?\n",
      "\n",
      "130 Suppose that on a parabola with vertex $V$ and a focus $F$ there exists a point $A$ such that $AF=20$ and $AV=21$. What is the sum of all possible values of the length $FV?$\n",
      "\n",
      "131 The five solutions to the equation$$(z-1)(z^2+2z+4)(z^2+4z+6)=0$$ may be written in the form $x_k+y_ki$ for $1\\le k\\le 5,$ where $x_k$ and $y_k$ are real. Let $\\mathcal E$ be the unique ellipse that passes through the points $(x_1,y_1),(x_2,y_2),(x_3,y_3),(x_4,y_4),$ and $(x_5,y_5)$. The eccentricity of $\\mathcal E$ can be written in the form $\\sqrt{\\frac mn}$, where $m$ and $n$ are relatively prime positive integers. What is $m+n$? (Recall that the eccentricity of an ellipse $\\mathcal E$ is the ratio $\\frac ca$, where $2a$ is the length of the major axis of $\\mathcal E$ and $2c$ is the is the distance between its two foci.)\n",
      "\n",
      "132 Suppose that the roots of the polynomial $P(x)=x^3+ax^2+bx+c$ are $\\cos \\frac{2\\pi}7,\\cos \\frac{4\\pi}7,$ and $\\cos \\frac{6\\pi}7$, where angles are in radians. What is $abc$?\n",
      "\n",
      "133 Frieda the frog begins a sequence of hops on a $3 \\times 3$ grid of squares, moving one square on each hop and choosing at random the direction of each hop-up, down, left, or right. She does not hop diagonally. When the direction of a hop would take Frieda off the grid, she \"wraps around\" and jumps to the opposite edge. For example if Frieda begins in the center square and makes two hops \"up\", the first hop would place her in the top row middle square, and the second hop would cause Frieda to jump to the opposite edge, landing in the bottom row middle square. Suppose Frieda starts from the center square, makes at most four hops at random, and stops hopping if she lands on a corner square. What is the probability that she reaches a corner square on one of the four hops?\n",
      "\n",
      "134 Semicircle $\\Gamma$ has diameter $\\overline{AB}$ of length $14$. Circle $\\Omega$ lies tangent to $\\overline{AB}$ at a point $P$ and intersects $\\Gamma$ at points $Q$ and $R$. If $QR=3\\sqrt3$ and $\\angle QPR=60^\\circ$, then the area of $\\triangle PQR$ equals $\\tfrac{a\\sqrt{b}}{c}$, where $a$ and $c$ are relatively prime positive integers, and $b$ is a positive integer not divisible by the square of any prime. What is $a+b+c$?\n",
      "\n",
      "135 Let $d(n)$ denote the number of positive integers that divide $n$, including $1$ and $n$. For example, $d(1)=1,d(2)=2,$ and $d(12)=6$. (This function is known as the divisor function.) Let$$f(n)=\\frac{d(n)}{\\sqrt [3]n}.$$There is a unique positive integer $N$ such that $f(N)>f(n)$ for all positive integers $n\\ne N$. What is the sum of the digits of $N?$\n",
      "\n",
      "136 What is the value of $$3+\\frac{1}{3+\\frac{1}{3+\\frac13}}?$$\n",
      "\n",
      "\n",
      "137 The sum of three numbers is $96.$ The first number is $6$ times the third number, and the third number is $40$ less than the second number. What is the absolute value of the difference between the first and second numbers?\n",
      "\n",
      "138 The least common multiple of a positive integer $n$ and $18$ is $180$, and the greatest common divisor of $n$ and $45$ is $15$. What is the sum of the digits of $n$?\n",
      "\n",
      "139 The $\\textit{taxicab distance}$ between points $(x_1, y_1)$ and $(x_2, y_2)$ in the coordinate plane is given by $$|x_1 - x_2| + |y_1 - y_2|.$$\n",
      "For how many points $P$ with integer coordinates is the taxicab distance between $P$ and the origin less than or equal to $20$?\n",
      "\n",
      "140 A data set consists of $6$ (not distinct) positive integers: $1$, $7$, $5$, $2$, $5$, and $X$. The average (arithmetic mean) of the $6$ numbers equals a value in the data set. What is the sum of all positive values of $X$?\n",
      "\n",
      "141 The infinite product\n",
      "$$\\sqrt[3]{10} \\cdot \\sqrt[3]{\\sqrt[3]{10}} \\cdot \\sqrt[3]{\\sqrt[3]{\\sqrt[3]{10}}} \\ldots$$\n",
      "evaluates to a real number. What is that number?\n",
      "\n",
      "142 On Halloween $31$ children walked into the principal's office asking for candy. They\n",
      "can be classified into three types: Some always lie; some always tell the truth; and\n",
      "some alternately lie and tell the truth. The alternaters arbitrarily choose their first\n",
      "response, either a lie or the truth, but each subsequent statement has the opposite\n",
      "truth value from its predecessor. The principal asked everyone the same three\n",
      "questions in this order.\n",
      "\n",
      "\"Are you a truth-teller?\" The principal gave a piece of candy to each of the $22$\n",
      "children who answered yes.\n",
      "\n",
      "\"Are you an alternater?\" The principal gave a piece of candy to each of the $15$\n",
      "children who answered yes.\n",
      "\n",
      "\"Are you a liar?\" The principal gave a piece of candy to each of the $9$ children who\n",
      "answered yes.\n",
      "\n",
      "How many pieces of candy in all did the principal give to the children who always\n",
      "tell the truth?\n",
      "\n",
      "143 How many ways are there to split the integers $1$ through $14$ into $7$ pairs such that in each pair, the greater number is at least $2$ times the lesser number?\n",
      "\n",
      "144 What is the product of all real numbers $x$ such that the distance on the number line between $\\log_6x$ and $\\log_69$ is twice the distance on the number line between $\\log_610$ and $1$?\n",
      "\n",
      "145 Let $M$ be the midpoint of $\\overline{AB}$ in regular tetrahedron $ABCD$. What is $\\cos(\\angle CMD)$?\n",
      "\n",
      "146 Let $\\mathcal{R}$ be the region in the complex plane consisting of all complex numbers $z$ that can be written as the sum of complex numbers $z_1$ and $z_2$, where $z_1$ lies on the segment with endpoints $3$ and $4i$, and $z_2$ has magnitude at most $1$. What integer is closest to the area of $\\mathcal{R}$?  \n",
      "\n",
      "147 What is the value of $$(\\log 5)^{3}+(\\log 20)^{3}+(\\log 8)(\\log 0.25)$$ where $\\log$ denotes the base-ten logarithm?\n",
      "\n",
      "148 The roots of the polynomial $10x^3 - 39x^2 + 29x - 6$ are the height, length, and width of a rectangular box (right rectangular prism). A new rectangular box is formed by lengthening each edge of the original box by $2$\n",
      "units. What is the volume of the new box?\n",
      "\n",
      "149 A $\\emph{triangular number}$ is a positive integer that can be expressed in the form $t_n = 1+2+3+\\cdots+n$, for some positive integer $n$. The three smallest triangular numbers that are also perfect squares are\n",
      "$t_1 = 1 = 1^2$, $t_8 = 36 = 6^2$, and $t_{49} = 1225 = 35^2$. What is the sum of the digits of the fourth smallest triangular number that is also a perfect square?\n",
      "\n",
      "150 Suppose $a$ is a real number such that the equation $$a\\cdot(\\sin{x}+\\sin{(2x)}) = \\sin{(3x)}$$\n",
      "has more than one solution in the interval $(0, \\pi)$. The set of all such $a$ that can be written\n",
      "in the form $$(p,q) \\cup (q,r),$$\n",
      "where $p, q,$ and $r$ are real numbers with $p < q< r$. What is $p+q+r$?\n",
      "\n",
      "151 Let $T_k$ be the transformation of the coordinate plane that first rotates the plane $k$ degrees counterclockwise around the origin and then reflects the plane across the $y$-axis. What is the least positive\n",
      "integer $n$ such that performing the sequence of transformations $T_1, T_2, T_3, \\cdots, T_n$ returns the point $(1,0)$ back to itself?\n",
      "\n",
      "152 Isosceles trapezoid $ABCD$ has parallel sides $\\overline{AD}$ and $\\overline{BC},$ with $BC < AD$ and $AB = CD.$ There is a point $P$ in the plane such that $PA=1, PB=2, PC=3,$ and $PD=4.$ What is $\\tfrac{BC}{AD}?$\n",
      "\n",
      "153 Let $$P(x) = x^{2022} + x^{1011} + 1.$$ Which of the following polynomials is a factor of $P(x)$?\n",
      "\n",
      "154 Let $c$ be a real number, and let $z_1$ and $z_2$ be the two complex numbers satisfying the equation\n",
      "$z^2 - cz + 10 = 0$. Points $z_1$, $z_2$, $\\frac{1}{z_1}$, and $\\frac{1}{z_2}$ are the vertices of (convex) quadrilateral $\\mathcal{Q}$ in the complex plane. When the area of $\\mathcal{Q}$ obtains its maximum possible value, $c$ is closest to which of the following?\n",
      "\n",
      "155 Let $h_n$ and $k_n$ be the unique relatively prime positive integers such that $$\\frac{1}{1}+\\frac{1}{2}+\\frac{1}{3}+\\cdots+\\frac{1}{n}=\\frac{h_n}{k_n}.$$ Let $L_n$ denote the least common multiple of the numbers $1, 2, 3, \\ldots, n$. For how many integers with $1\\le{n}\\le{22}$ is $k_n<L_n$?\n",
      "\n",
      "156 How many strings of length $5$ formed from the digits $0$, $1$, $2$, $3$, $4$ are there such that for each $j \\in \\{1,2,3,4\\}$, at least $j$ of the digits are less than $j$? (For example, $02214$ satisfies this condition\n",
      "because it contains at least $1$ digit less than $1$, at least $2$ digits less than $2$, at least $3$ digits less\n",
      "than $3$, and at least $4$ digits less than $4$. The string $23404$ does not satisfy the condition because it\n",
      "does not contain at least $2$ digits less than $2$.)\n",
      "\n",
      "157 A circle with integer radius $r$ is centered at $(r, r)$. Distinct line segments of length $c_i$ connect points $(0, a_i)$ to $(b_i, 0)$ for $1 \\le i \\le 14$ and are tangent to the circle, where $a_i$, $b_i$, and $c_i$ are all positive integers and $c_1 \\le c_2 \\le \\cdots \\le c_{14}$. What is the ratio $\\frac{c_{14}}{c_1}$ for the least possible value of $r$?\n",
      "\n",
      "158 What is the value of $(2^0-1+5^2-0)^{-1}\\times5?$\n",
      "\n",
      "159 Two of the three sides of a triangle are 20 and 15. Which of the following numbers is not a possible perimeter of the triangle?\n",
      "\n",
      "160 Mr. Patrick teaches math to $15$ students. He was grading tests and found that when he graded everyone's test except Payton's, the average grade for the class was $80$. After he graded Payton's test, the test average became $81$. What was Payton's score on the test?\n",
      "\n",
      "161 The sum of two positive numbers is $5$ times their difference. What is the ratio of the larger number to the smaller number?\n",
      "\n",
      "162 Sreshtha needs to estimate the quantity $\\frac{a}{b} - c$, where $a, b,$ and $c$ are large positive integers. She rounds each of the integers so that the calculation will be easier to do mentally. In which of these situations will her answer necessarily be greater than the exact value of $\\frac{a}{b} - c$?\n",
      "\n",
      "163 Two years ago Pete was three times as old as his cousin Claire. Two years before that, Pete was four times as old as Claire. In how many years will the ratio of their ages be $2$ : $1$ ?\n",
      "\n",
      "164 The ratio of the length to the width of a rectangle is $4$ : $3$. If the rectangle has diagonal of length $d$, then the area may be expressed as $kd^2$ for some constant $k$. What is $k$?\n",
      "\n",
      "165 A box contains 2 red marbles, 2 green marbles, and 2 yellow marbles. Carol takes 2 marbles from the box at random; then Claudia takes 2 of the remaining marbles at random; and then Cheryl takes the last 2 marbles. What is the probability that Cheryl gets 2 marbles of the same color?\n",
      "\n",
      "166 Integers $x$ and $y$ with $x>y>0$ satisfy $x+y+xy=80$. What is $x$?\n",
      "\n",
      "167 On a sheet of paper, Isabella draws a circle of radius $2$, a circle of radius $3$, and all possible lines simultaneously tangent to both circles. Isabella notices that she has drawn exactly $k \\ge  0$ lines. How many different values of $k$ are possible?\n",
      "\n",
      "168 The parabolas $y=ax^2 - 2$ and $y=4 - bx^2$ intersect the coordinate axes in exactly four points, and these four points are the vertices of a kite of area $12$. What is $a+b$?\n",
      "\n",
      "169 A league with 12 teams holds a round-robin tournament, with each team playing every other team exactly once. Games either end with one team victorious or else end in a draw. A team scores 2 points for every game it wins and 1 point for every game it draws. Which of the following is NOT a true statement about the list of 12 scores?\n",
      "\n",
      "170 What is the value of $a$ for which $\\frac{1}{\\text{log}_2a} + \\frac{1}{\\text{log}_3a} + \\frac{1}{\\text{log}_4a} = 1$?\n",
      "\n",
      "171 What is the minimum number of digits to the right of the decimal point needed to express the fraction $\\frac{123456789}{2^{26}\\cdot 5^4}$ as a decimal?\n",
      "\n",
      "172 Tetrahedron $ABCD$ has $AB=5$, $AC=3$, $BC=4$, $BD=4$, $AD=3$, and $CD=\\tfrac{12}5\\sqrt2$.  What is the volume of the tetrahedron?\n",
      "\n",
      "173 Eight people are sitting around a circular table, each holding a fair coin. All eight people flip their coins and those who flip heads stand while those who flip tails remain seated. What is the probability that no two adjacent people will stand?\n",
      "\n",
      "174 The zeros of the function $f(x) = x^2-ax+2a$ are integers. What is the sum of the possible values of $a$?\n",
      "\n",
      "175 For some positive integers $p$, there is a quadrilateral $ABCD$ with positive integer side lengths, perimeter $p$, right angles at $B$ and $C$, $AB=2$, and $CD=AD$.  How many different values of $p<2015$ are possible?\n",
      "\n",
      "176 Isosceles triangles $T$ and $T'$ are not congruent but have the same area and the same perimeter.  The sides of $T$ have lengths $5$, $5$, and $8$, while those of $T'$ have lengths $a$, $a$, and $b$.  Which of the following numbers is closest to $b$?\n",
      "\n",
      "177 A circle of radius $r$ passes through both foci of, and exactly four points on, the ellipse with equation $x^2+16y^2=16.$ The set of all possible values of $r$ is an interval $[a,b).$ What is $a+b?$\n",
      "\n",
      "178 For each positive integer $n$, let $S(n)$ be the number of sequences of length $n$ consisting solely of the letters $A$ and $B$, with no more than three $A$s in a row and no more than three $B$s in a row. What is the remainder when $S(2015)$ is divided by $12$?\n",
      "\n",
      "179 Let $S$ be a square of side length 1. Two points are chosen independently at random on the sides of $S$. The probability that the straight-line distance between the points is at least $\\frac12$ is $\\frac{a-b\\pi}{c}$, where $a,b,$ and $c$ are positive integers and $\\text{gcd}(a,b,c) = 1$. What is $a+b+c$?\n",
      "\n",
      "180 Rational numbers $a$ and $b$ are chosen at random among all rational numbers in the interval $[0,2)$ that can be written as fractions $\\frac{n}{d}$ where $n$ and $d$ are integers with $1 \\le d \\le 5$. What is the probability that\n",
      "$$(\\text{cos}(a\\pi)+i\\text{sin}(b\\pi))^4$$\n",
      "is a real number?\n",
      "\n",
      "181 What is $10\\cdot\\left(\\tfrac{1}{2}+\\tfrac{1}{5}+\\tfrac{1}{10}\\right)^{-1}?$\n",
      "\n",
      "182 At the theater children get in for half price.  The price for $5$ adult tickets and $4$ child tickets is $24.50$.  How much would $8$ adult tickets and $6$ child tickets cost?\n",
      "\n",
      "183 Walking down Jane Street, Ralph passed four houses in a row, each painted a different color. He passed the orange house before the red house, and he passed the blue house before the yellow house. The blue house was not next to the yellow house. How many orderings of the colored houses are possible?\n",
      "\n",
      "184 Suppose that $a$ cows give $b$ gallons of milk in $c$ days. At this rate, how many gallons of milk will $d$ cows give in $e$ days?\n",
      "\n",
      "185 On an algebra quiz, $10\\%$ of the students scored $70$ points, $35\\%$ scored $80$ points, $30\\%$ scored $90$ points, and the rest scored $100$ points. What is the difference between the mean and median score of the students' scores on this quiz?\n",
      "\n",
      "186 \n",
      "187 The first three terms of a geometric progression are $\\sqrt 3$, $\\sqrt[3]3$, and $\\sqrt[6]3$.  What is the fourth term?\n",
      "\n",
      "188 A customer who intends to purchase an appliance has three coupons, only one of which may be used:\n",
      "\n",
      "Coupon 1: $10\\%$ off the listed price if the listed price is at least $\\textdollar50$\n",
      "\n",
      "Coupon 2: $\\textdollar 20$ off the listed price if the listed price is at least $\\textdollar100$\n",
      "\n",
      "Coupon 3: $18\\%$ off the amount by which the listed price exceeds $\\textdollar100$\n",
      "\n",
      "For which of the following listed prices will coupon $1$ offer a greater price reduction than either coupon $2$ or coupon $3$?\n",
      "\n",
      "189 Five positive consecutive integers starting with $a$ have average $b$. What is the average of $5$ consecutive integers that start with $b$?\n",
      "\n",
      "190 Three congruent isosceles triangles are constructed with their bases on the sides of an equilateral triangle of side length $1$.  The sum of the areas of the three isosceles triangles is the same as the area of the equilateral triangle.  What is the length of one of the two congruent sides of one of the isosceles triangles?\n",
      "\n",
      "191 David drives from his home to the airport to catch a flight.  He drives $35$ miles in the first hour, but realizes that he will be $1$ hour late if he continues at this speed.  He increases his speed by $15$ miles per hour for the rest of the way to the airport and arrives $30$ minutes early.  How many miles is the airport from his home?\n",
      "\n",
      "192 Two circles intersect at points $A$ and $B$.  The minor arcs $AB$ measure $30^\\circ$ on one circle and $60^\\circ$ on the other circle.  What is the ratio of the area of the larger circle to the area of the smaller circle?\n",
      "\n",
      "193 A fancy bed and breakfast inn has $5$ rooms, each with a distinctive color-coded decor.  One day $5$ friends arrive to spend the night.  There are no other guests that night.  The friends can room in any combination they wish, but with no more than $2$ friends per room.  In how many ways can the innkeeper assign the guests to the rooms?\n",
      "\n",
      "194 Let $a<b<c$ be three integers such that $a,b,c$ is an arithmetic progression and $a,c,b$ is a geometric progression.  What is the smallest possible value of $c$?\n",
      "\n",
      "195 A five-digit palindrome is a positive integer with respective digits $abcba$, where $a$ is non-zero.  Let $S$ be the sum of all five-digit palindromes.  What is the sum of the digits of $S$?\n",
      "\n",
      "196 The product $(8)(888\\dots8)$, where the second factor has $k$ digits, is an integer whose digits have a sum of $1000$.  What is $k$?\n",
      "\n",
      "197 The domain of the function $f(x)=\\log_{\\frac12}(\\log_4(\\log_{\\frac14}(\\log_{16}(\\log_{\\frac1{16}}x))))$ is an interval of length $\\tfrac mn$, where $m$ and $n$ are relatively prime positive integers.  What is $m+n$?\n",
      "\n",
      "198 There are exactly $N$ distinct rational numbers $k$ such that $|k|<200$ and $$5x^2+kx+12=0$$ has at least one integer solution for $x$.  What is $N$?\n",
      "\n",
      "199 In $\\triangle BAC$, $\\angle BAC=40^\\circ$, $AB=10$, and $AC=6$.  Points $D$ and $E$ lie on $\\overline{AB}$ and $\\overline{AC}$ respectively.  What is the minimum possible value of $BE+DE+CD$?\n",
      "\n",
      "200 For every real number $x$, let $\\lfloor x\\rfloor$ denote the greatest integer not exceeding $x$, and let $$f(x)=\\lfloor x\\rfloor(2014^{x-\\lfloor x\\rfloor}-1).$$  The set of all numbers $x$ such that $1\\leq x<2014$ and $f(x)\\leq 1$ is a union of disjoint intervals.  What is the sum of the lengths of those intervals?\n",
      "\n",
      "201 The number $5^{867}$ is between $2^{2013}$ and $2^{2014}$.  How many pairs of integers $(m,n)$ are there such that $1\\leq m\\leq 2012$ and $$5^n<2^m<2^{m+2}<5^{n+1}?$$\n",
      "\n",
      "202 The fraction \n",
      "\n",
      "$$\\dfrac1{99^2}=0.\\overline{b_{n-1}b_{n-2}\\ldots b_2b_1b_0},$$\n",
      "\n",
      "where $n$ is the length of the period of the repeating decimal expansion.  What is the sum $b_0+b_1+\\cdots+b_{n-1}$?\n",
      "\n",
      "203 Let $f_0(x)=x+|x-100|-|x+100|$, and for $n\\geq 1$, let $f_n(x)=|f_{n-1}(x)|-1$.  For how many values of $x$ is $f_{100}(x)=0$?\n",
      "\n",
      "204 The parabola $P$ has focus $(0,0)$ and goes through the points $(4,3)$ and $(-4,-3)$.  For how many points $(x,y)\\in P$ with integer coordinates is it true that $|4x+3y|\\leq 1000$?\n",
      "\n",
      "205 A flower bouquet contains pink roses, red roses, pink carnations, and red carnations. One third of the pink flowers are roses, three fourths of the red flowers are carnations, and six tenths of the flowers are pink. What percent of the flowers are carnations?\n",
      "\n",
      "206 What is the value of $$\\frac{2^{2014}+2^{2012}}{2^{2014}-2^{2012}}?$$\n",
      "\n",
      "207 Tom, Dorothy, and Sammy went on a vacation and agreed to split the costs evenly. During their trip Tom paid $$105$, Dorothy paid $$125$, and Sammy paid $$175$. In order to share the costs equally, Tom gave Sammy $t$ dollars, and Dorothy gave Sammy $d$ dollars. What is $t-d$?\n",
      "\n",
      "208 In a recent basketball game, Shenille attempted only three-point shots and two-point shots. She was successful on $20\\%$ of her three-point shots and $30\\%$ of her two-point shots. Shenille attempted $30$ shots. How many points did she score?\n",
      "\n",
      "209 The sequence $S_1, S_2, S_3, \\cdots, S_{10}$ has the property that every term beginning with the third is the sum of the previous two.  That is, $$S_n = S_{n-2} + S_{n-1} \\text{ for } n \\ge 3.$$ Suppose that $S_9 = 110$ and $S_7 = 42$.  What is $S_4$?\n",
      "\n",
      "210 Given that $x$ and $y$ are distinct nonzero real numbers such that $x+\\tfrac{2}{x} = y + \\tfrac{2}{y}$, what is $xy$?\n",
      "\n",
      "211 Let $S$ be the set of positive integers $n$ for which $\\tfrac{1}{n}$ has the repeating decimal representation $0.\\overline{ab} = 0.ababab\\cdots,$ with $a$ and $b$ different digits.  What is the sum of the elements of $S$?\n",
      "\n",
      "212 The angles in a particular triangle are in arithmetic progression, and the side lengths are $4,5,x$. The sum of the possible values of x equals $a+\\sqrt{b}+\\sqrt{c}$ where $a, b$, and $c$ are positive integers. What is $a+b+c$?\n",
      "\n",
      "213 Let points $A = (0,0) , \\ B = (1,2), \\ C = (3,3),$ and $D = (4,0)$. Quadrilateral $ABCD$ is cut into equal area pieces by a line passing through $A$. This line intersects $\\overline{CD}$ at point $\\left (\\frac{p}{q}, \\frac{r}{s} \\right )$, where these fractions are in lowest terms. What is $p + q + r + s$?\n",
      "\n",
      "214 The sequence\n",
      "\n",
      "$\\log_{12}{162}$, $\\log_{12}{x}$, $\\log_{12}{y}$, $\\log_{12}{z}$, $\\log_{12}{1250}$\n",
      "\n",
      "is an arithmetic progression. What is $x$?\n",
      "\n",
      "215 Rabbits Peter and Pauline have three offspring—Flopsie, Mopsie, and Cotton-tail. These five rabbits are to be distributed to four different pet stores so that no store gets both a parent and a child. It is not required that every store gets a rabbit. In how many different ways can this be done?\n",
      "\n",
      "216 $A$, $B$, $C$ are three piles of rocks. The mean weight of the rocks in $A$ is $40$ pounds, the mean weight of the rocks in $B$ is $50$ pounds, the mean weight of the rocks in the combined piles $A$ and $B$ is $43$ pounds, and the mean weight of the rocks in the combined piles $A$ and $C$ is $44$ pounds. What is the greatest possible integer value for the mean in pounds of the rocks in the combined piles $B$ and $C$?\n",
      "\n",
      "217 A group of $12$ pirates agree to divide a treasure chest of gold coins among themselves as follows. The $k^\\text{th}$ pirate to take a share takes $\\frac{k}{12}$ of the coins that remain in the chest. The number of coins initially in the chest is the smallest number for which this arrangement will allow each pirate to receive a positive whole number of coins. How many coins does the $12^{\\text{th}}$ pirate receive?\n",
      "\n",
      "218 Six spheres of radius $1$ are positioned so that their centers are at the vertices of a regular hexagon of side length $2$. The six spheres are internally tangent to a larger sphere whose center is the center of the hexagon. An eighth sphere is externally tangent to the six smaller spheres and internally tangent to the larger sphere. What is the radius of this eighth sphere?\n",
      "\n",
      "219 In $\\bigtriangleup ABC$, $AB = 86$, and $AC = 97$. A circle with center $A$ and radius $AB$ intersects $\\overline{BC}$ at points $B$ and $X$. Moreover $\\overline{BX}$ and $\\overline{CX}$ have integer lengths. What is $BC$?\n",
      "\n",
      "220 Let $S$ be the set $\\{1,2,3,...,19\\}$. For $a,b \\in S$, define $a \\succ b$ to mean that either $0 < a - b \\le 9$ or $b - a > 9$. How many ordered triples $(x,y,z)$ of elements of $S$ have the property that $x \\succ y$, $y \\succ z$, and $z \\succ x$?\n",
      "\n",
      "221 A palindrome is a nonnegative integer number that reads the same forwards and backwards when written in base 10 with no leading zeros. A 6-digit palindrome $n$ is chosen uniformly at random. What is the probability that $\\frac{n}{11}$ is also a palindrome?\n",
      "\n",
      "222 $ABCD$ is a square of side length $\\sqrt{3} + 1$. Point $P$ is on $\\overline{AC}$ such that $AP = \\sqrt{2}$. The square region bounded by $ABCD$ is rotated $90^{\\circ}$ counterclockwise with center $P$, sweeping out a region whose area is $\\frac{1}{c} (a \\pi + b)$, where $a$, $b$, and $c$ are positive integers and $\\text{gcd}(a,b,c) = 1$. What is $a + b + c$?\n",
      "\n",
      "223 Three distinct segments are chosen at random among the segments whose end-points are the vertices of a regular 12-gon. What is the probability that the lengths of these three segments are the three side lengths of a triangle with positive area?\n",
      "\n",
      "224 Let $f : \\mathbb{C} \\to \\mathbb{C}$ be defined by $f(z) = z^2 + iz + 1$. How many complex numbers $z$ are there such that $\\text{Im}(z) > 0$ and both the real and the imaginary parts of $f(z)$ are integers with absolute value at most $10$?\n",
      "\n"
     ]
    }
   ],
   "source": [
    "mycursor.execute(\"SELECT id, statement FROM Problems\")\n",
    "for row in mycursor.fetchall():\n",
    "    print(row[0], row[1])"
   ],
   "metadata": {
    "collapsed": false
   }
  },
  {
   "cell_type": "code",
   "execution_count": 13,
   "outputs": [],
   "source": [
    "from sympy.parsing.latex import parse_latex"
   ],
   "metadata": {
    "collapsed": false
   }
  },
  {
   "cell_type": "code",
   "execution_count": 14,
   "outputs": [
    {
     "name": "stdout",
     "output_type": "stream",
     "text": [
      "-g*n*o + (T*(h*(r*(e*(e*(di*(s*(t*(i*(n*(c*(t*(s*(e*(g*(m*(e*(n*(t*(s*(a*(r*(e*(c*(h*(o*(s*(e*(n*(a*(t*(r*(a*(n*(do*(m*(a*(m*(o*(n*(g*(t*(h*(e*(s*(e*(g*(m*(e*(n*(t*(s*(w*(h*(o*(s*(e*(e*(d*n)))))))))))))))))))))))))))))))))))))))))))))))))))))))))) - p*o*(i*(n*(t*(s*(a*(r*(e*(t*(h*(e*(v*(e*(r*(t*(i*(c*(e*(s*(o*(f*(a*(r*(e*(g*(u*(l*(a*(r*12)))))))))))))))))))))))))))))\n"
     ]
    }
   ],
   "source": [
    "print(parse_latex('Three distinct segments are chosen at random among the segments whose end-points are the vertices of a regular 12-gon. What is the probability that the lengths of these three segments are the three side lengths of a triangle with positive area?'))"
   ],
   "metadata": {
    "collapsed": false
   }
  }
 ],
 "metadata": {
  "kernelspec": {
   "display_name": "Python 3",
   "language": "python",
   "name": "python3"
  },
  "language_info": {
   "codemirror_mode": {
    "name": "ipython",
    "version": 2
   },
   "file_extension": ".py",
   "mimetype": "text/x-python",
   "name": "python",
   "nbconvert_exporter": "python",
   "pygments_lexer": "ipython2",
   "version": "2.7.6"
  }
 },
 "nbformat": 4,
 "nbformat_minor": 0
}
