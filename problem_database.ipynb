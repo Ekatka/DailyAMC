{
 "cells": [
  {
   "cell_type": "code",
   "execution_count": 1,
   "metadata": {
    "collapsed": true
   },
   "outputs": [],
   "source": [
    "import mysql.connector\n"
   ]
  },
  {
   "cell_type": "code",
   "execution_count": 53,
   "outputs": [
    {
     "name": "stdout",
     "output_type": "stream",
     "text": [
      "<mysql.connector.connection_cext.CMySQLConnection object at 0x7effcc560f70>\n"
     ]
    }
   ],
   "source": [
    "mydb = mysql.connector.connect(\n",
    "  host=\"localhost\",\n",
    "  user=\"ekatka\",\n",
    "  password=\"password\"\n",
    ")\n",
    "\n",
    "print(mydb)"
   ],
   "metadata": {
    "collapsed": false
   }
  },
  {
   "cell_type": "code",
   "execution_count": 54,
   "outputs": [],
   "source": [
    "mycursor = mydb.cursor()"
   ],
   "metadata": {
    "collapsed": false
   }
  },
  {
   "cell_type": "code",
   "execution_count": 55,
   "outputs": [],
   "source": [
    "mycursor.execute(\"SHOW DATABASES\")"
   ],
   "metadata": {
    "collapsed": false
   }
  },
  {
   "cell_type": "markdown",
   "source": [],
   "metadata": {
    "collapsed": false
   }
  },
  {
   "cell_type": "code",
   "execution_count": 16,
   "outputs": [],
   "source": [
    "mycursor.execute(\"CREATE DATABASE dailyAMC\")"
   ],
   "metadata": {
    "collapsed": false
   }
  },
  {
   "cell_type": "code",
   "execution_count": 56,
   "outputs": [
    {
     "name": "stdout",
     "output_type": "stream",
     "text": [
      "('dailyAMC',)\n",
      "('information_schema',)\n",
      "('mysql',)\n",
      "('performance_schema',)\n",
      "('sys',)\n"
     ]
    }
   ],
   "source": [
    "for x in mycursor:\n",
    "  print(x)"
   ],
   "metadata": {
    "collapsed": false
   }
  },
  {
   "cell_type": "code",
   "execution_count": 65,
   "outputs": [],
   "source": [
    "mycursor.execute(\"USE dailyAMC;\")\n",
    "# mycursor.execute(\"DROP TABLE Problems;\")\n",
    "mycursor.execute(\"CREATE TABLE Problems ( id INT NOT NULL AUTO_INCREMENT PRIMARY KEY,statement TEXT, difficulty INT, original TEXT, answer TEXT);\")\n"
   ],
   "metadata": {
    "collapsed": false
   }
  },
  {
   "cell_type": "code",
   "execution_count": 72,
   "outputs": [],
   "source": [
    "mycursor.execute(\"SHOW TABLES;\")"
   ],
   "metadata": {
    "collapsed": false
   }
  },
  {
   "cell_type": "code",
   "execution_count": 73,
   "outputs": [
    {
     "name": "stdout",
     "output_type": "stream",
     "text": [
      "('Answers',)\n",
      "('Assigments',)\n",
      "('Problems',)\n",
      "('Solutions',)\n",
      "('Users',)\n"
     ]
    }
   ],
   "source": [
    "for x in mycursor:\n",
    "  print(x)"
   ],
   "metadata": {
    "collapsed": false
   }
  },
  {
   "cell_type": "code",
   "execution_count": 63,
   "outputs": [],
   "source": [
    "mycursor.execute(\"USE dailyAMC;\")\n",
    "mycursor.execute(\"CREATE TABLE Users ( id INT NOT NULL AUTO_INCREMENT PRIMARY KEY, email VARCHAR(320), password_hash CHAR(40) );\")"
   ],
   "metadata": {
    "collapsed": false
   }
  },
  {
   "cell_type": "code",
   "execution_count": null,
   "outputs": [],
   "source": [],
   "metadata": {
    "collapsed": false
   }
  },
  {
   "cell_type": "code",
   "execution_count": 71,
   "outputs": [],
   "source": [
    "for x in mycursor:\n",
    "  print(x)"
   ],
   "metadata": {
    "collapsed": false
   }
  },
  {
   "cell_type": "code",
   "execution_count": 68,
   "outputs": [],
   "source": [
    "mycursor.execute(\"USE dailyAMC;\")\n",
    "mycursor.execute(\"CREATE TABLE Assigments ( id INT NOT NULL AUTO_INCREMENT, \"\n",
    "                 \"date DATE, \"\n",
    "                 \"problem_id INT, \"\n",
    "                 \"PRIMARY KEY (id), \"\n",
    "                 \"FOREIGN KEY (problem_id) REFERENCES Problems(id));\")"
   ],
   "metadata": {
    "collapsed": false
   }
  },
  {
   "cell_type": "code",
   "execution_count": 69,
   "outputs": [],
   "source": [
    "mycursor.execute(\"CREATE TABLE  Answers ( id INT NOT NULL AUTO_INCREMENT,\"\n",
    "                 \"user_id INT,\"\n",
    "                 \"assigment_id INT,\"\n",
    "                 \"answer VARCHAR(320),\"\n",
    "                 \"PRIMARY KEY(id),\"\n",
    "                 \"FOREIGN KEY (user_id) REFERENCES Users(id),\"\n",
    "                 \"FOREIGN KEY (assigment_id) REFERENCES Assigments(id));\")"
   ],
   "metadata": {
    "collapsed": false
   }
  },
  {
   "cell_type": "code",
   "execution_count": 70,
   "outputs": [],
   "source": [
    "mycursor.execute(\"USE dailyAMC;\")\n",
    "# mycursor.execute(\"DROP TABLE Solutions\")\n",
    "mycursor.execute(\"CREATE TABLE Solutions (id INT NOT NULL AUTO_INCREMENT, problem_id INT, solution_text VARCHAR(320), is_answer TINYINT,\"\n",
    "                 \"PRIMARY KEY (id), \"\n",
    "                 \"FOREIGN KEY (problem_id) REFERENCES Problems(id));\")"
   ],
   "metadata": {
    "collapsed": false
   }
  },
  {
   "cell_type": "code",
   "execution_count": 62,
   "outputs": [],
   "source": [
    "mycursor.execute(\"DROP TABLE Solutions\")\n",
    "mycursor.execute(\"DROP TABLE Answers\")\n",
    "mycursor.execute(\"DROP TABLE Assigments\")\n",
    "mycursor.execute(\"DROP TABLE Users\")\n",
    "mycursor.execute(\"DROP TABLE Problems\")"
   ],
   "metadata": {
    "collapsed": false
   }
  },
  {
   "cell_type": "code",
   "execution_count": 76,
   "outputs": [],
   "source": [
    "mycursor.execute(\"CREATE TABLE test ( id INT NOT NULL AUTO_INCREMENT PRIMARY KEY,statement TEXT, difficulty INT, original TEXT, answer TEXT);\")\n"
   ],
   "metadata": {
    "collapsed": false
   }
  },
  {
   "cell_type": "code",
   "execution_count": 81,
   "outputs": [],
   "source": [
    "statement = 'aaba'\n",
    "dif = 3\n",
    "origin = 'link'\n",
    "answer = 'latex latex'"
   ],
   "metadata": {
    "collapsed": false
   }
  },
  {
   "cell_type": "code",
   "execution_count": 85,
   "outputs": [],
   "source": [
    "mysql_insert_query = 'INSERT INTO test(statement, difficulty, original, answer) VALUES (%s, %s, %s, %s)'\n",
    "mycursor.execute(mysql_insert_query, (statement, dif, origin, answer))"
   ],
   "metadata": {
    "collapsed": false
   }
  },
  {
   "cell_type": "code",
   "execution_count": 86,
   "outputs": [],
   "source": [
    "mycursor.execute('select * from test')\n"
   ],
   "metadata": {
    "collapsed": false
   }
  },
  {
   "cell_type": "code",
   "execution_count": 87,
   "outputs": [
    {
     "name": "stdout",
     "output_type": "stream",
     "text": [
      "(1, 'aaaa', 3, 'link', 'latex latex')\n",
      "(2, 'aaba', 3, 'link', 'latex latex')\n",
      "(3, 'aaba', 3, 'link', 'latex latex')\n"
     ]
    }
   ],
   "source": [
    "for x in mycursor:\n",
    "  print(x)"
   ],
   "metadata": {
    "collapsed": false
   }
  }
 ],
 "metadata": {
  "kernelspec": {
   "display_name": "Python 3",
   "language": "python",
   "name": "python3"
  },
  "language_info": {
   "codemirror_mode": {
    "name": "ipython",
    "version": 2
   },
   "file_extension": ".py",
   "mimetype": "text/x-python",
   "name": "python",
   "nbconvert_exporter": "python",
   "pygments_lexer": "ipython2",
   "version": "2.7.6"
  }
 },
 "nbformat": 4,
 "nbformat_minor": 0
}
