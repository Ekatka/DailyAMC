{
 "cells": [
  {
   "cell_type": "code",
   "execution_count": 1,
   "metadata": {
    "collapsed": true
   },
   "outputs": [],
   "source": [
    "import mysql.connector\n"
   ]
  },
  {
   "cell_type": "code",
   "execution_count": 2,
   "outputs": [
    {
     "name": "stdout",
     "output_type": "stream",
     "text": [
      "<mysql.connector.connection_cext.CMySQLConnection object at 0x7fd2a4458250>\n"
     ]
    }
   ],
   "source": [
    "mydb = mysql.connector.connect(\n",
    "    host=\"localhost\",\n",
    "    user=\"ekatka\",\n",
    "    password=\"password\",\n",
    "    db=\"dailyAMC\"\n",
    ")\n",
    "\n",
    "print(mydb)"
   ],
   "metadata": {
    "collapsed": false
   }
  },
  {
   "cell_type": "code",
   "execution_count": 4,
   "outputs": [],
   "source": [
    "mycursor = mydb.cursor()"
   ],
   "metadata": {
    "collapsed": false
   }
  },
  {
   "cell_type": "code",
   "execution_count": 5,
   "outputs": [],
   "source": [
    "mycursor.execute(\"SHOW DATABASES\")"
   ],
   "metadata": {
    "collapsed": false
   }
  },
  {
   "cell_type": "markdown",
   "source": [],
   "metadata": {
    "collapsed": false
   }
  },
  {
   "cell_type": "code",
   "execution_count": 16,
   "outputs": [],
   "source": [
    "mycursor.execute(\"CREATE DATABASE dailyAMC\")"
   ],
   "metadata": {
    "collapsed": false
   }
  },
  {
   "cell_type": "code",
   "execution_count": 6,
   "outputs": [
    {
     "name": "stdout",
     "output_type": "stream",
     "text": [
      "('dailyAMC',)\n",
      "('information_schema',)\n",
      "('mysql',)\n",
      "('performance_schema',)\n",
      "('phpmyadmin',)\n",
      "('sys',)\n"
     ]
    }
   ],
   "source": [
    "for x in mycursor:\n",
    "    print(x)"
   ],
   "metadata": {
    "collapsed": false
   }
  },
  {
   "cell_type": "code",
   "execution_count": 33,
   "outputs": [],
   "source": [
    "mycursor.execute(\"USE dailyAMC;\")\n",
    "# mycursor.execute(\"DROP TABLE Problems;\")\n",
    "mycursor.execute(\n",
    "    \"CREATE TABLE Problems ( id INT NOT NULL AUTO_INCREMENT PRIMARY KEY,statement TEXT, difficulty INT, original TEXT, answer TEXT);\")\n"
   ],
   "metadata": {
    "collapsed": false
   }
  },
  {
   "cell_type": "code",
   "execution_count": 72,
   "outputs": [],
   "source": [
    "mycursor.execute(\"SHOW TABLES;\")"
   ],
   "metadata": {
    "collapsed": false
   }
  },
  {
   "cell_type": "code",
   "execution_count": 73,
   "outputs": [
    {
     "name": "stdout",
     "output_type": "stream",
     "text": [
      "('Answers',)\n",
      "('Assigments',)\n",
      "('Problems',)\n",
      "('Solutions',)\n",
      "('Users',)\n"
     ]
    }
   ],
   "source": [
    "for x in mycursor:\n",
    "    print(x)"
   ],
   "metadata": {
    "collapsed": false
   }
  },
  {
   "cell_type": "code",
   "execution_count": 36,
   "outputs": [],
   "source": [
    "mycursor.execute(\"USE dailyAMC;\")\n",
    "mycursor.execute(\n",
    "    \"CREATE TABLE Users ( id INT NOT NULL AUTO_INCREMENT PRIMARY KEY, email VARCHAR(320), password_hash CHAR(40) );\")"
   ],
   "metadata": {
    "collapsed": false
   }
  },
  {
   "cell_type": "code",
   "execution_count": 28,
   "outputs": [],
   "source": [
    "mycursor.execute(\"USE dailyAMC;\")"
   ],
   "metadata": {
    "collapsed": false
   }
  },
  {
   "cell_type": "code",
   "execution_count": 71,
   "outputs": [],
   "source": [
    "for x in mycursor:\n",
    "    print(x)"
   ],
   "metadata": {
    "collapsed": false
   }
  },
  {
   "cell_type": "code",
   "execution_count": 40,
   "outputs": [],
   "source": [
    "mycursor.execute(\"USE dailyAMC;\")\n",
    "mycursor.execute(\"CREATE TABLE Assignments ( id INT NOT NULL AUTO_INCREMENT, \"\n",
    "                 \"problem_date DATE, \"\n",
    "                 \"problem_id INT, \"\n",
    "                 \"PRIMARY KEY (id), \"\n",
    "                 \"FOREIGN KEY (problem_id) REFERENCES Problems(id));\")"
   ],
   "metadata": {
    "collapsed": false
   }
  },
  {
   "cell_type": "code",
   "execution_count": 7,
   "outputs": [],
   "source": [
    "# mycursor.execute('DROP TABLE ANSWERS')\n",
    "mycursor.execute(\"CREATE TABLE  Answers ( id INT NOT NULL AUTO_INCREMENT,\"\n",
    "                 \"user_id INT,\"\n",
    "                 \"assigment_id INT,\"\n",
    "                 \"answer VARCHAR(320),\"\n",
    "                 \"PRIMARY KEY(id),\"\n",
    "                 \"FOREIGN KEY (user_id) REFERENCES Users(id),\"\n",
    "                 \"FOREIGN KEY (assigment_id) REFERENCES Assignments(problem_id));\")"
   ],
   "metadata": {
    "collapsed": false
   }
  },
  {
   "cell_type": "code",
   "execution_count": 5,
   "outputs": [],
   "source": [
    "mycursor.execute('DROP TABLE Answers')"
   ],
   "metadata": {
    "collapsed": false
   }
  },
  {
   "cell_type": "code",
   "execution_count": 39,
   "outputs": [
    {
     "ename": "ProgrammingError",
     "evalue": "1050 (42S01): Table 'Solutions' already exists",
     "output_type": "error",
     "traceback": [
      "\u001B[0;31m---------------------------------------------------------------------------\u001B[0m",
      "\u001B[0;31mMySQLInterfaceError\u001B[0m                       Traceback (most recent call last)",
      "File \u001B[0;32m~/school/maturita_informatika/MaturitniProjekt/venv/lib/python3.10/site-packages/mysql/connector/connection_cext.py:608\u001B[0m, in \u001B[0;36mCMySQLConnection.cmd_query\u001B[0;34m(self, query, raw, buffered, raw_as_string)\u001B[0m\n\u001B[1;32m    607\u001B[0m         query \u001B[38;5;241m=\u001B[39m query\u001B[38;5;241m.\u001B[39mencode(\u001B[38;5;124m\"\u001B[39m\u001B[38;5;124mutf-8\u001B[39m\u001B[38;5;124m\"\u001B[39m)\n\u001B[0;32m--> 608\u001B[0m     \u001B[38;5;28;43mself\u001B[39;49m\u001B[38;5;241;43m.\u001B[39;49m\u001B[43m_cmysql\u001B[49m\u001B[38;5;241;43m.\u001B[39;49m\u001B[43mquery\u001B[49m\u001B[43m(\u001B[49m\n\u001B[1;32m    609\u001B[0m \u001B[43m        \u001B[49m\u001B[43mquery\u001B[49m\u001B[43m,\u001B[49m\n\u001B[1;32m    610\u001B[0m \u001B[43m        \u001B[49m\u001B[43mraw\u001B[49m\u001B[38;5;241;43m=\u001B[39;49m\u001B[43mraw\u001B[49m\u001B[43m,\u001B[49m\n\u001B[1;32m    611\u001B[0m \u001B[43m        \u001B[49m\u001B[43mbuffered\u001B[49m\u001B[38;5;241;43m=\u001B[39;49m\u001B[43mbuffered\u001B[49m\u001B[43m,\u001B[49m\n\u001B[1;32m    612\u001B[0m \u001B[43m        \u001B[49m\u001B[43mraw_as_string\u001B[49m\u001B[38;5;241;43m=\u001B[39;49m\u001B[43mraw_as_string\u001B[49m\u001B[43m,\u001B[49m\n\u001B[1;32m    613\u001B[0m \u001B[43m        \u001B[49m\u001B[43mquery_attrs\u001B[49m\u001B[38;5;241;43m=\u001B[39;49m\u001B[38;5;28;43mself\u001B[39;49m\u001B[38;5;241;43m.\u001B[39;49m\u001B[43m_query_attrs\u001B[49m\u001B[43m,\u001B[49m\n\u001B[1;32m    614\u001B[0m \u001B[43m    \u001B[49m\u001B[43m)\u001B[49m\n\u001B[1;32m    615\u001B[0m \u001B[38;5;28;01mexcept\u001B[39;00m MySQLInterfaceError \u001B[38;5;28;01mas\u001B[39;00m err:\n",
      "\u001B[0;31mMySQLInterfaceError\u001B[0m: Table 'Solutions' already exists",
      "\nThe above exception was the direct cause of the following exception:\n",
      "\u001B[0;31mProgrammingError\u001B[0m                          Traceback (most recent call last)",
      "Cell \u001B[0;32mIn[39], line 3\u001B[0m\n\u001B[1;32m      1\u001B[0m mycursor\u001B[38;5;241m.\u001B[39mexecute(\u001B[38;5;124m\"\u001B[39m\u001B[38;5;124mUSE dailyAMC;\u001B[39m\u001B[38;5;124m\"\u001B[39m)\n\u001B[1;32m      2\u001B[0m \u001B[38;5;66;03m# mycursor.execute(\"DROP TABLE Solutions\")\u001B[39;00m\n\u001B[0;32m----> 3\u001B[0m \u001B[43mmycursor\u001B[49m\u001B[38;5;241;43m.\u001B[39;49m\u001B[43mexecute\u001B[49m\u001B[43m(\u001B[49m\u001B[38;5;124;43m\"\u001B[39;49m\u001B[38;5;124;43mCREATE TABLE Solutions (id INT NOT NULL AUTO_INCREMENT, problem_id INT, solution_text VARCHAR(320), is_answer TINYINT,\u001B[39;49m\u001B[38;5;124;43m\"\u001B[39;49m\n\u001B[1;32m      4\u001B[0m \u001B[43m                 \u001B[49m\u001B[38;5;124;43m\"\u001B[39;49m\u001B[38;5;124;43mPRIMARY KEY (id), \u001B[39;49m\u001B[38;5;124;43m\"\u001B[39;49m\n\u001B[1;32m      5\u001B[0m \u001B[43m                 \u001B[49m\u001B[38;5;124;43m\"\u001B[39;49m\u001B[38;5;124;43mFOREIGN KEY (problem_id) REFERENCES Problems(id));\u001B[39;49m\u001B[38;5;124;43m\"\u001B[39;49m\u001B[43m)\u001B[49m\n",
      "File \u001B[0;32m~/school/maturita_informatika/MaturitniProjekt/venv/lib/python3.10/site-packages/mysql/connector/cursor_cext.py:330\u001B[0m, in \u001B[0;36mCMySQLCursor.execute\u001B[0;34m(self, operation, params, multi)\u001B[0m\n\u001B[1;32m    325\u001B[0m             \u001B[38;5;28;01mraise\u001B[39;00m ProgrammingError(\n\u001B[1;32m    326\u001B[0m                 \u001B[38;5;124m\"\u001B[39m\u001B[38;5;124mNot all parameters were used in the SQL statement\u001B[39m\u001B[38;5;124m\"\u001B[39m\n\u001B[1;32m    327\u001B[0m             )\n\u001B[1;32m    329\u001B[0m \u001B[38;5;28;01mtry\u001B[39;00m:\n\u001B[0;32m--> 330\u001B[0m     result \u001B[38;5;241m=\u001B[39m \u001B[38;5;28;43mself\u001B[39;49m\u001B[38;5;241;43m.\u001B[39;49m\u001B[43m_cnx\u001B[49m\u001B[38;5;241;43m.\u001B[39;49m\u001B[43mcmd_query\u001B[49m\u001B[43m(\u001B[49m\n\u001B[1;32m    331\u001B[0m \u001B[43m        \u001B[49m\u001B[43mstmt\u001B[49m\u001B[43m,\u001B[49m\n\u001B[1;32m    332\u001B[0m \u001B[43m        \u001B[49m\u001B[43mraw\u001B[49m\u001B[38;5;241;43m=\u001B[39;49m\u001B[38;5;28;43mself\u001B[39;49m\u001B[38;5;241;43m.\u001B[39;49m\u001B[43m_raw\u001B[49m\u001B[43m,\u001B[49m\n\u001B[1;32m    333\u001B[0m \u001B[43m        \u001B[49m\u001B[43mbuffered\u001B[49m\u001B[38;5;241;43m=\u001B[39;49m\u001B[38;5;28;43mself\u001B[39;49m\u001B[38;5;241;43m.\u001B[39;49m\u001B[43m_buffered\u001B[49m\u001B[43m,\u001B[49m\n\u001B[1;32m    334\u001B[0m \u001B[43m        \u001B[49m\u001B[43mraw_as_string\u001B[49m\u001B[38;5;241;43m=\u001B[39;49m\u001B[38;5;28;43mself\u001B[39;49m\u001B[38;5;241;43m.\u001B[39;49m\u001B[43m_raw_as_string\u001B[49m\u001B[43m,\u001B[49m\n\u001B[1;32m    335\u001B[0m \u001B[43m    \u001B[49m\u001B[43m)\u001B[49m\n\u001B[1;32m    336\u001B[0m \u001B[38;5;28;01mexcept\u001B[39;00m MySQLInterfaceError \u001B[38;5;28;01mas\u001B[39;00m err:\n\u001B[1;32m    337\u001B[0m     \u001B[38;5;28;01mraise\u001B[39;00m get_mysql_exception(\n\u001B[1;32m    338\u001B[0m         msg\u001B[38;5;241m=\u001B[39merr\u001B[38;5;241m.\u001B[39mmsg, errno\u001B[38;5;241m=\u001B[39merr\u001B[38;5;241m.\u001B[39merrno, sqlstate\u001B[38;5;241m=\u001B[39merr\u001B[38;5;241m.\u001B[39msqlstate\n\u001B[1;32m    339\u001B[0m     ) \u001B[38;5;28;01mfrom\u001B[39;00m \u001B[38;5;21;01merr\u001B[39;00m\n",
      "File \u001B[0;32m~/school/maturita_informatika/MaturitniProjekt/venv/lib/python3.10/site-packages/mysql/connector/connection_cext.py:616\u001B[0m, in \u001B[0;36mCMySQLConnection.cmd_query\u001B[0;34m(self, query, raw, buffered, raw_as_string)\u001B[0m\n\u001B[1;32m    608\u001B[0m     \u001B[38;5;28mself\u001B[39m\u001B[38;5;241m.\u001B[39m_cmysql\u001B[38;5;241m.\u001B[39mquery(\n\u001B[1;32m    609\u001B[0m         query,\n\u001B[1;32m    610\u001B[0m         raw\u001B[38;5;241m=\u001B[39mraw,\n\u001B[0;32m   (...)\u001B[0m\n\u001B[1;32m    613\u001B[0m         query_attrs\u001B[38;5;241m=\u001B[39m\u001B[38;5;28mself\u001B[39m\u001B[38;5;241m.\u001B[39m_query_attrs,\n\u001B[1;32m    614\u001B[0m     )\n\u001B[1;32m    615\u001B[0m \u001B[38;5;28;01mexcept\u001B[39;00m MySQLInterfaceError \u001B[38;5;28;01mas\u001B[39;00m err:\n\u001B[0;32m--> 616\u001B[0m     \u001B[38;5;28;01mraise\u001B[39;00m get_mysql_exception(\n\u001B[1;32m    617\u001B[0m         err\u001B[38;5;241m.\u001B[39merrno, msg\u001B[38;5;241m=\u001B[39merr\u001B[38;5;241m.\u001B[39mmsg, sqlstate\u001B[38;5;241m=\u001B[39merr\u001B[38;5;241m.\u001B[39msqlstate\n\u001B[1;32m    618\u001B[0m     ) \u001B[38;5;28;01mfrom\u001B[39;00m \u001B[38;5;21;01merr\u001B[39;00m\n\u001B[1;32m    619\u001B[0m \u001B[38;5;28;01mexcept\u001B[39;00m \u001B[38;5;167;01mAttributeError\u001B[39;00m \u001B[38;5;28;01mas\u001B[39;00m err:\n\u001B[1;32m    620\u001B[0m     addr \u001B[38;5;241m=\u001B[39m (\n\u001B[1;32m    621\u001B[0m         \u001B[38;5;28mself\u001B[39m\u001B[38;5;241m.\u001B[39m_unix_socket \u001B[38;5;28;01mif\u001B[39;00m \u001B[38;5;28mself\u001B[39m\u001B[38;5;241m.\u001B[39m_unix_socket \u001B[38;5;28;01melse\u001B[39;00m \u001B[38;5;124mf\u001B[39m\u001B[38;5;124m\"\u001B[39m\u001B[38;5;132;01m{\u001B[39;00m\u001B[38;5;28mself\u001B[39m\u001B[38;5;241m.\u001B[39m_host\u001B[38;5;132;01m}\u001B[39;00m\u001B[38;5;124m:\u001B[39m\u001B[38;5;132;01m{\u001B[39;00m\u001B[38;5;28mself\u001B[39m\u001B[38;5;241m.\u001B[39m_port\u001B[38;5;132;01m}\u001B[39;00m\u001B[38;5;124m\"\u001B[39m\n\u001B[1;32m    622\u001B[0m     )\n",
      "\u001B[0;31mProgrammingError\u001B[0m: 1050 (42S01): Table 'Solutions' already exists"
     ]
    }
   ],
   "source": [
    "mycursor.execute(\"USE dailyAMC;\")\n",
    "# mycursor.execute(\"DROP TABLE Solutions\")\n",
    "mycursor.execute(\n",
    "    \"CREATE TABLE Solutions (id INT NOT NULL AUTO_INCREMENT, problem_id INT, solution_text VARCHAR(320), is_answer TINYINT,\"\n",
    "    \"PRIMARY KEY (id), \"\n",
    "    \"FOREIGN KEY (problem_id) REFERENCES Problems(id));\")"
   ],
   "metadata": {
    "collapsed": false
   }
  },
  {
   "cell_type": "code",
   "execution_count": 32,
   "outputs": [],
   "source": [
    "# mycursor.execute(\"DROP TABLE Solutions\")\n",
    "# mycursor.execute(\"DROP TABLE Answers\")\n",
    "mycursor.execute(\"DROP TABLE Assignments\")\n",
    "mycursor.execute(\"DROP TABLE Users\")\n",
    "mycursor.execute(\"DROP TABLE Problems\")"
   ],
   "metadata": {
    "collapsed": false
   }
  },
  {
   "cell_type": "code",
   "execution_count": 76,
   "outputs": [],
   "source": [
    "mycursor.execute(\n",
    "    \"CREATE TABLE test ( id INT NOT NULL AUTO_INCREMENT PRIMARY KEY,statement TEXT, difficulty INT, original TEXT, answer TEXT);\")\n"
   ],
   "metadata": {
    "collapsed": false
   }
  },
  {
   "cell_type": "code",
   "execution_count": 81,
   "outputs": [],
   "source": [
    "statement = 'aaba'\n",
    "dif = 3\n",
    "origin = 'link'\n",
    "answer = 'latex latex'"
   ],
   "metadata": {
    "collapsed": false
   }
  },
  {
   "cell_type": "code",
   "execution_count": 85,
   "outputs": [],
   "source": [
    "mysql_insert_query = 'INSERT INTO test(statement, difficulty, original, answer) VALUES (%s, %s, %s, %s)'\n",
    "mycursor.execute(mysql_insert_query, (statement, dif, origin, answer))"
   ],
   "metadata": {
    "collapsed": false
   }
  },
  {
   "cell_type": "code",
   "execution_count": 86,
   "outputs": [],
   "source": [
    "mycursor.execute('select * from test')\n"
   ],
   "metadata": {
    "collapsed": false
   }
  },
  {
   "cell_type": "code",
   "execution_count": 200,
   "outputs": [
    {
     "name": "stdout",
     "output_type": "stream",
     "text": [
      "355\n",
      "362\n",
      "369\n",
      "376\n",
      "383\n",
      "390\n",
      "397\n",
      "404\n",
      "411\n",
      "418\n",
      "425\n",
      "432\n",
      "439\n",
      "446\n",
      "453\n",
      "460\n",
      "467\n",
      "474\n",
      "481\n",
      "488\n",
      "495\n",
      "502\n",
      "509\n",
      "516\n"
     ]
    }
   ],
   "source": [
    "day_ids = []\n",
    "for x in mycursor:\n",
    "    print(x[0])\n",
    "    day_ids.append(x[0])"
   ],
   "metadata": {
    "collapsed": false
   }
  },
  {
   "cell_type": "code",
   "execution_count": 111,
   "outputs": [],
   "source": [
    "mycursor.execute(\"USE dailyAMC;\")"
   ],
   "metadata": {
    "collapsed": false
   }
  },
  {
   "cell_type": "code",
   "execution_count": 107,
   "outputs": [],
   "source": [
    "mycursor.execute('select solution_text from Solutions where problem_id = 6')"
   ],
   "metadata": {
    "collapsed": false
   }
  },
  {
   "cell_type": "code",
   "execution_count": 195,
   "outputs": [],
   "source": [
    "problem_ids = []\n",
    "for x in mycursor:\n",
    "    problem_ids.append(x[0])"
   ],
   "metadata": {
    "collapsed": false
   }
  },
  {
   "cell_type": "code",
   "execution_count": 196,
   "outputs": [
    {
     "name": "stdout",
     "output_type": "stream",
     "text": [
      "[136, 160, 69, 46, 70, 114, 23, 22, 205, 1, 91, 159, 115, 24, 137, 182, 48, 3, 181, 47, 2, 68, 183, 158, 92]\n"
     ]
    }
   ],
   "source": [
    "print(problem_ids)"
   ],
   "metadata": {
    "collapsed": false
   }
  },
  {
   "cell_type": "code",
   "execution_count": null,
   "outputs": [],
   "source": [
    "insert_into_Assigments = 'UPDATE Assigments SET problem_id = {} WHERE id = {}'.format(problem_ids[i], day_ids[i])"
   ],
   "metadata": {
    "collapsed": false
   }
  },
  {
   "cell_type": "code",
   "execution_count": 209,
   "outputs": [
    {
     "name": "stdout",
     "output_type": "stream",
     "text": [
      "UPDATE Assigments SET problem_id = 136 WHERE id = 355\n",
      "UPDATE Assigments SET problem_id = 160 WHERE id = 362\n",
      "UPDATE Assigments SET problem_id = 69 WHERE id = 369\n",
      "UPDATE Assigments SET problem_id = 46 WHERE id = 376\n",
      "UPDATE Assigments SET problem_id = 70 WHERE id = 383\n",
      "UPDATE Assigments SET problem_id = 114 WHERE id = 390\n",
      "UPDATE Assigments SET problem_id = 23 WHERE id = 397\n",
      "UPDATE Assigments SET problem_id = 22 WHERE id = 404\n",
      "UPDATE Assigments SET problem_id = 205 WHERE id = 411\n",
      "UPDATE Assigments SET problem_id = 1 WHERE id = 418\n",
      "UPDATE Assigments SET problem_id = 91 WHERE id = 425\n",
      "UPDATE Assigments SET problem_id = 159 WHERE id = 432\n",
      "UPDATE Assigments SET problem_id = 115 WHERE id = 439\n",
      "UPDATE Assigments SET problem_id = 24 WHERE id = 446\n",
      "UPDATE Assigments SET problem_id = 137 WHERE id = 453\n",
      "UPDATE Assigments SET problem_id = 182 WHERE id = 460\n",
      "UPDATE Assigments SET problem_id = 48 WHERE id = 467\n",
      "UPDATE Assigments SET problem_id = 3 WHERE id = 474\n",
      "UPDATE Assigments SET problem_id = 181 WHERE id = 481\n",
      "UPDATE Assigments SET problem_id = 47 WHERE id = 488\n",
      "UPDATE Assigments SET problem_id = 2 WHERE id = 495\n",
      "UPDATE Assigments SET problem_id = 68 WHERE id = 502\n",
      "UPDATE Assigments SET problem_id = 183 WHERE id = 509\n",
      "UPDATE Assigments SET problem_id = 158 WHERE id = 516\n"
     ]
    }
   ],
   "source": [
    "for i in range(24):\n",
    "    insert_into_Assigments = 'UPDATE Assigments SET problem_id = {} WHERE id = {}'.format(problem_ids[i], day_ids[i])\n",
    "    print(insert_into_Assigments)\n",
    "    mycursor.execute(insert_into_Assigments)\n",
    "    mydb.commit()"
   ],
   "metadata": {
    "collapsed": false
   }
  },
  {
   "cell_type": "code",
   "execution_count": 176,
   "outputs": [
    {
     "ename": "ProgrammingError",
     "evalue": "1060 (42S21): Duplicate column name 'day_of_week'",
     "output_type": "error",
     "traceback": [
      "\u001B[0;31m---------------------------------------------------------------------------\u001B[0m",
      "\u001B[0;31mMySQLInterfaceError\u001B[0m                       Traceback (most recent call last)",
      "File \u001B[0;32m~/school/maturita_informatika/MaturitniProjekt/venv/lib/python3.10/site-packages/mysql/connector/connection_cext.py:608\u001B[0m, in \u001B[0;36mCMySQLConnection.cmd_query\u001B[0;34m(self, query, raw, buffered, raw_as_string)\u001B[0m\n\u001B[1;32m    607\u001B[0m         query \u001B[38;5;241m=\u001B[39m query\u001B[38;5;241m.\u001B[39mencode(\u001B[38;5;124m\"\u001B[39m\u001B[38;5;124mutf-8\u001B[39m\u001B[38;5;124m\"\u001B[39m)\n\u001B[0;32m--> 608\u001B[0m     \u001B[38;5;28;43mself\u001B[39;49m\u001B[38;5;241;43m.\u001B[39;49m\u001B[43m_cmysql\u001B[49m\u001B[38;5;241;43m.\u001B[39;49m\u001B[43mquery\u001B[49m\u001B[43m(\u001B[49m\n\u001B[1;32m    609\u001B[0m \u001B[43m        \u001B[49m\u001B[43mquery\u001B[49m\u001B[43m,\u001B[49m\n\u001B[1;32m    610\u001B[0m \u001B[43m        \u001B[49m\u001B[43mraw\u001B[49m\u001B[38;5;241;43m=\u001B[39;49m\u001B[43mraw\u001B[49m\u001B[43m,\u001B[49m\n\u001B[1;32m    611\u001B[0m \u001B[43m        \u001B[49m\u001B[43mbuffered\u001B[49m\u001B[38;5;241;43m=\u001B[39;49m\u001B[43mbuffered\u001B[49m\u001B[43m,\u001B[49m\n\u001B[1;32m    612\u001B[0m \u001B[43m        \u001B[49m\u001B[43mraw_as_string\u001B[49m\u001B[38;5;241;43m=\u001B[39;49m\u001B[43mraw_as_string\u001B[49m\u001B[43m,\u001B[49m\n\u001B[1;32m    613\u001B[0m \u001B[43m        \u001B[49m\u001B[43mquery_attrs\u001B[49m\u001B[38;5;241;43m=\u001B[39;49m\u001B[38;5;28;43mself\u001B[39;49m\u001B[38;5;241;43m.\u001B[39;49m\u001B[43m_query_attrs\u001B[49m\u001B[43m,\u001B[49m\n\u001B[1;32m    614\u001B[0m \u001B[43m    \u001B[49m\u001B[43m)\u001B[49m\n\u001B[1;32m    615\u001B[0m \u001B[38;5;28;01mexcept\u001B[39;00m MySQLInterfaceError \u001B[38;5;28;01mas\u001B[39;00m err:\n",
      "\u001B[0;31mMySQLInterfaceError\u001B[0m: Duplicate column name 'day_of_week'",
      "\nThe above exception was the direct cause of the following exception:\n",
      "\u001B[0;31mProgrammingError\u001B[0m                          Traceback (most recent call last)",
      "Cell \u001B[0;32mIn[176], line 1\u001B[0m\n\u001B[0;32m----> 1\u001B[0m \u001B[43mmycursor\u001B[49m\u001B[38;5;241;43m.\u001B[39;49m\u001B[43mexecute\u001B[49m\u001B[43m(\u001B[49m\u001B[38;5;124;43m\"\u001B[39;49m\u001B[38;5;124;43mALTER TABLE Assigments ADD COLUMN day_of_week INT;\u001B[39;49m\u001B[38;5;124;43m\"\u001B[39;49m\u001B[43m)\u001B[49m\n\u001B[1;32m      2\u001B[0m mydb\u001B[38;5;241m.\u001B[39mcommit()\n",
      "File \u001B[0;32m~/school/maturita_informatika/MaturitniProjekt/venv/lib/python3.10/site-packages/mysql/connector/cursor_cext.py:330\u001B[0m, in \u001B[0;36mCMySQLCursor.execute\u001B[0;34m(self, operation, params, multi)\u001B[0m\n\u001B[1;32m    325\u001B[0m             \u001B[38;5;28;01mraise\u001B[39;00m ProgrammingError(\n\u001B[1;32m    326\u001B[0m                 \u001B[38;5;124m\"\u001B[39m\u001B[38;5;124mNot all parameters were used in the SQL statement\u001B[39m\u001B[38;5;124m\"\u001B[39m\n\u001B[1;32m    327\u001B[0m             )\n\u001B[1;32m    329\u001B[0m \u001B[38;5;28;01mtry\u001B[39;00m:\n\u001B[0;32m--> 330\u001B[0m     result \u001B[38;5;241m=\u001B[39m \u001B[38;5;28;43mself\u001B[39;49m\u001B[38;5;241;43m.\u001B[39;49m\u001B[43m_cnx\u001B[49m\u001B[38;5;241;43m.\u001B[39;49m\u001B[43mcmd_query\u001B[49m\u001B[43m(\u001B[49m\n\u001B[1;32m    331\u001B[0m \u001B[43m        \u001B[49m\u001B[43mstmt\u001B[49m\u001B[43m,\u001B[49m\n\u001B[1;32m    332\u001B[0m \u001B[43m        \u001B[49m\u001B[43mraw\u001B[49m\u001B[38;5;241;43m=\u001B[39;49m\u001B[38;5;28;43mself\u001B[39;49m\u001B[38;5;241;43m.\u001B[39;49m\u001B[43m_raw\u001B[49m\u001B[43m,\u001B[49m\n\u001B[1;32m    333\u001B[0m \u001B[43m        \u001B[49m\u001B[43mbuffered\u001B[49m\u001B[38;5;241;43m=\u001B[39;49m\u001B[38;5;28;43mself\u001B[39;49m\u001B[38;5;241;43m.\u001B[39;49m\u001B[43m_buffered\u001B[49m\u001B[43m,\u001B[49m\n\u001B[1;32m    334\u001B[0m \u001B[43m        \u001B[49m\u001B[43mraw_as_string\u001B[49m\u001B[38;5;241;43m=\u001B[39;49m\u001B[38;5;28;43mself\u001B[39;49m\u001B[38;5;241;43m.\u001B[39;49m\u001B[43m_raw_as_string\u001B[49m\u001B[43m,\u001B[49m\n\u001B[1;32m    335\u001B[0m \u001B[43m    \u001B[49m\u001B[43m)\u001B[49m\n\u001B[1;32m    336\u001B[0m \u001B[38;5;28;01mexcept\u001B[39;00m MySQLInterfaceError \u001B[38;5;28;01mas\u001B[39;00m err:\n\u001B[1;32m    337\u001B[0m     \u001B[38;5;28;01mraise\u001B[39;00m get_mysql_exception(\n\u001B[1;32m    338\u001B[0m         msg\u001B[38;5;241m=\u001B[39merr\u001B[38;5;241m.\u001B[39mmsg, errno\u001B[38;5;241m=\u001B[39merr\u001B[38;5;241m.\u001B[39merrno, sqlstate\u001B[38;5;241m=\u001B[39merr\u001B[38;5;241m.\u001B[39msqlstate\n\u001B[1;32m    339\u001B[0m     ) \u001B[38;5;28;01mfrom\u001B[39;00m \u001B[38;5;21;01merr\u001B[39;00m\n",
      "File \u001B[0;32m~/school/maturita_informatika/MaturitniProjekt/venv/lib/python3.10/site-packages/mysql/connector/connection_cext.py:616\u001B[0m, in \u001B[0;36mCMySQLConnection.cmd_query\u001B[0;34m(self, query, raw, buffered, raw_as_string)\u001B[0m\n\u001B[1;32m    608\u001B[0m     \u001B[38;5;28mself\u001B[39m\u001B[38;5;241m.\u001B[39m_cmysql\u001B[38;5;241m.\u001B[39mquery(\n\u001B[1;32m    609\u001B[0m         query,\n\u001B[1;32m    610\u001B[0m         raw\u001B[38;5;241m=\u001B[39mraw,\n\u001B[0;32m   (...)\u001B[0m\n\u001B[1;32m    613\u001B[0m         query_attrs\u001B[38;5;241m=\u001B[39m\u001B[38;5;28mself\u001B[39m\u001B[38;5;241m.\u001B[39m_query_attrs,\n\u001B[1;32m    614\u001B[0m     )\n\u001B[1;32m    615\u001B[0m \u001B[38;5;28;01mexcept\u001B[39;00m MySQLInterfaceError \u001B[38;5;28;01mas\u001B[39;00m err:\n\u001B[0;32m--> 616\u001B[0m     \u001B[38;5;28;01mraise\u001B[39;00m get_mysql_exception(\n\u001B[1;32m    617\u001B[0m         err\u001B[38;5;241m.\u001B[39merrno, msg\u001B[38;5;241m=\u001B[39merr\u001B[38;5;241m.\u001B[39mmsg, sqlstate\u001B[38;5;241m=\u001B[39merr\u001B[38;5;241m.\u001B[39msqlstate\n\u001B[1;32m    618\u001B[0m     ) \u001B[38;5;28;01mfrom\u001B[39;00m \u001B[38;5;21;01merr\u001B[39;00m\n\u001B[1;32m    619\u001B[0m \u001B[38;5;28;01mexcept\u001B[39;00m \u001B[38;5;167;01mAttributeError\u001B[39;00m \u001B[38;5;28;01mas\u001B[39;00m err:\n\u001B[1;32m    620\u001B[0m     addr \u001B[38;5;241m=\u001B[39m (\n\u001B[1;32m    621\u001B[0m         \u001B[38;5;28mself\u001B[39m\u001B[38;5;241m.\u001B[39m_unix_socket \u001B[38;5;28;01mif\u001B[39;00m \u001B[38;5;28mself\u001B[39m\u001B[38;5;241m.\u001B[39m_unix_socket \u001B[38;5;28;01melse\u001B[39;00m \u001B[38;5;124mf\u001B[39m\u001B[38;5;124m\"\u001B[39m\u001B[38;5;132;01m{\u001B[39;00m\u001B[38;5;28mself\u001B[39m\u001B[38;5;241m.\u001B[39m_host\u001B[38;5;132;01m}\u001B[39;00m\u001B[38;5;124m:\u001B[39m\u001B[38;5;132;01m{\u001B[39;00m\u001B[38;5;28mself\u001B[39m\u001B[38;5;241m.\u001B[39m_port\u001B[38;5;132;01m}\u001B[39;00m\u001B[38;5;124m\"\u001B[39m\n\u001B[1;32m    622\u001B[0m     )\n",
      "\u001B[0;31mProgrammingError\u001B[0m: 1060 (42S21): Duplicate column name 'day_of_week'"
     ]
    }
   ],
   "source": [
    "mycursor.execute(\"ALTER TABLE Assigments ADD COLUMN day_of_week INT;\")\n",
    "mydb.commit()"
   ],
   "metadata": {
    "collapsed": false
   }
  },
  {
   "cell_type": "code",
   "execution_count": null,
   "outputs": [],
   "source": [],
   "metadata": {
    "collapsed": false
   }
  },
  {
   "cell_type": "code",
   "execution_count": 61,
   "outputs": [],
   "source": [
    "mycursor.execute('SET @previous_date = CURDATE()')\n",
    "for i in range(245):\n",
    "    assigment_query = 'INSERT INTO Assignments (problem_date) VALUE (DATE_ADD(@previous_date, INTERVAL 1 day));'\n",
    "    mycursor.execute('SET @previous_date = DATE_ADD(@previous_date, INTERVAL 1 day)')\n",
    "    mycursor.execute(assigment_query)\n",
    "    mydb.commit()"
   ],
   "metadata": {
    "collapsed": false
   }
  },
  {
   "cell_type": "code",
   "execution_count": null,
   "outputs": [],
   "source": [
    "for i in range(174):\n",
    "    mycursor.execute('SET @previous_date = CURDATE()')"
   ],
   "metadata": {
    "collapsed": false
   }
  },
  {
   "cell_type": "code",
   "execution_count": 125,
   "outputs": [],
   "source": [
    "mycursor.execute('SET @previous_date = CURDATE()')\n",
    "mycursor.execute('SELECT DATE_ADD(@previous_date, INTERVAL 1 day); ')"
   ],
   "metadata": {
    "collapsed": false
   }
  },
  {
   "cell_type": "code",
   "execution_count": 130,
   "outputs": [],
   "source": [
    "mycursor.execute(\"USE dailyAMC;\")"
   ],
   "metadata": {
    "collapsed": false
   }
  },
  {
   "cell_type": "code",
   "execution_count": 139,
   "outputs": [],
   "source": [],
   "metadata": {
    "collapsed": false
   }
  },
  {
   "cell_type": "code",
   "execution_count": null,
   "outputs": [],
   "source": [
    "insest_query = 'INSERT INTO Assigments (problem_id) SELECT '"
   ],
   "metadata": {
    "collapsed": false
   }
  },
  {
   "cell_type": "code",
   "execution_count": 81,
   "outputs": [
    {
     "name": "stdout",
     "output_type": "stream",
     "text": [
      "41\n"
     ]
    }
   ],
   "source": [
    "mycursor.execute(\"SELECT id FROM Problems WHERE difficulty = 7 ORDER BY RAND()\")\n",
    "problem_ids = []\n",
    "for x in mycursor:\n",
    "    problem_ids.append(x[0])\n",
    "print(len(problem_ids))"
   ],
   "metadata": {
    "collapsed": false
   }
  },
  {
   "cell_type": "code",
   "execution_count": 158,
   "outputs": [
    {
     "ename": "ProgrammingError",
     "evalue": "1054 (42S22): Unknown column 'difficulty' in 'having clause'",
     "output_type": "error",
     "traceback": [
      "\u001B[0;31m---------------------------------------------------------------------------\u001B[0m",
      "\u001B[0;31mMySQLInterfaceError\u001B[0m                       Traceback (most recent call last)",
      "File \u001B[0;32m~/school/maturita_informatika/MaturitniProjekt/venv/lib/python3.10/site-packages/mysql/connector/connection_cext.py:608\u001B[0m, in \u001B[0;36mCMySQLConnection.cmd_query\u001B[0;34m(self, query, raw, buffered, raw_as_string)\u001B[0m\n\u001B[1;32m    607\u001B[0m         query \u001B[38;5;241m=\u001B[39m query\u001B[38;5;241m.\u001B[39mencode(\u001B[38;5;124m\"\u001B[39m\u001B[38;5;124mutf-8\u001B[39m\u001B[38;5;124m\"\u001B[39m)\n\u001B[0;32m--> 608\u001B[0m     \u001B[38;5;28;43mself\u001B[39;49m\u001B[38;5;241;43m.\u001B[39;49m\u001B[43m_cmysql\u001B[49m\u001B[38;5;241;43m.\u001B[39;49m\u001B[43mquery\u001B[49m\u001B[43m(\u001B[49m\n\u001B[1;32m    609\u001B[0m \u001B[43m        \u001B[49m\u001B[43mquery\u001B[49m\u001B[43m,\u001B[49m\n\u001B[1;32m    610\u001B[0m \u001B[43m        \u001B[49m\u001B[43mraw\u001B[49m\u001B[38;5;241;43m=\u001B[39;49m\u001B[43mraw\u001B[49m\u001B[43m,\u001B[49m\n\u001B[1;32m    611\u001B[0m \u001B[43m        \u001B[49m\u001B[43mbuffered\u001B[49m\u001B[38;5;241;43m=\u001B[39;49m\u001B[43mbuffered\u001B[49m\u001B[43m,\u001B[49m\n\u001B[1;32m    612\u001B[0m \u001B[43m        \u001B[49m\u001B[43mraw_as_string\u001B[49m\u001B[38;5;241;43m=\u001B[39;49m\u001B[43mraw_as_string\u001B[49m\u001B[43m,\u001B[49m\n\u001B[1;32m    613\u001B[0m \u001B[43m        \u001B[49m\u001B[43mquery_attrs\u001B[49m\u001B[38;5;241;43m=\u001B[39;49m\u001B[38;5;28;43mself\u001B[39;49m\u001B[38;5;241;43m.\u001B[39;49m\u001B[43m_query_attrs\u001B[49m\u001B[43m,\u001B[49m\n\u001B[1;32m    614\u001B[0m \u001B[43m    \u001B[49m\u001B[43m)\u001B[49m\n\u001B[1;32m    615\u001B[0m \u001B[38;5;28;01mexcept\u001B[39;00m MySQLInterfaceError \u001B[38;5;28;01mas\u001B[39;00m err:\n",
      "\u001B[0;31mMySQLInterfaceError\u001B[0m: Unknown column 'difficulty' in 'having clause'",
      "\nThe above exception was the direct cause of the following exception:\n",
      "\u001B[0;31mProgrammingError\u001B[0m                          Traceback (most recent call last)",
      "Cell \u001B[0;32mIn[158], line 1\u001B[0m\n\u001B[0;32m----> 1\u001B[0m \u001B[43mmycursor\u001B[49m\u001B[38;5;241;43m.\u001B[39;49m\u001B[43mexecute\u001B[49m\u001B[43m(\u001B[49m\u001B[43massigments_insert_id\u001B[49m\u001B[43m)\u001B[49m\n",
      "File \u001B[0;32m~/school/maturita_informatika/MaturitniProjekt/venv/lib/python3.10/site-packages/mysql/connector/cursor_cext.py:330\u001B[0m, in \u001B[0;36mCMySQLCursor.execute\u001B[0;34m(self, operation, params, multi)\u001B[0m\n\u001B[1;32m    325\u001B[0m             \u001B[38;5;28;01mraise\u001B[39;00m ProgrammingError(\n\u001B[1;32m    326\u001B[0m                 \u001B[38;5;124m\"\u001B[39m\u001B[38;5;124mNot all parameters were used in the SQL statement\u001B[39m\u001B[38;5;124m\"\u001B[39m\n\u001B[1;32m    327\u001B[0m             )\n\u001B[1;32m    329\u001B[0m \u001B[38;5;28;01mtry\u001B[39;00m:\n\u001B[0;32m--> 330\u001B[0m     result \u001B[38;5;241m=\u001B[39m \u001B[38;5;28;43mself\u001B[39;49m\u001B[38;5;241;43m.\u001B[39;49m\u001B[43m_cnx\u001B[49m\u001B[38;5;241;43m.\u001B[39;49m\u001B[43mcmd_query\u001B[49m\u001B[43m(\u001B[49m\n\u001B[1;32m    331\u001B[0m \u001B[43m        \u001B[49m\u001B[43mstmt\u001B[49m\u001B[43m,\u001B[49m\n\u001B[1;32m    332\u001B[0m \u001B[43m        \u001B[49m\u001B[43mraw\u001B[49m\u001B[38;5;241;43m=\u001B[39;49m\u001B[38;5;28;43mself\u001B[39;49m\u001B[38;5;241;43m.\u001B[39;49m\u001B[43m_raw\u001B[49m\u001B[43m,\u001B[49m\n\u001B[1;32m    333\u001B[0m \u001B[43m        \u001B[49m\u001B[43mbuffered\u001B[49m\u001B[38;5;241;43m=\u001B[39;49m\u001B[38;5;28;43mself\u001B[39;49m\u001B[38;5;241;43m.\u001B[39;49m\u001B[43m_buffered\u001B[49m\u001B[43m,\u001B[49m\n\u001B[1;32m    334\u001B[0m \u001B[43m        \u001B[49m\u001B[43mraw_as_string\u001B[49m\u001B[38;5;241;43m=\u001B[39;49m\u001B[38;5;28;43mself\u001B[39;49m\u001B[38;5;241;43m.\u001B[39;49m\u001B[43m_raw_as_string\u001B[49m\u001B[43m,\u001B[49m\n\u001B[1;32m    335\u001B[0m \u001B[43m    \u001B[49m\u001B[43m)\u001B[49m\n\u001B[1;32m    336\u001B[0m \u001B[38;5;28;01mexcept\u001B[39;00m MySQLInterfaceError \u001B[38;5;28;01mas\u001B[39;00m err:\n\u001B[1;32m    337\u001B[0m     \u001B[38;5;28;01mraise\u001B[39;00m get_mysql_exception(\n\u001B[1;32m    338\u001B[0m         msg\u001B[38;5;241m=\u001B[39merr\u001B[38;5;241m.\u001B[39mmsg, errno\u001B[38;5;241m=\u001B[39merr\u001B[38;5;241m.\u001B[39merrno, sqlstate\u001B[38;5;241m=\u001B[39merr\u001B[38;5;241m.\u001B[39msqlstate\n\u001B[1;32m    339\u001B[0m     ) \u001B[38;5;28;01mfrom\u001B[39;00m \u001B[38;5;21;01merr\u001B[39;00m\n",
      "File \u001B[0;32m~/school/maturita_informatika/MaturitniProjekt/venv/lib/python3.10/site-packages/mysql/connector/connection_cext.py:616\u001B[0m, in \u001B[0;36mCMySQLConnection.cmd_query\u001B[0;34m(self, query, raw, buffered, raw_as_string)\u001B[0m\n\u001B[1;32m    608\u001B[0m     \u001B[38;5;28mself\u001B[39m\u001B[38;5;241m.\u001B[39m_cmysql\u001B[38;5;241m.\u001B[39mquery(\n\u001B[1;32m    609\u001B[0m         query,\n\u001B[1;32m    610\u001B[0m         raw\u001B[38;5;241m=\u001B[39mraw,\n\u001B[0;32m   (...)\u001B[0m\n\u001B[1;32m    613\u001B[0m         query_attrs\u001B[38;5;241m=\u001B[39m\u001B[38;5;28mself\u001B[39m\u001B[38;5;241m.\u001B[39m_query_attrs,\n\u001B[1;32m    614\u001B[0m     )\n\u001B[1;32m    615\u001B[0m \u001B[38;5;28;01mexcept\u001B[39;00m MySQLInterfaceError \u001B[38;5;28;01mas\u001B[39;00m err:\n\u001B[0;32m--> 616\u001B[0m     \u001B[38;5;28;01mraise\u001B[39;00m get_mysql_exception(\n\u001B[1;32m    617\u001B[0m         err\u001B[38;5;241m.\u001B[39merrno, msg\u001B[38;5;241m=\u001B[39merr\u001B[38;5;241m.\u001B[39mmsg, sqlstate\u001B[38;5;241m=\u001B[39merr\u001B[38;5;241m.\u001B[39msqlstate\n\u001B[1;32m    618\u001B[0m     ) \u001B[38;5;28;01mfrom\u001B[39;00m \u001B[38;5;21;01merr\u001B[39;00m\n\u001B[1;32m    619\u001B[0m \u001B[38;5;28;01mexcept\u001B[39;00m \u001B[38;5;167;01mAttributeError\u001B[39;00m \u001B[38;5;28;01mas\u001B[39;00m err:\n\u001B[1;32m    620\u001B[0m     addr \u001B[38;5;241m=\u001B[39m (\n\u001B[1;32m    621\u001B[0m         \u001B[38;5;28mself\u001B[39m\u001B[38;5;241m.\u001B[39m_unix_socket \u001B[38;5;28;01mif\u001B[39;00m \u001B[38;5;28mself\u001B[39m\u001B[38;5;241m.\u001B[39m_unix_socket \u001B[38;5;28;01melse\u001B[39;00m \u001B[38;5;124mf\u001B[39m\u001B[38;5;124m\"\u001B[39m\u001B[38;5;132;01m{\u001B[39;00m\u001B[38;5;28mself\u001B[39m\u001B[38;5;241m.\u001B[39m_host\u001B[38;5;132;01m}\u001B[39;00m\u001B[38;5;124m:\u001B[39m\u001B[38;5;132;01m{\u001B[39;00m\u001B[38;5;28mself\u001B[39m\u001B[38;5;241m.\u001B[39m_port\u001B[38;5;132;01m}\u001B[39;00m\u001B[38;5;124m\"\u001B[39m\n\u001B[1;32m    622\u001B[0m     )\n",
      "\u001B[0;31mProgrammingError\u001B[0m: 1054 (42S22): Unknown column 'difficulty' in 'having clause'"
     ]
    }
   ],
   "source": [
    "mycursor.execute('Assigments')"
   ],
   "metadata": {
    "collapsed": false
   }
  },
  {
   "cell_type": "code",
   "execution_count": 82,
   "outputs": [
    {
     "name": "stdout",
     "output_type": "stream",
     "text": [
      "6\n",
      "13\n",
      "20\n",
      "27\n",
      "34\n",
      "41\n",
      "48\n",
      "55\n",
      "62\n",
      "69\n",
      "76\n",
      "83\n",
      "90\n",
      "97\n",
      "104\n",
      "111\n",
      "118\n",
      "125\n",
      "132\n",
      "139\n",
      "146\n",
      "153\n",
      "160\n",
      "167\n",
      "174\n",
      "181\n",
      "188\n",
      "195\n",
      "202\n",
      "209\n",
      "216\n",
      "223\n",
      "230\n",
      "237\n",
      "244\n",
      "35\n"
     ]
    }
   ],
   "source": [
    "mycursor.execute('SELECT id FROM Assignments WHERE DAYOFWEEK(problem_date) = 1')\n",
    "day_ids = []\n",
    "for x in mycursor:\n",
    "    print(x[0])\n",
    "    day_ids.append(x[0])\n",
    "print(len(day_ids))"
   ],
   "metadata": {
    "collapsed": false
   }
  },
  {
   "cell_type": "code",
   "execution_count": 83,
   "outputs": [
    {
     "name": "stdout",
     "output_type": "stream",
     "text": [
      "UPDATE Assignments SET problem_id = 294 WHERE id = 6\n",
      "UPDATE Assignments SET problem_id = 69 WHERE id = 13\n",
      "UPDATE Assignments SET problem_id = 183 WHERE id = 20\n",
      "UPDATE Assignments SET problem_id = 138 WHERE id = 27\n",
      "UPDATE Assignments SET problem_id = 295 WHERE id = 34\n",
      "UPDATE Assignments SET problem_id = 159 WHERE id = 41\n",
      "UPDATE Assignments SET problem_id = 71 WHERE id = 48\n",
      "UPDATE Assignments SET problem_id = 226 WHERE id = 55\n",
      "UPDATE Assignments SET problem_id = 115 WHERE id = 62\n",
      "UPDATE Assignments SET problem_id = 46 WHERE id = 69\n",
      "UPDATE Assignments SET problem_id = 47 WHERE id = 76\n",
      "UPDATE Assignments SET problem_id = 315 WHERE id = 83\n",
      "UPDATE Assignments SET problem_id = 228 WHERE id = 90\n",
      "UPDATE Assignments SET problem_id = 250 WHERE id = 97\n",
      "UPDATE Assignments SET problem_id = 24 WHERE id = 104\n",
      "UPDATE Assignments SET problem_id = 204 WHERE id = 111\n",
      "UPDATE Assignments SET problem_id = 313 WHERE id = 118\n",
      "UPDATE Assignments SET problem_id = 90 WHERE id = 125\n",
      "UPDATE Assignments SET problem_id = 113 WHERE id = 132\n",
      "UPDATE Assignments SET problem_id = 273 WHERE id = 139\n",
      "UPDATE Assignments SET problem_id = 271 WHERE id = 146\n",
      "UPDATE Assignments SET problem_id = 137 WHERE id = 153\n",
      "UPDATE Assignments SET problem_id = 182 WHERE id = 160\n",
      "UPDATE Assignments SET problem_id = 48 WHERE id = 167\n",
      "UPDATE Assignments SET problem_id = 181 WHERE id = 174\n",
      "UPDATE Assignments SET problem_id = 272 WHERE id = 181\n",
      "UPDATE Assignments SET problem_id = 249 WHERE id = 188\n",
      "UPDATE Assignments SET problem_id = 205 WHERE id = 195\n",
      "UPDATE Assignments SET problem_id = 70 WHERE id = 202\n",
      "UPDATE Assignments SET problem_id = 314 WHERE id = 209\n",
      "UPDATE Assignments SET problem_id = 158 WHERE id = 216\n",
      "UPDATE Assignments SET problem_id = 251 WHERE id = 223\n",
      "UPDATE Assignments SET problem_id = 293 WHERE id = 230\n",
      "UPDATE Assignments SET problem_id = 203 WHERE id = 237\n",
      "UPDATE Assignments SET problem_id = 91 WHERE id = 244\n"
     ]
    }
   ],
   "source": [
    "for i in range(35):\n",
    "    insert_into_Assigments = 'UPDATE Assignments SET problem_id = {} WHERE id = {}'.format(problem_ids[i], day_ids[i])\n",
    "    print(insert_into_Assigments)\n",
    "    mycursor.execute(insert_into_Assigments)\n",
    "    mydb.commit()"
   ],
   "metadata": {
    "collapsed": false
   }
  },
  {
   "cell_type": "code",
   "execution_count": 7,
   "outputs": [],
   "source": [
    "mycursor.execute(\"USE dailyAMC;\")"
   ],
   "metadata": {
    "collapsed": false
   }
  },
  {
   "cell_type": "code",
   "execution_count": 8,
   "outputs": [],
   "source": [
    "import pymysql\n",
    "from bs4 import BeautifulSoup"
   ],
   "metadata": {
    "collapsed": false
   }
  },
  {
   "cell_type": "code",
   "execution_count": 9,
   "outputs": [
    {
     "name": "stdout",
     "output_type": "stream",
     "text": [
      "On a sheet of paper, Isabella draws a circle of radius $2$, a circle of radius $3$, and all possible lines simultaneously tangent to both circles. Isabella notices that she has drawn exactly $k \\ge  0$ lines. How many different values of $k$ are possible?\n",
      "\n"
     ]
    }
   ],
   "source": [
    "mycursor.execute(\"SELECT statement FROM Problems WHERE id = 167\")\n",
    "\n",
    "# Retrieve the statement from the query result\n",
    "statement = mycursor.fetchone()[0]\n",
    "\n",
    "# Use Beautiful Soup to remove HTML tags from the statement and retrieve the pure LaTeX code\n",
    "soup = BeautifulSoup(statement, 'html.parser')\n",
    "latex_statement = soup.get_text()\n",
    "\n",
    "# Print the pure LaTeX statement\n",
    "print(latex_statement)"
   ],
   "metadata": {
    "collapsed": false
   }
  },
  {
   "cell_type": "code",
   "execution_count": 84,
   "outputs": [],
   "source": [
    "mycursor.execute(\"SELECT id, statement FROM Problems\")\n",
    "\n",
    "# Iterate over the query results and update the statement column with the pure LaTeX code\n",
    "for row in mycursor.fetchall():\n",
    "    id = row[0]\n",
    "    statement = row[1]\n",
    "    soup = BeautifulSoup(statement, 'html.parser')\n",
    "    latex_statement = soup.get_text()\n",
    "    mycursor.execute(\"UPDATE Problems SET statement = %s WHERE id = %s\", (latex_statement, id))\n",
    "    mydb.commit()"
   ],
   "metadata": {
    "collapsed": false
   }
  },
  {
   "cell_type": "code",
   "execution_count": 16,
   "outputs": [],
   "source": [
    "import re\n"
   ],
   "metadata": {
    "collapsed": false
   }
  },
  {
   "cell_type": "code",
   "execution_count": null,
   "outputs": [
    {
     "name": "stdout",
     "output_type": "stream",
     "text": [
      "-4020\n",
      "0\n",
      "40\n",
      "401\n",
      "4020\n",
      "585\n",
      "594\n",
      "672\n",
      "679\n",
      "694\n",
      "\\frac{x}{\\left|x\\right|}\n",
      "-x^2\n",
      "-2^x\n",
      "-x^{-1}\n",
      "\\sqrt[3]{x}\n",
      "38\n",
      "40\n",
      "42\n",
      "44\n",
      "46\n",
      "20\n",
      "21\n",
      "22\n",
      "23\n",
      "24\n",
      "0.04\n",
      "\\frac{0.4}{\\pi}\n",
      "0.4\n",
      "\\frac{4}{\\pi}\n",
      "4\n",
      "60^\\circ\n",
      "75^\\circ\n",
      "90^\\circ\n",
      "105^\\circ\n",
      "120^\\circ\n",
      "7\n",
      "8\n",
      "10\n",
      "12\n",
      "15\n",
      "8041\n",
      "8043\n",
      "8045\n",
      "8047\n",
      "8049\n",
      "\\frac{7}{15}\n",
      "\\frac{7}{8}\n",
      "\\frac{8}{7}\n",
      "\\frac{15}{8}\n",
      "\\frac{15}{7}\n",
      "0\n",
      "1\n",
      "2\n",
      "3\n",
      "4\n",
      "0\n",
      "1\n",
      "2\n",
      "4\n",
      "8\n",
      "30\n",
      "33\n",
      "35\n",
      "36\n",
      "37\n",
      "\\frac{\\sqrt{15}-3}{6}\n",
      "\\frac{6-\\sqrt{6\\sqrt{6}+2}}{12}\n",
      "\\frac{\\sqrt{2}-1}{2}\n",
      "\\frac{3-\\sqrt{3}}{6}\n",
      "\\frac{\\sqrt{3}-1}{2}\n",
      "\\frac{47}{72}\n",
      "\\frac{37}{56}\n",
      "\\frac{2}{3}\n",
      "\\frac{49}{72}\n",
      "\\frac{39}{56}\n",
      "\\frac{4\\sqrt{3}}{3}\n",
      "\\frac{10}{3}\n",
      "4\n",
      "\\frac{17}{4}\n",
      "6\n",
      "92\n",
      "144\n",
      "1568\n",
      "1698\n",
      "12,800\n",
      "45\n",
      "63\n",
      "64\n",
      "201\n",
      "1005\n",
      "2\n",
      "3\n",
      "8\n",
      "288\n",
      "2009\n",
      "4\n",
      "5\n",
      "6\n",
      "7\n",
      "8\n",
      "49\n",
      "50\n",
      "51\n",
      "52\n",
      "53\n",
      "12\n",
      "32\n",
      "48\n",
      "52\n",
      "68\n",
      "2\n",
      "12\n",
      "18\n",
      "22\n",
      "36\n",
      "560\n",
      "564\n",
      "568\n",
      "1498\n",
      "2255\n",
      "24.00\n",
      "24.50\n",
      "25.50\n",
      "28.00\n",
      "30.00\n",
      "11\n",
      "12\n",
      "13\n",
      "14\n",
      "15\n",
      "12\n",
      "\\frac{37}{3}\n",
      "\\frac{88}{7}\n",
      "13\n",
      "14\n",
      "20\n",
      "30\n",
      "40\n",
      "50\n",
      "60\n",
      "13\n",
      "14\n",
      "15\n",
      "16\n",
      "17\n",
      "7\n",
      "11\n",
      "17\n",
      "23\n",
      "77\n",
      "17\n",
      "18\n",
      "25\n",
      "26\n",
      "43\n",
      "324\n",
      "441\n",
      "630\n",
      "648\n",
      "882\n",
      "\\frac{1}{36}\n",
      "\\frac{1}{12}\n",
      "\\frac{1}{6}\n",
      "\\frac{1}{4}\n",
      "\\frac{5}{18}\n",
      "3-\\frac{\\pi}{2}\n",
      "\\frac{\\pi}{2}\n",
      "2\n",
      "\\frac{3\\pi}{4}\n",
      "1+\\frac{\\pi}{2}\n",
      "3\n",
      "3.5\n",
      "4\n",
      "4.5\n",
      "5\n",
      "27\n",
      "30\n",
      "33\n",
      "36\n",
      "42\n",
      "\\frac{11}{81}\n",
      "\\frac{13}{81}\n",
      "\\frac{5}{27}\n",
      "\\frac{17}{81}\n",
      "\\frac{19}{81}\n",
      "3\\sqrt{2}\n",
      "\\frac{13}{3}\n",
      "4\\sqrt{2}\n",
      "6\n",
      "\\frac{13}{2}\n",
      "2520\n",
      "2880\n",
      "3120\n",
      "3250\n",
      "3750\n",
      "\\frac{3}{5}\n",
      "\\frac{4}{5}\n",
      "1\n",
      "\\frac{6}{5}\n",
      "\\frac{4}{3}\n",
      "5\n",
      "6\n",
      "7\n",
      "8\n",
      "9\n",
      "38\n",
      "90\n",
      "154\n",
      "406\n",
      "1024\n",
      "1\n",
      "2\n",
      "3\n",
      "4\n",
      "5\n",
      "-226\n",
      "-144\n",
      "-20\n",
      "20\n",
      "144\n",
      "1500\n",
      "1560\n",
      "2320\n",
      "2480\n",
      "2500\n",
      "0\n",
      "\\sqrt{2}-1\n",
      "\\sqrt{3}-1\n",
      "1\n",
      "2\n",
      "\\sqrt{15}\n",
      "\\sqrt{21}\n",
      "2\\sqrt{6}\n",
      "5\n",
      "2\\sqrt{7}\n",
      "60^{\\circ}\n",
      "72^{\\circ}\n",
      "75^{\\circ}\n",
      "80^{\\circ}\n",
      "90^{\\circ}\n",
      "9\n",
      "11\n",
      "13\n",
      "14\n",
      "15\n",
      "10\n",
      "15\n",
      "20\n",
      "25\n",
      "30\n",
      "120\n",
      "160\n",
      "200\n",
      "240\n",
      "280\n",
      "\\frac{2}{5}\n",
      "\\frac{3}{7}\n",
      "\\frac{4}{7}\n",
      "\\frac{3}{5}\n",
      "\\frac{4}{5}\n",
      "8\n",
      "16\n",
      "25\n",
      "64\n",
      "96\n"
     ]
    }
   ],
   "source": [
    "mycursor.execute(\"SELECT id, solution_text FROM Solutions\")\n",
    "for row in mycursor.fetchall():\n",
    "    # print(row[0], row[1])\n",
    "    id = row[0]\n",
    "    new_solution = re.sub(r\"\\\\{0,1}(\\s)\", r'', row[1])\n",
    "    mycursor.execute(\"UPDATE Solutions SET solution_text = %s WHERE id = %s\", (new_solution, id))\n",
    "    mydb.commit()\n",
    "    print(new_solution)"
   ],
   "metadata": {
    "collapsed": false,
    "pycharm": {
     "is_executing": true
    }
   }
  },
  {
   "cell_type": "code",
   "execution_count": 13,
   "outputs": [],
   "source": [],
   "metadata": {
    "collapsed": false
   }
  },
  {
   "cell_type": "code",
   "execution_count": 14,
   "outputs": [
    {
     "name": "stdout",
     "output_type": "stream",
     "text": [
      "-g*n*o + (T*(h*(r*(e*(e*(di*(s*(t*(i*(n*(c*(t*(s*(e*(g*(m*(e*(n*(t*(s*(a*(r*(e*(c*(h*(o*(s*(e*(n*(a*(t*(r*(a*(n*(do*(m*(a*(m*(o*(n*(g*(t*(h*(e*(s*(e*(g*(m*(e*(n*(t*(s*(w*(h*(o*(s*(e*(e*(d*n)))))))))))))))))))))))))))))))))))))))))))))))))))))))))) - p*o*(i*(n*(t*(s*(a*(r*(e*(t*(h*(e*(v*(e*(r*(t*(i*(c*(e*(s*(o*(f*(a*(r*(e*(g*(u*(l*(a*(r*12)))))))))))))))))))))))))))))\n"
     ]
    }
   ],
   "source": [],
   "metadata": {
    "collapsed": false
   }
  }
 ],
 "metadata": {
  "kernelspec": {
   "display_name": "Python 3",
   "language": "python",
   "name": "python3"
  },
  "language_info": {
   "codemirror_mode": {
    "name": "ipython",
    "version": 2
   },
   "file_extension": ".py",
   "mimetype": "text/x-python",
   "name": "python",
   "nbconvert_exporter": "python",
   "pygments_lexer": "ipython2",
   "version": "2.7.6"
  }
 },
 "nbformat": 4,
 "nbformat_minor": 0
}
