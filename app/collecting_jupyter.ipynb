{
 "cells": [
  {
   "cell_type": "code",
   "execution_count": 1,
   "outputs": [],
   "source": [
    "import os\n",
    "\n",
    "from bs4 import BeautifulSoup  # library for working with html\n",
    "from urllib.request import Request, urlopen\n",
    "import re\n",
    "\n"
   ],
   "metadata": {
    "collapsed": false
   }
  },
  {
   "cell_type": "code",
   "execution_count": 194,
   "outputs": [
    {
     "name": "stdout",
     "output_type": "stream",
     "text": [
      "\n",
      "\n",
      "<p>What is the value of<img alt=\"\\[2^{1+2+3}-(2^1+2^2+2^3)?\\]\" class=\"latexcenter\" height=\"19\" src=\"//latex.artofproblemsolving.com/2/8/a/28aba0a1e7d8bcd9c7a8c9b2aab526c0329165c5.png\" width=\"188\"><img alt=\"$\\textbf{(A) }0 \\qquad \\textbf{(B) }50 \\qquad \\textbf{(C) }52 \\qquad \\textbf{(D) }54 \\qquad \\textbf{(E) }57$\" class=\"latex\" height=\"17\" src=\"//latex.artofproblemsolving.com/e/c/c/eccba4a9d828e648d741beb3a710eca7ab8de06c.png\" style=\"vertical-align: -4px\" width=\"389\"/>\n",
      "</img></p>\n",
      "<p>What is the value of<img alt=\"\\[2^{1+2+3}-(2^1+2^2+2^3)?\\]\" class=\"latexcenter\" height=\"19\" src=\"//latex.artofproblemsolving.com/2/8/a/28aba0a1e7d8bcd9c7a8c9b2aab526c0329165c5.png\" width=\"188\"><img alt=\"$\\textbf{(A) }0 \\qquad \\textbf{(B) }50 \\qquad \\textbf{(C) }52 \\qquad \\textbf{(D) }54 \\qquad \\textbf{(E) }57$\" class=\"latex\" height=\"17\" src=\"//latex.artofproblemsolving.com/e/c/c/eccba4a9d828e648d741beb3a710eca7ab8de06c.png\" style=\"vertical-align: -4px\" width=\"389\"/>\n",
      "</img></p>\n"
     ]
    }
   ],
   "source": [
    " #working with urls\n",
    "\n",
    "currentUrl = \"https://artofproblemsolving.com/wiki/index.php/2021_AMC_12A_Problems/Problem_1\"  # later will change last number in problem\n",
    "\n",
    "req = Request(  # getting the html\n",
    "    url=currentUrl,\n",
    "    headers={'User-Agent': 'Mozilla/5.0'}  # else throws 403\n",
    ")\n",
    "webpage = urlopen(req).read()\n",
    "soup = BeautifulSoup(webpage, \"html.parser\")\n",
    "\n",
    "problemHTML = '<span class=\"mw-headline\" id=\"Problem\">Problem</span>'\n",
    "problemTitle = soup.find(id=\"Problem\")\n",
    "print(soup.find(id=\"Problem\").parent.next_sibling)\n",
    "\n",
    "CurrentLine = soup.find(id=\"Problem\").parent.nextSibling.nextSibling\n",
    "# ProblemStatement = [str(CurrentLine)]\n",
    "print(CurrentLine)\n",
    "pattern = r'textbf\\{\\(A'\n",
    "print(CurrentLine)"
   ],
   "metadata": {
    "collapsed": false
   }
  },
  {
   "cell_type": "code",
   "execution_count": 195,
   "outputs": [],
   "source": [
    "def make_answers(last_img, mode):\n",
    "    if mode == 0:\n",
    "        img_tag = last_img.find(\"img\")\n",
    "        text = img_tag[\"alt\"]\n",
    "    else:\n",
    "        text = last_img[\"alt\"]\n",
    "\n",
    "    # print(text)\n",
    "    matches = re.findall(r'\\\\textbf{\\s*\\(([A-Z])\\)\\s*}(.*?)\\\\qquad', text)\n",
    "    matchE = re.findall(r'[E]\\)\\s*}(.*?)\\$', text)\n",
    "    # print(matchE)\n",
    "    result = {letter: value for letter, value in matches}\n",
    "    result['E'] = ''.join(matchE)\n",
    "    return result"
   ],
   "metadata": {
    "collapsed": false
   }
  },
  {
   "cell_type": "code",
   "execution_count": 196,
   "outputs": [],
   "source": [
    "look_next = 0\n",
    "if not len(re.findall(pattern, str(CurrentLine))) == 0:\n",
    "        look_next = 1\n",
    "        img_tags = CurrentLine.find_all('img')\n",
    "        if img_tags:\n",
    "            last_img = img_tags[-1]\n",
    "            result = make_answers(last_img, 1)\n",
    "            last_img.decompose()\n",
    "        ProblemStatement = [str(CurrentLine)]\n",
    "\n",
    "else:\n",
    "    ProblemStatement = [str(CurrentLine)]\n",
    "    while look_next == 0:\n",
    "        NextLine = CurrentLine.next_sibling\n",
    "        if not len(re.findall(pattern, str(NextLine))) == 0:\n",
    "            look_next = 1\n",
    "            result = make_answers(NextLine,0)\n",
    "\n",
    "        else:\n",
    "            ProblemStatement.append(str(NextLine))\n",
    "            CurrentLine = NextLine\n",
    "\n",
    "\n",
    "        print(\"1\")"
   ],
   "metadata": {
    "collapsed": false
   }
  },
  {
   "cell_type": "code",
   "execution_count": 197,
   "outputs": [
    {
     "name": "stdout",
     "output_type": "stream",
     "text": [
      "['<p>What is the value of<img alt=\"\\\\[2^{1+2+3}-(2^1+2^2+2^3)?\\\\]\" class=\"latexcenter\" height=\"19\" src=\"//latex.artofproblemsolving.com/2/8/a/28aba0a1e7d8bcd9c7a8c9b2aab526c0329165c5.png\" width=\"188\">\\n</img></p>']\n"
     ]
    }
   ],
   "source": [
    "print(ProblemStatement)"
   ],
   "metadata": {
    "collapsed": false
   }
  },
  {
   "cell_type": "code",
   "execution_count": 198,
   "outputs": [
    {
     "name": "stdout",
     "output_type": "stream",
     "text": [
      "{'A': '0 ', 'B': '50 ', 'C': '52 ', 'D': '54 ', 'E': '57'}\n"
     ]
    }
   ],
   "source": [
    "print(result)"
   ],
   "metadata": {
    "collapsed": false
   }
  },
  {
   "cell_type": "code",
   "execution_count": 188,
   "outputs": [
    {
     "name": "stdout",
     "output_type": "stream",
     "text": [
      "<p><img alt=\"$\\textbf{(A)} \\, 441 \\qquad\\textbf{(B)} \\, 761 \\qquad\\textbf{(C)} \\, 841 \\qquad\\textbf{(D)} \\, 921  \\qquad\\textbf{(E)} \\, 924$\" class=\"latex\" height=\"18\" src=\"//latex.artofproblemsolving.com/4/4/b/44b7668b7474411768e15f695e285031dd826f54.png\" style=\"vertical-align: -5px\" width=\"429\"/>\n",
      "</p>\n"
     ]
    }
   ],
   "source": [
    "print(NextLine)\n"
   ],
   "metadata": {
    "collapsed": false
   }
  },
  {
   "cell_type": "code",
   "execution_count": 199,
   "outputs": [
    {
     "name": "stdout",
     "output_type": "stream",
     "text": [
      "$\\textbf{(A)} \\, 441 \\qquad\\textbf{(B)} \\, 761 \\qquad\\textbf{(C)} \\, 841 \\qquad\\textbf{(D)} \\, 921  \\qquad\\textbf{(E)} \\, 924$\n",
      "[' \\\\, 924']\n",
      "{'A': ' \\\\, 441 ', 'B': ' \\\\, 761 ', 'C': ' \\\\, 841 ', 'D': ' \\\\, 921  ', 'E': ' \\\\, 924'}\n"
     ]
    }
   ],
   "source": [
    "import re\n",
    "img_tag = NextLine.find(\"img\")\n",
    "text = img_tag[\"alt\"]\n",
    "print(text)\n",
    "matches = re.findall(r'\\\\textbf{\\s*\\(([A-Z])\\)\\s*}(.*?)\\\\qquad', text)\n",
    "matchE = re.findall(r'[E]\\)\\s*}(.*?)\\$', text)\n",
    "print(matchE)\n",
    "result = {letter: value for letter, value in matches}\n",
    "result['E'] = ''.join(matchE)\n",
    "print(result)"
   ],
   "metadata": {
    "collapsed": false
   }
  },
  {
   "cell_type": "code",
   "execution_count": 182,
   "outputs": [
    {
     "data": {
      "text/plain": "'a'"
     },
     "execution_count": 182,
     "metadata": {},
     "output_type": "execute_result"
    }
   ],
   "source": [
    "''.join(['a'])\n"
   ],
   "metadata": {
    "collapsed": false
   }
  },
  {
   "cell_type": "code",
   "execution_count": 200,
   "outputs": [
    {
     "name": "stdout",
     "output_type": "stream",
     "text": [
      "<p>What is the value of<img alt=\"\\[2^{1+2+3}-(2^1+2^2+2^3)?\\]\" class=\"latexcenter\" height=\"19\" src=\"//latex.artofproblemsolving.com/2/8/a/28aba0a1e7d8bcd9c7a8c9b2aab526c0329165c5.png\" width=\"188\">\n",
      "</img></p>\n"
     ]
    }
   ],
   "source": [
    "# print(ProblemStatement)\n",
    "ProblemStatement = \"\\n\".join(ProblemStatement)\n",
    "print(ProblemStatement)"
   ],
   "metadata": {
    "collapsed": false
   }
  },
  {
   "cell_type": "code",
   "execution_count": 85,
   "outputs": [
    {
     "name": "stdout",
     "output_type": "stream",
     "text": [
      "2022\n",
      "17\n"
     ]
    },
    {
     "ename": "FileExistsError",
     "evalue": "[Errno 17] File exists: '2022_17'",
     "output_type": "error",
     "traceback": [
      "\u001B[0;31m---------------------------------------------------------------------------\u001B[0m",
      "\u001B[0;31mFileExistsError\u001B[0m                           Traceback (most recent call last)",
      "Cell \u001B[0;32mIn[85], line 16\u001B[0m\n\u001B[1;32m     14\u001B[0m \u001B[38;5;28mprint\u001B[39m(problemNumber)\n\u001B[1;32m     15\u001B[0m dirName \u001B[38;5;241m=\u001B[39m year \u001B[38;5;241m+\u001B[39m \u001B[38;5;124m\"\u001B[39m\u001B[38;5;124m_\u001B[39m\u001B[38;5;124m\"\u001B[39m \u001B[38;5;241m+\u001B[39m problemNumber\n\u001B[0;32m---> 16\u001B[0m \u001B[43mos\u001B[49m\u001B[38;5;241;43m.\u001B[39;49m\u001B[43mmkdir\u001B[49m\u001B[43m(\u001B[49m\u001B[38;5;124;43mf\u001B[39;49m\u001B[38;5;124;43m\"\u001B[39;49m\u001B[38;5;132;43;01m{\u001B[39;49;00m\u001B[43mdirName\u001B[49m\u001B[38;5;132;43;01m}\u001B[39;49;00m\u001B[38;5;124;43m\"\u001B[39;49m\u001B[43m)\u001B[49m\n",
      "\u001B[0;31mFileExistsError\u001B[0m: [Errno 17] File exists: '2022_17'"
     ]
    }
   ],
   "source": [
    "import wget\n",
    "import requests\n",
    "from flask import Flask, request, render_template_string\n",
    "from PIL import Image\n",
    "import os\n",
    "import urllib\n",
    "\n",
    "yearpattern =r\"\\d{4}\"\n",
    "year = re.findall(yearpattern, currentUrl)[0]\n",
    "\n",
    "problemNumberPattern = r\"\\d{1,2}$\"\n",
    "problemNumber = re.findall(problemNumberPattern, currentUrl)[-1]\n",
    "print(year)\n",
    "print(problemNumber)\n",
    "dirName = year + \"_\" + problemNumber\n",
    "os.mkdir(f\"{dirName}\")\n"
   ],
   "metadata": {
    "collapsed": false
   }
  },
  {
   "cell_type": "code",
   "execution_count": 84,
   "outputs": [
    {
     "name": "stdout",
     "output_type": "stream",
     "text": [
      "<p>Suppose $a$ is a real number such that the equation $$a\\cdot(\\sin{x}+\\sin{(2x)}) = \\sin{(3x)}$$\n",
      "has more than one solution in the interval $(0, \\pi)$. The set of all such $a$ that can be written\n",
      "in the form $$(p,q) \\cup (q,r),$$\n",
      "where $p, q,$ and $r$ are real numbers with $p &lt; q&lt; r$. What is $p+q+r$?\n",
      "</img></p>\n",
      "<p>$\\textbf{(A) } {-}4 \\qquad \\textbf{(B) } {-}1 \\qquad \\textbf{(C) } 0 \\qquad \\textbf{(D) } 1 \\qquad \\textbf{(E) } 4$\n",
      "</p>\n"
     ]
    }
   ],
   "source": [
    "print(ProblemStatement)"
   ],
   "metadata": {
    "collapsed": false
   }
  },
  {
   "cell_type": "code",
   "execution_count": 201,
   "outputs": [
    {
     "name": "stdout",
     "output_type": "stream",
     "text": [
      "<p>What is the value of<img alt=\"$$2^{1+2+3}-(2^1+2^2+2^3)?$$\" class=\"latexcenter\" height=\"19\" src=\"//latex.artofproblemsolving.com/2/8/a/28aba0a1e7d8bcd9c7a8c9b2aab526c0329165c5.png\" width=\"188\">\n",
      "</img></p>\n"
     ]
    }
   ],
   "source": [
    "regex = r\"\\\\\\[|\\\\\\]\"\n",
    "ProblemStatement = re.sub(regex, \"$$\", ProblemStatement)\n",
    "print(ProblemStatement)"
   ],
   "metadata": {
    "collapsed": false
   }
  },
  {
   "cell_type": "code",
   "execution_count": 202,
   "outputs": [],
   "source": [
    "img_regex = r'<img.*?alt=\"\\s*\\$(.*?)\\$\\s*\".*?>'\n",
    "\n",
    "ProblemStatement = re.sub(img_regex, r\"$\\1$\", ProblemStatement)"
   ],
   "metadata": {
    "collapsed": false
   }
  },
  {
   "cell_type": "code",
   "execution_count": 203,
   "outputs": [
    {
     "name": "stdout",
     "output_type": "stream",
     "text": [
      "<p>What is the value of$$2^{1+2+3}-(2^1+2^2+2^3)?$$\n",
      "</img></p>\n"
     ]
    }
   ],
   "source": [
    "print(ProblemStatement)\n"
   ],
   "metadata": {
    "collapsed": false
   }
  },
  {
   "cell_type": "code",
   "execution_count": 42,
   "outputs": [
    {
     "name": "stdout",
     "output_type": "stream",
     "text": [
      "[]\n"
     ]
    }
   ],
   "source": [
    "matches = re.findall(img_regex, ProblemStatement)\n",
    "print(matches)"
   ],
   "metadata": {
    "collapsed": false
   }
  },
  {
   "cell_type": "code",
   "execution_count": 80,
   "outputs": [
    {
     "name": "stdout",
     "output_type": "stream",
     "text": [
      "<p>Suppose $a$ is a real number such that the equation $$a\\cdot(\\sin{x}+\\sin{(2x)}) = \\sin{(3x)}$$\n",
      "has more than one solution in the interval $(0, \\pi)$. The set of all such $a$ that can be written\n",
      "in the form $$(p,q) \\cup (q,r),$$\n",
      "where $p, q,$ and $r$ are real numbers with $p &lt; q&lt; r$. What is $p+q+r$?\n",
      "</img></p>\n",
      "<p>$\\textbf{(A) } {-}4 \\qquad \\textbf{(B) } {-}1 \\qquad \\textbf{(C) } 0 \\qquad \\textbf{(D) } 1 \\qquad \\textbf{(E) } 4$\n",
      "</p>\n"
     ]
    }
   ],
   "source": [
    "print(ProblemStatement)"
   ],
   "metadata": {
    "collapsed": false
   }
  },
  {
   "cell_type": "code",
   "execution_count": 86,
   "outputs": [],
   "source": [
    "\n",
    "problem = open(f\"{dirName}/ProblemStatement.html\", \"w\")\n",
    "problem.write(ProblemStatement)\n",
    "problem.close()"
   ],
   "metadata": {
    "collapsed": false
   }
  },
  {
   "cell_type": "code",
   "execution_count": 14,
   "outputs": [
    {
     "name": "stdout",
     "output_type": "stream",
     "text": [
      "https://artofproblemsolving.com/wiki/index.php/2020_AMC_12A_Problems/Problem_1\n",
      "\n",
      "https://artofproblemsolving.com/wiki/index.php/2020_AMC_12A_Problems/Problem_2\n",
      "\n",
      "https://artofproblemsolving.com/wiki/index.php/2020_AMC_12A_Problems/Problem_3\n",
      "\n",
      "https://artofproblemsolving.com/wiki/index.php/2020_AMC_12A_Problems/Problem_4\n",
      "\n",
      "https://artofproblemsolving.com/wiki/index.php/2020_AMC_12A_Problems/Problem_5\n",
      "\n",
      "https://artofproblemsolving.com/wiki/index.php/2020_AMC_12A_Problems/Problem_6\n",
      "\n",
      "https://artofproblemsolving.com/wiki/index.php/2020_AMC_12A_Problems/Problem_7\n",
      "\n",
      "https://artofproblemsolving.com/wiki/index.php/2020_AMC_12A_Problems/Problem_8\n",
      "\n",
      "https://artofproblemsolving.com/wiki/index.php/2020_AMC_12A_Problems/Problem_9\n",
      "\n",
      "https://artofproblemsolving.com/wiki/index.php/2020_AMC_12A_Problems/Problem_10\n",
      "\n",
      "https://artofproblemsolving.com/wiki/index.php/2020_AMC_12A_Problems/Problem_11\n",
      "\n",
      "https://artofproblemsolving.com/wiki/index.php/2020_AMC_12A_Problems/Problem_12\n",
      "\n",
      "https://artofproblemsolving.com/wiki/index.php/2020_AMC_12A_Problems/Problem_13\n",
      "\n",
      "https://artofproblemsolving.com/wiki/index.php/2020_AMC_12A_Problems/Problem_14\n",
      "\n",
      "https://artofproblemsolving.com/wiki/index.php/2020_AMC_12A_Problems/Problem_15\n",
      "\n",
      "https://artofproblemsolving.com/wiki/index.php/2020_AMC_12A_Problems/Problem_16\n",
      "\n",
      "https://artofproblemsolving.com/wiki/index.php/2020_AMC_12A_Problems/Problem_17\n",
      "\n",
      "https://artofproblemsolving.com/wiki/index.php/2020_AMC_12A_Problems/Problem_18\n",
      "\n",
      "https://artofproblemsolving.com/wiki/index.php/2020_AMC_12A_Problems/Problem_19\n",
      "\n",
      "https://artofproblemsolving.com/wiki/index.php/2020_AMC_12A_Problems/Problem_20\n",
      "\n",
      "https://artofproblemsolving.com/wiki/index.php/2020_AMC_12A_Problems/Problem_21\n",
      "\n",
      "https://artofproblemsolving.com/wiki/index.php/2020_AMC_12A_Problems/Problem_22\n",
      "\n",
      "https://artofproblemsolving.com/wiki/index.php/2020_AMC_12A_Problems/Problem_23\n",
      "\n",
      "https://artofproblemsolving.com/wiki/index.php/2020_AMC_12A_Problems/Problem_24\n",
      "\n",
      "https://artofproblemsolving.com/wiki/index.php/2020_AMC_12A_Problems/Problem_25\n",
      "\n"
     ]
    }
   ],
   "source": [
    "import re\n",
    "base_url = \"https://artofproblemsolving.com/wiki/index.php/2020_AMC_12A_Problems/Problem_1\"\n",
    "for i in range(25):\n",
    "    new_number = str(i+1)\n",
    "    pattern = re.compile(r'\\d+$')\n",
    "    new_string = pattern.sub(new_number, base_url)\n",
    "    print(new_string + \"\\n\")"
   ],
   "metadata": {
    "collapsed": false
   }
  },
  {
   "cell_type": "code",
   "execution_count": 15,
   "outputs": [],
   "source": [
    "def get_soup(link):  # returns soup of whole page\n",
    "\n",
    "    req = Request(  # getting the html\n",
    "        url=link,\n",
    "        headers={'User-Agent': 'Mozilla/5.0'}  # else throws 403\n",
    "    )\n",
    "    webpage = urlopen(req).read()\n",
    "    soup = BeautifulSoup(webpage, \"html.parser\")\n",
    "    return soup\n"
   ],
   "metadata": {
    "collapsed": false
   }
  },
  {
   "cell_type": "code",
   "execution_count": 27,
   "outputs": [
    {
     "ename": "KeyError",
     "evalue": "0",
     "output_type": "error",
     "traceback": [
      "\u001B[0;31m---------------------------------------------------------------------------\u001B[0m",
      "\u001B[0;31mKeyError\u001B[0m                                  Traceback (most recent call last)",
      "Cell \u001B[0;32mIn[27], line 5\u001B[0m\n\u001B[1;32m      3\u001B[0m answer_soup \u001B[38;5;241m=\u001B[39m get_soup(answers_url)\n\u001B[1;32m      4\u001B[0m answers \u001B[38;5;241m=\u001B[39m answer_soup\u001B[38;5;241m.\u001B[39mfind_all(\u001B[38;5;124m'\u001B[39m\u001B[38;5;124mli\u001B[39m\u001B[38;5;124m'\u001B[39m)\n\u001B[0;32m----> 5\u001B[0m \u001B[38;5;28mprint\u001B[39m(\u001B[43manswers\u001B[49m\u001B[43m[\u001B[49m\u001B[38;5;241;43m2\u001B[39;49m\u001B[43m]\u001B[49m\u001B[43m[\u001B[49m\u001B[38;5;241;43m0\u001B[39;49m\u001B[43m]\u001B[49m)\n",
      "File \u001B[0;32m/usr/lib/python3/dist-packages/bs4/element.py:1321\u001B[0m, in \u001B[0;36mTag.__getitem__\u001B[0;34m(self, key)\u001B[0m\n\u001B[1;32m   1318\u001B[0m \u001B[38;5;28;01mdef\u001B[39;00m \u001B[38;5;21m__getitem__\u001B[39m(\u001B[38;5;28mself\u001B[39m, key):\n\u001B[1;32m   1319\u001B[0m     \u001B[38;5;124;03m\"\"\"tag[key] returns the value of the 'key' attribute for the Tag,\u001B[39;00m\n\u001B[1;32m   1320\u001B[0m \u001B[38;5;124;03m    and throws an exception if it's not there.\"\"\"\u001B[39;00m\n\u001B[0;32m-> 1321\u001B[0m     \u001B[38;5;28;01mreturn\u001B[39;00m \u001B[38;5;28;43mself\u001B[39;49m\u001B[38;5;241;43m.\u001B[39;49m\u001B[43mattrs\u001B[49m\u001B[43m[\u001B[49m\u001B[43mkey\u001B[49m\u001B[43m]\u001B[49m\n",
      "\u001B[0;31mKeyError\u001B[0m: 0"
     ]
    }
   ],
   "source": [
    "answers_url = f\"https://artofproblemsolving.com/wiki/index.php/{year}_AMC_12A_Answer_Key\"\n",
    "\n",
    "answer_soup = get_soup(answers_url)\n",
    "answers = answer_soup.find_all('li')\n"
   ],
   "metadata": {
    "collapsed": false
   }
  },
  {
   "cell_type": "code",
   "execution_count": 28,
   "outputs": [
    {
     "name": "stdout",
     "output_type": "stream",
     "text": [
      "C\n",
      "B\n",
      "B\n",
      "A\n",
      "C\n",
      "D\n",
      "A\n",
      "C\n",
      "B\n",
      "B\n",
      "C\n",
      "D\n",
      "B\n",
      "C\n",
      "B\n",
      "D\n",
      "A\n",
      "C\n",
      "E\n",
      "D\n",
      "A\n",
      "B\n",
      "B\n",
      "C\n",
      "B\n"
     ]
    }
   ],
   "source": [
    "for i in range(len(answers)):\n",
    "    print(answers[i].contents[0])"
   ],
   "metadata": {
    "collapsed": false
   }
  }
 ],
 "metadata": {
  "kernelspec": {
   "display_name": "Python 3",
   "language": "python",
   "name": "python3"
  },
  "language_info": {
   "codemirror_mode": {
    "name": "ipython",
    "version": 2
   },
   "file_extension": ".py",
   "mimetype": "text/x-python",
   "name": "python",
   "nbconvert_exporter": "python",
   "pygments_lexer": "ipython2",
   "version": "2.7.6"
  }
 },
 "nbformat": 4,
 "nbformat_minor": 0
}
